{
 "cells": [
  {
   "cell_type": "markdown",
   "metadata": {},
   "source": [
    "## Effect of fc'-embodied carbon relationship on structural components' embodied carbon"
   ]
  },
  {
   "cell_type": "markdown",
   "metadata": {},
   "source": [
    "Import required packages"
   ]
  },
  {
   "cell_type": "code",
   "execution_count": null,
   "metadata": {},
   "outputs": [],
   "source": [
    "using AsapSections"
   ]
  },
  {
   "cell_type": "markdown",
   "metadata": {},
   "source": [
    "Define constants\n",
    "based on ASCE with some assumptions on super imposed deadload"
   ]
  },
  {
   "cell_type": "code",
   "execution_count": null,
   "metadata": {},
   "outputs": [],
   "source": [
    "# function get_beam_carbon(fc′::Float64, ec::Float64, section::SolidSection;\n",
    "\n",
    "wLL =  1.92, #kN/m2\n",
    "wSDL = 1.5, #kN/m2, concrete 1\" finishing, 32 psf.\n",
    "\n",
    "ρ_concrete = 2400.0, #kg/m3\n",
    "\n",
    "#Structural spans\n",
    "span = 10.0, #m\n",
    "bay = 10.0, #m"
   ]
  },
  {
   "cell_type": "markdown",
   "metadata": {},
   "source": [
    "Dummy variables that will be turned into function's inputs"
   ]
  },
  {
   "cell_type": "code",
   "execution_count": null,
   "metadata": {},
   "outputs": [],
   "source": [
    "# Dummy\n",
    "fc′ = 28.0 #MPa\n",
    "fy = 420.0 #MPa\n",
    "ec = 0.1 #kgCO2e/kg concrete\n",
    "section_area = 0.4 #mm2"
   ]
  },
  {
   "cell_type": "markdown",
   "metadata": {},
   "source": [
    "Calculating moment and shear demand"
   ]
  },
  {
   "cell_type": "code",
   "execution_count": null,
   "metadata": {},
   "outputs": [],
   "source": [
    "# Demands\n",
    "w_load = (1.2*wSDL + 1.6*wLL)*bay\n",
    "w_beamDL = 1.2*ρ_concrete*section_area\n",
    "w = w_load + w_beamDL\n",
    "Mdemand = w * span^2/8\n",
    "Vdemand = w * span/2"
   ]
  },
  {
   "cell_type": "markdown",
   "metadata": {},
   "source": [
    "Use the demands and fc' to get section's reinforcement ratio<br>\n",
    "ρ_min is defined by the requires demands<br>\n",
    "ρ is capped (ρ_max) by the ductility of the section (ϵₛ> 0.005)\n",
    "\n"
   ]
  },
  {
   "cell_type": "code",
   "execution_count": null,
   "metadata": {},
   "outputs": [],
   "source": [
    "#use Mdemand and Vdemand to find the right reinforcement steel ratio (ρ_s)\n",
    "#area of steel is ρ_s*section_area(make sure you substract area of steel out too)\n",
    "\n",
    "#ρ_min is defined by the requires demands\n",
    "ρ_min = \n",
    "\n",
    "#ρ is capped (ρ_max) by the ductility of the section (ϵₛ> 0.005)\n",
    "ρ_max = \n",
    "ρ_selected = (ρ_min+ρ_max)/2\n",
    "\n",
    "reinforcement_area = section_area*ρ_selected"
   ]
  },
  {
   "cell_type": "markdown",
   "metadata": {},
   "source": [
    "Now we have a concrete section, we can define a ReinforcedConcrete section struct, along with calculations for demands."
   ]
  },
  {
   "cell_type": "code",
   "execution_count": null,
   "metadata": {},
   "outputs": [],
   "source": [
    "struct"
   ]
  }
 ],
 "metadata": {
  "kernelspec": {
   "display_name": "Julia 1.9.2",
   "language": "julia",
   "name": "julia-1.9"
  },
  "language_info": {
   "file_extension": ".jl",
   "mimetype": "application/julia",
   "name": "julia",
   "version": "1.9.2"
  }
 },
 "nbformat": 4,
 "nbformat_minor": 2
}
