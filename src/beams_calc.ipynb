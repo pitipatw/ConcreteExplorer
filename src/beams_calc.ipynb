{
 "cells": [
  {
   "cell_type": "markdown",
   "metadata": {},
   "source": [
    "## Effect of fc'-embodied carbon relationship on structural components' embodied carbon"
   ]
  },
  {
   "cell_type": "markdown",
   "metadata": {},
   "source": [
    "Activate and check packages"
   ]
  },
  {
   "cell_type": "code",
   "execution_count": 1,
   "metadata": {},
   "outputs": [
    {
     "name": "stderr",
     "output_type": "stream",
     "text": [
      "\u001b[32m\u001b[1m  Activating\u001b[22m\u001b[39m project at `~/dev/ConcreteExplorer`\n"
     ]
    },
    {
     "name": "stdout",
     "output_type": "stream",
     "text": [
      "\u001b[32m\u001b[1mStatus\u001b[22m\u001b[39m `~/dev/ConcreteExplorer/Project.toml`\n",
      "  \u001b[90m[acfe5cae] \u001b[39mAsapSections v0.1.0 `https://github.com/keithjlee/AsapSections#main`\n",
      "  \u001b[90m[336ed68f] \u001b[39mCSV v0.10.11\n",
      "  \u001b[90m[a93c6f00] \u001b[39mDataFrames v1.6.1\n",
      "  \u001b[90m[e9467ef8] \u001b[39mGLMakie v0.9.1\n",
      "  \u001b[90m[682c06a0] \u001b[39mJSON v0.21.4\n",
      "  \u001b[90m[ee78f7c6] \u001b[39mMakie v0.20.1\n",
      "  \u001b[90m[90137ffa] \u001b[39mStaticArrays v1.7.0\n"
     ]
    }
   ],
   "source": [
    "using Pkg\n",
    "Pkg.activate(\"..\");\n",
    "Pkg.status()"
   ]
  },
  {
   "cell_type": "code",
   "execution_count": 2,
   "metadata": {},
   "outputs": [],
   "source": [
    "using AsapSections"
   ]
  },
  {
   "cell_type": "markdown",
   "metadata": {},
   "source": [
    "Define constants\n",
    "based on ASCE with some assumptions on super imposed deadload"
   ]
  },
  {
   "cell_type": "code",
   "execution_count": 111,
   "metadata": {},
   "outputs": [
    {
     "name": "stdout",
     "output_type": "stream",
     "text": [
      "wLL = 0.00192 = 0.00192\n",
      "wSDL = 0.0015 = 0.0015\n",
      "ρ_concrete = 2.4e-5 = 2.4e-5\n"
     ]
    },
    {
     "data": {
      "text/plain": [
       "5000.0"
      ]
     },
     "metadata": {},
     "output_type": "display_data"
    }
   ],
   "source": [
    "# function get_beam_carbon(fc′::Float64, ec::Float64, section::SolidSection;\n",
    "\n",
    "# wLL =  1.92 #kN/m2\n",
    "# wSDL = 1.5 #kN/m2, concrete 1\" finishing, 32 psf.\n",
    "@show wLL = 1.92e-3 #N/mm2\n",
    "@show wSDL = 1.5e-3 #N/mm2\n",
    "\n",
    "@show ρ_concrete = 24000.0e-9 #N/mm3\n",
    "\n",
    "#Structural spans\n",
    "span = 5000.0 #mm\n",
    "bay  = 5000.0 #mm"
   ]
  },
  {
   "cell_type": "markdown",
   "metadata": {},
   "source": [
    "Dummy variables that will be turned into function's inputs"
   ]
  },
  {
   "cell_type": "code",
   "execution_count": 125,
   "metadata": {},
   "outputs": [
    {
     "data": {
      "text/plain": [
       "45000.0"
      ]
     },
     "metadata": {},
     "output_type": "display_data"
    }
   ],
   "source": [
    "# Dummy\n",
    "fc′ = 28.0 #MPa -> N/mm2\n",
    "fy = 420.0 #MPa -> N/mm2\n",
    "Es = 210_000 #MPa\n",
    "ec = 0.1 #kgCO2e/kg concrete\n",
    "\n",
    "bd_ratio = 0.5\n",
    "d = 300.0 #mm\n",
    "b = bd_ratio*d #mm\n",
    "\n",
    "p1 = [0.0 , 0.0]\n",
    "p2 = [b, 0.0]\n",
    "p3 = [b, -d]\n",
    "p4 = [0.0, -d]\n",
    "\n",
    "points = [p1, p2, p3, p4]\n",
    "section = CompoundSection([SolidSection(points)])\n",
    "section_area = section.area"
   ]
  },
  {
   "cell_type": "code",
   "execution_count": 126,
   "metadata": {},
   "outputs": [],
   "source": [
    "fieldnames(CompoundSection)\n",
    "d_cal = section.ymax -section.ymin\n",
    "@assert d_cal == d"
   ]
  },
  {
   "cell_type": "markdown",
   "metadata": {},
   "source": [
    "Calculating moment and shear demand"
   ]
  },
  {
   "cell_type": "code",
   "execution_count": 127,
   "metadata": {},
   "outputs": [
    {
     "name": "stdout",
     "output_type": "stream",
     "text": [
      "w_load = (1.2wSDL + 1.6wLL) * bay = 24.36\n",
      "w_beamDL = 1.2 * ρ_concrete * section_area = 1.296\n",
      "w = w_load + w_beamDL = 25.656\n",
      "Moment Demand: 8.0175e7\n",
      "Shear Demand: 64140.0\n"
     ]
    }
   ],
   "source": [
    "# Demands\n",
    "@show w_load = (1.2*wSDL + 1.6*wLL)*bay\n",
    "@show w_beamDL = 1.2*ρ_concrete*section_area\n",
    "@show w = w_load + w_beamDL\n",
    "Mdemand = w * span^2/8\n",
    "Vdemand = w * span/2\n",
    "println(\"Moment Demand: \", Mdemand)\n",
    "println(\"Shear Demand: \", Vdemand)"
   ]
  },
  {
   "cell_type": "markdown",
   "metadata": {},
   "source": [
    "Use the demands and fc' to get section's reinforcement ratio<br>\n",
    "ρ_min is defined by the requires demands<br>\n",
    "ρ is capped (ρ_max) by the ductility of the section (ϵₛ> 0.005)\n",
    "\n"
   ]
  },
  {
   "cell_type": "code",
   "execution_count": 128,
   "metadata": {},
   "outputs": [
    {
     "name": "stdout",
     "output_type": "stream",
     "text": [
      "a = Mdemand / (0.85 * fc′ * b) = 22457.983193277312\n"
     ]
    },
    {
     "data": {
      "text/plain": [
       "381.7857142857143"
      ]
     },
     "metadata": {},
     "output_type": "display_data"
    }
   ],
   "source": [
    "@show a = Mdemand/(0.85*fc′*b)\n",
    "\n",
    "as = Mdemand/(fy*(d-a/2))\n",
    "ϵs_calc = 0.85*fc′*a*b/Es"
   ]
  },
  {
   "cell_type": "code",
   "execution_count": null,
   "metadata": {},
   "outputs": [],
   "source": [
    "#use Mdemand and Vdemand to find the right reinforcement steel ratio (ρ_s)\n",
    "#area of steel is ρ_s*section_area(make sure you substract area of steel out too)\n",
    "\n",
    "\n",
    "\n",
    "\n",
    "#ρ_min is defined by the requires demands\n",
    "ρ_min = \n",
    "\n",
    "#ρ is capped (ρ_max) by the ductility of the section (ϵₛ> 0.005)\n",
    "ρ_max = \n",
    "ρ_selected = (ρ_min+ρ_max)/2\n",
    "\n",
    "reinforcement_area = section_area*ρ_selected"
   ]
  },
  {
   "cell_type": "markdown",
   "metadata": {},
   "source": [
    "Now we have a concrete section, we can define a ReinforcedConcrete section struct, along with calculations for demands."
   ]
  },
  {
   "cell_type": "code",
   "execution_count": null,
   "metadata": {},
   "outputs": [],
   "source": [
    "struct"
   ]
  }
 ],
 "metadata": {
  "kernelspec": {
   "display_name": "Julia 1.9.4",
   "language": "julia",
   "name": "julia-1.9"
  },
  "language_info": {
   "file_extension": ".jl",
   "mimetype": "application/julia",
   "name": "julia",
   "version": "1.9.4"
  }
 },
 "nbformat": 4,
 "nbformat_minor": 2
}
