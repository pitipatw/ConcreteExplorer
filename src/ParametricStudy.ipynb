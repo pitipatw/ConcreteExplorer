{
 "cells": [
  {
   "cell_type": "markdown",
   "metadata": {},
   "source": [
    "# Parameter study on the numerical model"
   ]
  },
  {
   "cell_type": "markdown",
   "metadata": {},
   "source": [
    "Deflection assumptions for servicability analysis of Pixel.frame\n",
    "\n",
    "1. Higher strength concrete implies smaller deflection.<br>\n",
    "**-> Higher fc' pieces can be used**\n",
    "<br> <br>\n",
    "2. Maximum deflection for uniform loads or non-mid-beam load are always less than concentrated mid loads.<br>\n",
    "**-> If concentrated mid load passes the servicability limit, other uniform/non-mid-beam load must also passes.**\n",
    "<br><br>\n",
    "*However, the current numerical model requires 2 load points, so it will be 2 points close to the mid-beam (Ls = 0.45L) 2 loads P1 = P2 = P/2.\n",
    "<br><br>\n",
    "3. From the paper, number of deviators does not significantly affect the load-deflection curve, except from 0 to 1 (no deviator to 1 or more deviators).<br>\n",
    "**-> We will stick with 1 midpoint deviator, except for secondary beams, we will use 0 deviator.**"
   ]
  },
  {
   "cell_type": "markdown",
   "metadata": {},
   "source": [
    "Load required packages "
   ]
  },
  {
   "cell_type": "code",
   "execution_count": 1,
   "metadata": {},
   "outputs": [
    {
     "name": "stdout",
     "output_type": "stream",
     "text": [
      "\u001b[32m\u001b[1mStatus\u001b[22m\u001b[39m `C:\\Users\\pitipatw\\dev\\ConcreteExplorer\\Project.toml`\n",
      "  \u001b[90m[acfe5cae] \u001b[39mAsapSections v0.1.0 `https://github.com/keithjlee/AsapSections#main`\n",
      "  \u001b[90m[336ed68f] \u001b[39mCSV v0.10.12\n",
      "  \u001b[90m[13f3f980] \u001b[39mCairoMakie v0.11.6\n",
      "  \u001b[90m[a93c6f00] \u001b[39mDataFrames v1.6.1\n",
      "  \u001b[90m[59287772] \u001b[39mFormatting v0.4.2\n",
      "  \u001b[90m[f6369f11] \u001b[39mForwardDiff v0.10.36\n",
      "  \u001b[90m[e9467ef8] \u001b[39mGLMakie v0.9.6\n",
      "  \u001b[90m[682c06a0] \u001b[39mJSON v0.21.4\n",
      "  \u001b[90m[ee78f7c6] \u001b[39mMakie v0.20.5\n",
      "  \u001b[90m[01bcebdf] \u001b[39mNonconvex v2.1.3\n",
      "  \u001b[90m[d3d89cbb] \u001b[39mNonconvexMMA v1.0.0\n",
      "  \u001b[90m[b43a31b8] \u001b[39mNonconvexNLopt v0.1.8\n",
      "  \u001b[90m[429524aa] \u001b[39mOptim v1.9.1\n",
      "  \u001b[90m[7f7a1694] \u001b[39mOptimization v3.20.2\n",
      "  \u001b[90m[4e6fcdb7] \u001b[39mOptimizationNLopt v0.1.8\n",
      "  \u001b[90m[49802e3a] \u001b[39mProgressBars v1.5.1\n",
      "  \u001b[90m[90137ffa] \u001b[39mStaticArrays v1.9.2\n",
      "  \u001b[90m[3a884ed6] \u001b[39mUnPack v1.0.2\n",
      "  \u001b[90m[e88e6eb3] \u001b[39mZygote v0.6.69\n",
      "  \u001b[90m[10745b16] \u001b[39mStatistics v1.9.0\n"
     ]
    }
   ],
   "source": [
    "using Pkg\n",
    "Pkg.status()\n",
    "Pkg.instantiate()\n",
    "# Pkg.update()"
   ]
  },
  {
   "cell_type": "code",
   "execution_count": 2,
   "metadata": {},
   "outputs": [],
   "source": [
    "using CSV, DataFrames\n",
    "using UnPack\n",
    "using Makie, GLMakie "
   ]
  },
  {
   "cell_type": "markdown",
   "metadata": {},
   "source": [
    "### Include associate files/functions"
   ]
  },
  {
   "cell_type": "code",
   "execution_count": 3,
   "metadata": {},
   "outputs": [
    {
     "data": {
      "text/plain": [
       "get_Icrack"
      ]
     },
     "metadata": {},
     "output_type": "display_data"
    }
   ],
   "source": [
    "include(\"Functions/definition.jl\")\n",
    "include(\"Functions/functions.jl\")\n",
    "include(\"Functions/Interpolations.jl\")"
   ]
  },
  {
   "cell_type": "markdown",
   "metadata": {},
   "source": [
    "..........Notes.......... <br>\n",
    "Use Ld = Ls (this test only) <br>\n",
    "Eccentricities measured from the neutral axis <br>\n",
    "M is the moment in the constant region <br>\n",
    "Mg = moment due to the selfweight <br>\n",
    "M(x) is the moment equation due to the load <br>\n",
    "Units N, mm, MPa <br>\n"
   ]
  },
  {
   "cell_type": "markdown",
   "metadata": {},
   "source": [
    "input parameters <br>\n",
    "\n",
    "Varying <br>\n",
    "fc′ (28-56) <br>\n",
    "number of deviators (0 1 2 3) <br>\n",
    "deviator positions (/3 , /4, )<br>\n",
    "point load positions (0.2L -> 0.49L)<br>\n",
    "\n"
   ]
  },
  {
   "cell_type": "code",
   "execution_count": 4,
   "metadata": {},
   "outputs": [
    {
     "data": {
      "text/plain": [
       "0.2:0.05:0.45"
      ]
     },
     "metadata": {},
     "output_type": "display_data"
    }
   ],
   "source": [
    "set_fc′ = 28.0:1.0:56.0 \n",
    "n_deviators = [0,1,2,3]\n",
    "deviators_pos = 0.5:0.1:1.0\n",
    "p_pos = 0.2:0.05:0.45"
   ]
  },
  {
   "cell_type": "code",
   "execution_count": 5,
   "metadata": {},
   "outputs": [
    {
     "name": "stdout",
     "output_type": "stream",
     "text": [
      "ps_force = 890.0 / sind(24.0) = 2188.148068661072\n",
      "concrete_force = ps_force * cos((24.0pi) / 180.0) = 1998.9727287747523\n"
     ]
    },
    {
     "data": {
      "text/plain": [
       "1.0508147768804715e-5"
      ]
     },
     "metadata": {},
     "output_type": "display_data"
    }
   ],
   "source": [
    "#Inputs\n",
    "    #..........Notes..........\n",
    "    # Use Ld = Ls (this test only) \n",
    "    # Eccentricities measured from the neutral axis\n",
    "    # M is the moment in the constant region\n",
    "    # Mg = moment due to the selfweight\n",
    "    # M(x) is the moment equation due to the load\n",
    "    #Units N, mm, MPa\n",
    "\n",
    "    #   Material Properties\n",
    "    fc′ = 36.0 # Concrete strength [MPa] ****Should update on the test day using cylinder test***\n",
    "    # Ec = 4700.0*sqrt(fc′) # MPa  ACI fc-> Concrete modulus relationship [MPa]\n",
    "    Ec = 58000.0 # MPa  from the cylinder test\n",
    "    Eps = 70000.0 #Post tensioning steel modulus [MPa]\n",
    "    fpy = 0.002 * Eps #MPa  \n",
    "    #Safe load on the website https://www.engineeringtoolbox.com/wire-rope-strength-d_1518.html \n",
    "    # is ~ 150 MPa. Currently 140 MPa :)\n",
    "\n",
    "    # PixelFrame section/element properties\n",
    "    centroid_to_top = 91.5 #[mm]\n",
    "    em = 230.0 # Eccentricity at the middle of the member [mm]\n",
    "    es = 0.0 # Eccentricity at the support of the member   [mm]\n",
    "    em0 = em # Initial eccentricity at the midspan        [mm]\n",
    "    dps0 = centroid_to_top + em0 # Initial distance from the top to the point of application of the load [mm]\n",
    "    Ls = 502.7 # Distance from support to the first load point [mm]\n",
    "    Ld = Ls    # Distance from support to the first deviator [mm]\n",
    "    L = 2000.0 # Total length of the member [mm]\n",
    "    # two 1/4\" bars with 1200 lb capacity\n",
    "    Aps = 2.0 * (0.25 * 25.4)^2 * pi / 4.0 # Total area of the post tensioned steel [mm2]\n",
    " \n",
    "    Atr = 18537.69 # Transformed area of the cross section [mm2]\n",
    "    Itr = 6.4198e+07 #moment of inertia [mm4]\n",
    "    # Itr = 1.082e+8 \n",
    "\n",
    "    Zb = Itr/centroid_to_top # Elastic modulus of the concrete section from the centroid to extreme tension fiber [mm3]\n",
    "    # If there are multiple materials, transformed section geometry is needed for Zb (and everything related to section area)\n",
    "\n",
    "\n",
    "    #forces\n",
    "    w = Atr / 10^9 * 2400.0 * 9.81 # Selfweight [N/mm]\n",
    "    mg = w * L^2 / 8.0 # Moment due to selfweight [Nmm]\n",
    "    fr = 0.7 * sqrt(fc′) # Concrete cracking strenght [MPa]\n",
    "    r = sqrt(Itr / Atr) # Radius of gyration [mm]\n",
    "    @show ps_force = 890.0/sind(24.0) # Post tensioning force [N]\n",
    "    Mdec = ps_force*em\n",
    "    @show concrete_force = ps_force*cos(24.0*pi/180.0) # \n",
    "    fpe = ps_force/Aps # Effective post tensioning stress [MPa] ***will input the one on the test day***\n",
    "    ϵpe = fpe / Eps # Effective post tensioning strain [mm/mm]\n",
    "    #find moment due to the applied force.\n",
    "    ϵce = ps_force*em/Zb/Ec - concrete_force/Atr/Ec # effetive strain in the concrete [mm/mm]\n"
   ]
  },
  {
   "cell_type": "markdown",
   "metadata": {},
   "source": [
    "Setup load increments"
   ]
  },
  {
   "cell_type": "code",
   "execution_count": 19,
   "metadata": {},
   "outputs": [
    {
     "data": {
      "text/plain": [
       "0.0:11180.048:9.27943984e6"
      ]
     },
     "metadata": {},
     "output_type": "display_data"
    }
   ],
   "source": [
    "st = 10.0 #step size of the force  inputs\n",
    "P_lb = 0:st:8300  #[lb] (This is based on the test data)\n",
    "P_N  = 4.448*P_lb # [N]\n",
    "P = P_N # This depends on what unit you want to use in the calculation.\n",
    "M = P*Ls/2.0 #given M inputs"
   ]
  },
  {
   "cell_type": "markdown",
   "metadata": {},
   "source": [
    "Assumptions"
   ]
  },
  {
   "cell_type": "code",
   "execution_count": 20,
   "metadata": {},
   "outputs": [
    {
     "name": "stdout",
     "output_type": "stream",
     "text": [
      "mcre = Aps * fpe * (em + Zb / Atr) + fr * Zb = 3.5328848800667063e6\n",
      "dmcr = (Aps * em * (em + Zb / Atr) * (mcre - mg)) / (((1 / Ω) * Itr * Ec) / Eps + Aps * (r ^ 2 - (em * Zb) / Atr)) = 162334.89432065873\n"
     ]
    },
    {
     "data": {
      "text/plain": [
       "6.4198e7"
      ]
     },
     "metadata": {},
     "output_type": "display_data"
    }
   ],
   "source": [
    "Icr = Itr\n",
    "fps = fpe\n",
    "dps = dps0\n",
    "Ω =  getOmega(Sec)\n",
    "#we could do Mcr = 0 , becuase we crack at the begining anyway. \n",
    "Mcr = getMcr(Mat, Sec, f, Ω)\n",
    "# Mcr = 0.00001\n",
    "# Mcr = 10.0\n",
    "Ie = Itr"
   ]
  },
  {
   "cell_type": "markdown",
   "metadata": {},
   "source": [
    "Initial values"
   ]
  },
  {
   "cell_type": "code",
   "execution_count": 22,
   "metadata": {},
   "outputs": [
    {
     "data": {
      "text/plain": [
       "0"
      ]
     },
     "metadata": {},
     "output_type": "display_data"
    }
   ],
   "source": [
    "# Create structs\n",
    "Mat = Material(fc′, Ec, Eps, fpy)\n",
    "Sec = Section(em, es, em0, dps0, Ls, Ld, L, Aps, Atr, Itr, Zb)\n",
    "f   = Loads(w, mg, fr, r, fpe, ϵpe, ϵce, Mdec)\n",
    "\n",
    "Ωc = 0\n",
    "c  = 0\n",
    "Ac_req  = 0 \n",
    "Lc = 0\n",
    "fc = 0.0\n",
    "δ_mid = 0\n",
    "δ_dev = 0\n",
    "fc = 0.0\n",
    "Mi = 0"
   ]
  },
  {
   "cell_type": "markdown",
   "metadata": {},
   "source": [
    "Setup plots"
   ]
  },
  {
   "cell_type": "code",
   "execution_count": 42,
   "metadata": {},
   "outputs": [
    {
     "data": {
      "text/plain": [
       "2-element Vector{Axis}:\n",
       " Axis (0 plots)\n",
       " Axis (0 plots)"
      ]
     },
     "metadata": {},
     "output_type": "display_data"
    }
   ],
   "source": [
    "fig1 = Figure(backgroundcolor = RGBf(0.98,0.98,0.98) , resolution = (1500, 1500))\n",
    "fig2 = Figure(backgroundcolor = RGBf(0.98,0.98,0.98) , resolution = (2000, 1500))\n",
    "ga = fig1[1,1] = GridLayout()\n",
    "# gb = fig1[1,2] = GridLayout()\n",
    "gb = fig2[1,1] = GridLayout()\n",
    "title_name1 = [ \"dps\", \"fps\", \"DisMid\", \"c\", \"Inertia(Crack(blue), eff(red))\"] \n",
    "title_name2 = [ \"Original\", \"Shifted by Moment crack\"]\n",
    "fig_monitor = Figure(resolution = (1200, 2000))\n",
    "x1 = [\"P [N]\", \"P [N]\", \"P [N]\", \"P [N]\", \"P [N]\"]\n",
    "y1 = [\"dps [mm]\", \"fps [MPa]\", \"DisMid [mm]\", \"c [mm]\", \"Inertia [mm4]\"]\n",
    "x2 = [\"Displacement [mm]\", \"Displacement [mm]\"]\n",
    "y2 = [\"P [N]\", \"P [N]\"]\n",
    "axis_monitor1 = [Axis(ga[i,1], title = title_name1[i],ylabel = y1[i], xlabel = x1[i]) for i in 1:5]\n",
    "axis_monitor2 = [Axis(gb[i,1], title = title_name2[i],ylabel = y2[i], xlabel = x2[i], yticks = -400000.:2500:40000)  for i in 1:2]\n"
   ]
  },
  {
   "cell_type": "code",
   "execution_count": 24,
   "metadata": {},
   "outputs": [],
   "source": [
    "fig1"
   ]
  },
  {
   "cell_type": "code",
   "execution_count": 25,
   "metadata": {},
   "outputs": [],
   "source": [
    "fig2"
   ]
  },
  {
   "cell_type": "markdown",
   "metadata": {},
   "source": [
    "Setup output containers"
   ]
  },
  {
   "cell_type": "code",
   "execution_count": 26,
   "metadata": {},
   "outputs": [
    {
     "data": {
      "text/plain": [
       "831-element Vector{Float64}:\n",
       " 0.0\n",
       " 0.0\n",
       " 0.0\n",
       " 0.0\n",
       " 0.0\n",
       " 0.0\n",
       " 0.0\n",
       " 0.0\n",
       " 0.0\n",
       " 0.0\n",
       " ⋮\n",
       " 0.0\n",
       " 0.0\n",
       " 0.0\n",
       " 0.0\n",
       " 0.0\n",
       " 0.0\n",
       " 0.0\n",
       " 0.0\n",
       " 0.0"
      ]
     },
     "metadata": {},
     "output_type": "display_data"
    }
   ],
   "source": [
    "lenP = length(P)\n",
    "fps_history     = zeros(lenP)\n",
    "dps_history     = zeros(lenP)\n",
    "Icr_history     = zeros(lenP)\n",
    "Ie_history      = zeros(lenP)\n",
    "c_history       = zeros(lenP)\n",
    "dis_history     = zeros(lenP)\n",
    "dis_dev_history = zeros(lenP)\n",
    "fc_history      = zeros(lenP)"
   ]
  },
  {
   "cell_type": "markdown",
   "metadata": {},
   "source": [
    "Following fig7 on the paper."
   ]
  },
  {
   "cell_type": "code",
   "execution_count": 27,
   "metadata": {},
   "outputs": [],
   "source": [
    "conv1 = 1\n",
    "counter1 = 0\n",
    "counter2 = 0\n",
    "for i in eachindex(M)\n",
    "    Mi = M[i] \n",
    "    Lc = getLc(Sec,Mcr,Mi)\n",
    "    # Lc = L/2\n",
    "    # println(Lc)\n",
    "    # break\n",
    "    counter1 = 0\n",
    "    conv1 = 1\n",
    "    while conv1 > 1e-6\n",
    "        counter1 += 1 \n",
    "        if counter1 > 1000\n",
    "            println(\"Warning: 1st iteration did not converge\")\n",
    "            break\n",
    "        end\n",
    "        # println(\"HI\")\n",
    "        #assume value of Itr and fps\n",
    "\n",
    "        conv2 = 1\n",
    "        counter2 = 0\n",
    "        while conv2 > 1e-6\n",
    "            # println(\"counter\")\n",
    "            counter2 += 1 \n",
    "            if counter2 > 1000\n",
    "                println(\"Warning: 2nd iteration did not converge\")\n",
    "                break\n",
    "            end\n",
    "            Ωc = getΩc(Ω, Icr, Lc, Sec)\n",
    "            # ps_force_i = Aps*fps\n",
    "\n",
    "            c = 10.0 #dummy\n",
    "            conv_c = 1 \n",
    "            counter_c = 0 \n",
    "            while conv_c > 1e-6 \n",
    "                counter_c += 1\n",
    "                if counter_c > 1000\n",
    "                    println(\"Warning: 3rd iteration did not converge\")\n",
    "                    break\n",
    "                end\n",
    "                #centroid of concrete area might not be at c/2\n",
    "                Ac_req = Mi/(dps-c/2)/(0.85*fc′)\n",
    "            \n",
    "                # Ac_req = ps_force_i /0.85/fc′\n",
    "                new_c = get_C(Ac_req, test = true)\n",
    "                conv_c = abs(new_c - c)/new_c\n",
    "                c = new_c\n",
    "            end\n",
    "            #calculate Icr\n",
    "            Icr_calc = get_Icrack(c, test = true)\n",
    "\n",
    "            conv2 = abs(Icr_calc - Icr)/Icr_calc\n",
    "\n",
    "            Icr = Icr_calc\n",
    "            \n",
    "        end\n",
    "       \n",
    "        # println(\"Icr = \", Icr)\n",
    "        # println(\"Ac_req \", Ac_req)\n",
    "        # println(\"c: \", c)\n",
    "        # @show Mcr , Mdec, Mi , Icr, Itr\n",
    "        Ie = getIe(Mcr, Mdec, Mi, Icr, Itr)\n",
    "        # println(\"Ie/Icr\" , Ie/Icr)\n",
    "        δ_mid, δ_dev , e  = getDelta(Mat, Sec, f, Ie, Mi, em,fps)\n",
    "        dps = dps0 - (δ_mid - δ_dev)\n",
    "        fc = fps/Eps*c/(dps-c) + Mi/Itr*c\n",
    "        # println(\"fc: \", fc)\n",
    "        # @assert fc <= 0.003\n",
    "        fps_calc = getFps2(Mat, Sec, f , Ωc, c, dps, fc)\n",
    "        conv1 = abs(fps_calc - fps) / fps\n",
    "        fps = fps_calc\n",
    "        #plot convergence of fps, icr and dps using Makie\n",
    "\n",
    "    end\n",
    "\n",
    "    # δmid = getDeltamid()\n",
    "    #record the history\n",
    "    fps_history[i] = fps\n",
    "    dps_history[i] = dps\n",
    "    Icr_history[i] = Icr\n",
    "    Ie_history[i]  = Ie\n",
    "    c_history[i]   = c\n",
    "    dis_history[i] = δ_mid\n",
    "    fc_history[i]  = fc\n",
    "    dis_dev_history[i] = δ_dev\n",
    "end\n"
   ]
  },
  {
   "cell_type": "code",
   "execution_count": 54,
   "metadata": {},
   "outputs": [
    {
     "data": {
      "text/plain": [
       "6.4198e7"
      ]
     },
     "metadata": {},
     "output_type": "display_data"
    }
   ],
   "source": [
    "Itr"
   ]
  },
  {
   "cell_type": "code",
   "execution_count": 56,
   "metadata": {},
   "outputs": [
    {
     "data": {
      "text/plain": [
       "831-element Vector{Float64}:\n",
       " 6.4198e7\n",
       " 6.4198e7\n",
       " 6.4198e7\n",
       " 6.4198e7\n",
       " 6.4198e7\n",
       " 6.4198e7\n",
       " 6.4198e7\n",
       " 6.4198e7\n",
       " 6.4198e7\n",
       " 6.4198e7\n",
       " ⋮\n",
       " 3.20770201460585e6\n",
       " 3.1955037797347195e6\n",
       " 3.1833684836005387e6\n",
       " 3.1712957235680437e6\n",
       " 3.159285100092784e6\n",
       " 3.1473362166934917e6\n",
       " 3.1354486799247377e6\n",
       " 3.1236220993498582e6\n",
       " 3.111856087514171e6"
      ]
     },
     "metadata": {},
     "output_type": "display_data"
    }
   ],
   "source": [
    "Ie_history"
   ]
  },
  {
   "cell_type": "markdown",
   "metadata": {},
   "source": [
    "Plot the results"
   ]
  },
  {
   "cell_type": "code",
   "execution_count": 57,
   "metadata": {},
   "outputs": [],
   "source": [
    "scatter!(axis_monitor1[1], P, dps_history, color = :red)\n",
    "scatter!(axis_monitor1[2], P, fps_history, color = :red)\n",
    "# scatter!(axis_monitor1[2], P, fc_history, color = :blue)\n",
    "scatter!(axis_monitor1[3], P, dis_history, color = :red)\n",
    "# scatter!(axis_monitor1[3], P, dis_dev_history, color = :blue)\n",
    "scatter!(axis_monitor1[4], P, c_history, color = :red)\n",
    "scatter!(axis_monitor1[5], P, Ie_history, color = :red ,label = \"Ie\")\n",
    "scatter!(axis_monitor1[5], P, Icr_history, color = :blue, label= \"Icr\")\n",
    "#add verticle line on each plot for Mcr\n",
    "for i in 1:5\n",
    "    vlines!(axis_monitor1[i], [Mcr*2/Ls], color = :black, label = \"Mcr\", linewidth = 5)\n",
    "    #add verticle line for Mdec\n",
    "    vlines!(axis_monitor1[i], [Mdec*2/Ls], color = :green, label = \"Mdec\")\n",
    "\n",
    "end"
   ]
  },
  {
   "cell_type": "code",
   "execution_count": 47,
   "metadata": {},
   "outputs": [],
   "source": [
    "fig1"
   ]
  },
  {
   "cell_type": "markdown",
   "metadata": {},
   "source": [
    "Load the test dataset to be compared with"
   ]
  },
  {
   "cell_type": "code",
   "execution_count": 44,
   "metadata": {},
   "outputs": [
    {
     "data": {
      "text/plain": [
       "GLMakie.Screen(...)"
      ]
     },
     "metadata": {},
     "output_type": "display_data"
    }
   ],
   "source": [
    "#put this into another functin to be compared with.\n",
    "df = CSV.File(joinpath(@__DIR__,\"pixelframe_beam1.csv\"))\n",
    "@show df = DataFrame(df)\n",
    "test_P = df[!,2]\n",
    "test_d = df[!,3]\n",
    "\n",
    "# convert to in to mm\n",
    "test_d = test_d .* 25.4\n",
    "\n",
    "test_P = test_P .* 4.44822\n",
    "\n",
    "# figure2 = Figure(resolution = (800, 600))\n",
    "# ax1 = Axis(figure2[1, 1], ylabel = \"Load [lb]\", xlabel = \"Displacement [in]\")\n",
    "# ax2 = Axis(figure2[2, 1], ylabel = \"fps[MPa]\", xlabel = \"Displacement [in]\")\n",
    "\n",
    "plot!(axis_monitor2[1],dis_history[1:end],P[1:end], label = \"calc\", color = :blue)\n",
    "plot!(axis_monitor2[1],test_d,test_P, label = \"test\", color = :red)\n",
    "\n",
    "plot!(axis_monitor2[2],dis_history[1:end].-0.4,P[1:end].-Mcr*2/Ls, label = \"calc\", color = :blue)\n",
    "plot!(axis_monitor2[2],test_d,test_P, label = \"test\", color = :red)\n",
    "# display(fig_monitor)\n",
    "\n",
    "\n",
    "fig3 = Figure(size = (800, 600))\n",
    "ax3 = Axis(fig3[1, 1], ylabel = \"Force Diff [N]\", xlabel = \"Displacement [mm]\")\n",
    "plot!(ax3,dis_history[1:end],P[1:end].-Mcr*2/Ls, label = \"calc\", color = :blue)\n",
    "plot!(axis_monitor2[2], dis_history, dis_history.*1000, label = \"dis/1000\", color = :green, markersize = 1)\n",
    "#plot \n",
    "\n",
    "\n",
    "display(fig1)\n",
    "display(fig2)\n",
    "# display(fig3)"
   ]
  }
 ],
 "metadata": {
  "kernelspec": {
   "display_name": "Julia 1.9.2",
   "language": "julia",
   "name": "julia-1.9"
  },
  "language_info": {
   "file_extension": ".jl",
   "mimetype": "application/julia",
   "name": "julia",
   "version": "1.9.2"
  }
 },
 "nbformat": 4,
 "nbformat_minor": 2
}
