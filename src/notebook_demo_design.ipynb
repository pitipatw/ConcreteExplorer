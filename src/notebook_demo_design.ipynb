{
 "cells": [
  {
   "cell_type": "markdown",
   "metadata": {},
   "source": [
    "# PixelFrame engineering design demo"
   ]
  },
  {
   "cell_type": "markdown",
   "metadata": {},
   "source": [
    "To do\n",
    "\n",
    "actual length for absolute value of tendon profile\n",
    "servicability from the model"
   ]
  },
  {
   "cell_type": "markdown",
   "metadata": {},
   "source": [
    "Import required packages"
   ]
  },
  {
   "cell_type": "code",
   "execution_count": 1,
   "metadata": {},
   "outputs": [
    {
     "name": "stderr",
     "output_type": "stream",
     "text": [
      "\u001b[32m\u001b[1m  Activating\u001b[22m\u001b[39m project at `c:\\Users\\pitipatw\\dev\\ConcreteExplorer`\n"
     ]
    },
    {
     "name": "stdout",
     "output_type": "stream",
     "text": [
      "\u001b[32m\u001b[1mStatus\u001b[22m\u001b[39m `C:\\Users\\pitipatw\\dev\\ConcreteExplorer\\Project.toml`\n",
      "  \u001b[90m[acfe5cae] \u001b[39mAsapSections v0.1.0 `https://github.com/keithjlee/AsapSections#main`\n",
      "  \u001b[90m[336ed68f] \u001b[39mCSV v0.10.12\n",
      "  \u001b[90m[13f3f980] \u001b[39mCairoMakie v0.11.6\n",
      "  \u001b[90m[a93c6f00] \u001b[39mDataFrames v1.6.1\n",
      "  \u001b[90m[59287772] \u001b[39mFormatting v0.4.2\n",
      "  \u001b[90m[f6369f11] \u001b[39mForwardDiff v0.10.36\n",
      "  \u001b[90m[e9467ef8] \u001b[39mGLMakie v0.9.6\n",
      "  \u001b[90m[682c06a0] \u001b[39mJSON v0.21.4\n",
      "  \u001b[90m[ee78f7c6] \u001b[39mMakie v0.20.5\n",
      "  \u001b[90m[01bcebdf] \u001b[39mNonconvex v2.1.3\n",
      "  \u001b[90m[d3d89cbb] \u001b[39mNonconvexMMA v1.0.0\n",
      "  \u001b[90m[b43a31b8] \u001b[39mNonconvexNLopt v0.1.8\n",
      "  \u001b[90m[429524aa] \u001b[39mOptim v1.9.1\n",
      "  \u001b[90m[7f7a1694] \u001b[39mOptimization v3.20.2\n",
      "  \u001b[90m[4e6fcdb7] \u001b[39mOptimizationNLopt v0.1.8\n",
      "  \u001b[90m[49802e3a] \u001b[39mProgressBars v1.5.1\n",
      "  \u001b[90m[90137ffa] \u001b[39mStaticArrays v1.9.2\n",
      "  \u001b[90m[3a884ed6] \u001b[39mUnPack v1.0.2\n",
      "  \u001b[90m[e88e6eb3] \u001b[39mZygote v0.6.69\n",
      "  \u001b[90m[10745b16] \u001b[39mStatistics v1.9.0"
     ]
    },
    {
     "name": "stdout",
     "output_type": "stream",
     "text": [
      "\n"
     ]
    }
   ],
   "source": [
    "using Pkg\n",
    "Pkg.activate(\"..\");\n",
    "Pkg.status()\n",
    "Pkg.instantiate()"
   ]
  },
  {
   "cell_type": "code",
   "execution_count": 2,
   "metadata": {},
   "outputs": [],
   "source": [
    "using CSV\n",
    "using DataFrames\n",
    "using JSON\n",
    "using Dates\n",
    "using ProgressBars\n",
    "using UnPack\n",
    "using Makie, GLMakie\n"
   ]
  },
  {
   "cell_type": "markdown",
   "metadata": {},
   "source": [
    "Load functions associate with deflection calculation"
   ]
  },
  {
   "cell_type": "markdown",
   "metadata": {},
   "source": [
    "Check current directory"
   ]
  },
  {
   "cell_type": "code",
   "execution_count": 3,
   "metadata": {},
   "outputs": [
    {
     "data": {
      "text/plain": [
       "\"c:\\\\Users\\\\pitipatw\\\\dev\\\\ConcreteExplorer\\\\src\""
      ]
     },
     "metadata": {},
     "output_type": "display_data"
    }
   ],
   "source": [
    "pwd()"
   ]
  },
  {
   "cell_type": "code",
   "execution_count": 4,
   "metadata": {},
   "outputs": [],
   "source": [
    "include(\"Functions/definition.jl\");\n",
    "include(\"Functions/functions.jl\");\n",
    "include(\"Functions/structuralelement.jl\")\n",
    "include(\"Functions/generalfunctions.jl\")\n",
    "\n",
    "include(\"Functions/get_Deflection.jl\")\n",
    "include(\"Functions/interpolations.jl\");"
   ]
  },
  {
   "cell_type": "markdown",
   "metadata": {},
   "source": [
    "Load the precalculated catalog"
   ]
  },
  {
   "cell_type": "code",
   "execution_count": 6,
   "metadata": {},
   "outputs": [
    {
     "name": "stdout",
     "output_type": "stream",
     "text": [
      "The catalog was sorted by ascending order from:\n",
      "carbon -> fc′ -> as -> dps"
     ]
    },
    {
     "name": "stdout",
     "output_type": "stream",
     "text": [
      "\n",
      "\u001b[1m20×15 DataFrame\u001b[0m\n",
      "\u001b[1m Row \u001b[0m│\u001b[1m fc′     \u001b[0m\u001b[1m fR1     \u001b[0m\u001b[1m fR3     \u001b[0m\u001b[1m as      \u001b[0m\u001b[1m dps     \u001b[0m\u001b[1m fpe     \u001b[0m\u001b[1m Pu      \u001b[0m\u001b[1m Mu      \u001b[0m\u001b[1m Vu      \u001b[0m\u001b[1m carbon  \u001b[0m\u001b[1m L       \u001b[0m\u001b[1m t       \u001b[0m\u001b[1m Lc      \u001b[0m\u001b[1m T       \u001b[0m\u001b[1m ID    \u001b[0m\n",
      "     │\u001b[90m Float64 \u001b[0m\u001b[90m Float64 \u001b[0m\u001b[90m Float64 \u001b[0m\u001b[90m Float64 \u001b[0m\u001b[90m Float64 \u001b[0m\u001b[90m Float64 \u001b[0m\u001b[90m Float64 \u001b[0m\u001b[90m Float64 \u001b[0m\u001b[90m Float64 \u001b[0m\u001b[90m Float64 \u001b[0m\u001b[90m Float64 \u001b[0m\u001b[90m Float64 \u001b[0m\u001b[90m Float64 \u001b[0m\u001b[90m Float64 \u001b[0m\u001b[90m Int64 \u001b[0m\n",
      "─────┼─────────────────────────────────────────────────────────────────────────────────────────────────────────────────────────────────────\n",
      "   1 │    37.0     2.85     3.37    198.0      0.0      0.0  575.38   140.272  56.2229  14.2971    205.0     35.0     30.0      2.0      2\n",
      "   2 │    37.0     2.85     3.37    198.0      0.0     46.5  570.592  138.826  56.2229  14.2971    205.0     35.0     30.0      2.0      5\n",
      "   3 │    37.0     2.85     3.37    198.0      0.0     93.0  565.804  137.553  56.2229  14.2971    205.0     35.0     30.0      2.0      8\n",
      "   4 │    37.0     2.85     3.37    198.0      0.0    139.5  561.017  136.417  56.2229  14.2971    205.0     35.0     30.0      2.0     11\n",
      "   5 │    37.0     2.85     3.37    198.0      0.0    186.0  556.229  135.38   56.2229  14.2971    205.0     35.0     30.0      2.0     14\n",
      "   6 │    37.0     2.85     3.37    198.0      0.0    232.5  551.441  134.414  56.2229  14.2971    205.0     35.0     30.0      2.0     17\n",
      "   7 │    37.0     2.85     3.37    198.0      0.0    279.0  546.654  134.773  56.2229  14.2971    205.0     35.0     30.0      2.0     20\n",
      "   8 │    37.0     2.85     3.37    198.0      0.0    325.5  541.866  137.865  56.2229  14.2971    205.0     35.0     30.0      2.0     23\n",
      "   9 │    37.0     2.85     3.37    198.0      0.0    372.0  537.078  140.935  56.2229  14.2971    205.0     35.0     30.0      2.0     26\n",
      "  10 │    37.0     2.85     3.37    198.0      0.0    418.5  532.291  143.994  56.2229  14.2971    205.0     35.0     30.0      2.0     29\n",
      "  11 │    37.0     2.85     3.37    198.0      0.0    465.0  527.503  147.039  56.2229  14.2971    205.0     35.0     30.0      2.0     32\n",
      "  12 │    37.0     2.85     3.37    198.0      0.0    511.5  522.715  150.052  56.2229  14.2971    205.0     35.0     30.0      2.0     35\n",
      "  13 │    37.0     2.85     3.37    198.0      0.0    558.0  517.928  153.062  56.2229  14.2971    205.0     35.0     30.0      2.0     38\n",
      "  14 │    37.0     2.85     3.37    198.0      0.0    604.5  513.14   156.047  56.2229  14.2971    205.0     35.0     30.0      2.0     41\n",
      "  15 │    37.0     2.85     3.37    198.0      0.0    651.0  508.353  159.011  56.2229  14.2971    205.0     35.0     30.0      2.0     44\n",
      "  16 │    37.0     2.85     3.37    198.0      0.0    697.5  503.565  161.958  56.2229  14.2971    205.0     35.0     30.0      2.0     47\n",
      "  17 │    37.0     2.85     3.37    198.0      0.0    744.0  498.777  164.885  56.2229  14.2971    205.0     35.0     30.0      2.0     50\n",
      "  18 │    37.0     2.85     3.37    198.0      0.0    790.5  493.99   167.828  56.2229  14.2971    205.0     35.0     30.0      2.0     53\n",
      "  19 │    37.0     2.85     3.37    198.0      0.0    837.0  489.202  170.723  56.2229  14.2971    205.0     35.0     30.0      2.0     56\n",
      "  20 │    37.0     2.85     3.37    198.0      0.0    883.5  484.414  172.122  56.2229  14.2971    205.0     35.0     30.0      2.0     59\n"
     ]
    }
   ],
   "source": [
    "# catalog = CSV.read(\"Catalogs/test_catalog.csv\", DataFrame); #load the pre-calc catalog\n",
    "catalog = CSV.read(\"Catalogs/FEB1_1_catalog_static.csv\", DataFrame); #load the pre-calc catalog\n",
    "\n",
    "sort!(catalog, [:carbon, :fc′, :as, :dps])\n",
    "\n",
    "\n",
    "println(\"The catalog was sorted by ascending order from:\\ncarbon -> fc′ -> as -> dps\")\n",
    "println(catalog[1:20,:])"
   ]
  },
  {
   "cell_type": "markdown",
   "metadata": {},
   "source": [
    "Load the demand file   "
   ]
  },
  {
   "cell_type": "code",
   "execution_count": 6,
   "metadata": {},
   "outputs": [
    {
     "name": "stdout",
     "output_type": "stream",
     "text": [
      "Demands were loads from:\n",
      "c:\\Users\\pitipatw\\dev\\ConcreteExplorer\\src\\Demands/test_input_CISBAT_dataset.json\n",
      "\u001b[1m10×8 DataFrame\u001b[0m\n",
      "\u001b[1m Row \u001b[0m│\u001b[1m vu       \u001b[0m\u001b[1m s_idx \u001b[0m\u001b[1m pu           \u001b[0m\u001b[1m e_idx \u001b[0m\u001b[1m type    \u001b[0m\u001b[1m ec_max    \u001b[0m\u001b[1m mu      \u001b[0m\u001b[1m idx   \u001b[0m\n",
      "     │\u001b[90m Float64  \u001b[0m\u001b[90m Int64 \u001b[0m\u001b[90m Float64      \u001b[0m\u001b[90m Int64 \u001b[0m\u001b[90m String  \u001b[0m\u001b[90m Float64   \u001b[0m\u001b[90m Float64 \u001b[0m\u001b[90m Int64 \u001b[0m\n",
      "─────┼──────────────────────────────────────────────────────────────────────────\n",
      "   1 │ 129.755       0  -1.4779e-15       0  primary  0.0423597  129.755      1\n",
      "   2 │ 129.755       1  -7.38948e-16      0  primary  0.117666   194.632      2\n",
      "   3 │ 129.755       2  -7.38948e-16      0  primary  0.180421   259.509      3\n",
      "   4 │  45.9809      3   1.4779e-15       0  primary  0.230625   283.246      4\n",
      "   5 │  45.9809      4   7.38948e-16      0  primary  0.268278   306.237      5\n",
      "   6 │  45.9809      5  -7.38948e-16      0  primary  0.29338    329.227      6\n",
      "   7 │  45.9809      6  -7.38948e-16      0  primary  0.305931   352.218      7\n",
      "   8 │  45.9809      7   0.0              0  primary  0.305931   352.218      8\n",
      "   9 │  45.9809      8   0.0              0  primary  0.29338    329.227      9\n",
      "  10 │  45.9809      9  -7.38948e-16      0  primary  0.268278   306.237     10\n"
     ]
    }
   ],
   "source": [
    "#load demands into a dictionary\n",
    "demand_path = joinpath(@__DIR__, \"Demands/test_input_CISBAT_dataset.json\");\n",
    "open(demand_path, \"r\") do f\n",
    "    global demands = DataFrame(JSON.parse(f, dicttype=Dict{String,Any}))\n",
    "    ns = size(demands)[1]\n",
    "    demands[!,:idx] = 1:ns\n",
    "    println(\"Demands were loads from:\\n\", demand_path)\n",
    "end\n",
    "println(demands[1:10,:])"
   ]
  },
  {
   "cell_type": "markdown",
   "metadata": {},
   "source": [
    "The demand catalog was labeled with 0 index scheme, add 1 so they are compatible with Julia 1 index scheme."
   ]
  },
  {
   "cell_type": "code",
   "execution_count": 7,
   "metadata": {},
   "outputs": [
    {
     "name": "stdout",
     "output_type": "stream",
     "text": [
      "old_min_e_idx = minimum(demands[!, \"e_idx\"]) = 0\n",
      "old_min_s_idx = minimum(demands[!, \"s_idx\"]) = 0\n",
      "old_max_e_idx = maximum(demands[!, \"e_idx\"]) = 29\n",
      "old_max_s_idx = maximum(demands[!, \"s_idx\"]) = 13\n"
     ]
    }
   ],
   "source": [
    "@show old_min_e_idx = minimum(demands[!, \"e_idx\"]);\n",
    "@show old_min_s_idx = minimum(demands[!, \"s_idx\"]);\n",
    "\n",
    "@show old_max_e_idx = maximum(demands[!, \"e_idx\"]);\n",
    "@show old_max_s_idx = maximum(demands[!, \"s_idx\"]);\n",
    "\n"
   ]
  },
  {
   "cell_type": "code",
   "execution_count": 8,
   "metadata": {},
   "outputs": [],
   "source": [
    "demands[!,\"e_idx\"] .+= 1 ;\n",
    "demands[!,\"s_idx\"] .+= 1 ;"
   ]
  },
  {
   "cell_type": "code",
   "execution_count": 9,
   "metadata": {},
   "outputs": [
    {
     "name": "stdout",
     "output_type": "stream",
     "text": [
      "new_min_e_idx = minimum(demands[!, \"e_idx\"]) = 1\n",
      "new_min_s_idx = minimum(demands[!, \"s_idx\"]) = 1\n",
      "new_max_e_idx = maximum(demands[!, \"e_idx\"]) = 30\n",
      "new_max_s_idx = maximum(demands[!, \"s_idx\"]) = 14\n"
     ]
    }
   ],
   "source": [
    "@show new_min_e_idx = minimum(demands[!, \"e_idx\"]);\n",
    "@show new_min_s_idx = minimum(demands[!, \"s_idx\"]);\n",
    "\n",
    "@show new_max_e_idx = maximum(demands[!, \"e_idx\"]);\n",
    "@show new_max_s_idx = maximum(demands[!, \"s_idx\"]);\n"
   ]
  },
  {
   "cell_type": "code",
   "execution_count": 10,
   "metadata": {},
   "outputs": [
    {
     "name": "stdout",
     "output_type": "stream",
     "text": [
      "\u001b[1m14×8 DataFrame\u001b[0m\n",
      "\u001b[1m Row \u001b[0m│\u001b[1m vu       \u001b[0m\u001b[1m s_idx \u001b[0m\u001b[1m pu           \u001b[0m\u001b[1m e_idx \u001b[0m\u001b[1m type    \u001b[0m\u001b[1m ec_max    \u001b[0m\u001b[1m mu      \u001b[0m\u001b[1m idx   \u001b[0m\n",
      "     │\u001b[90m Float64  \u001b[0m\u001b[90m Int64 \u001b[0m\u001b[90m Float64      \u001b[0m\u001b[90m Int64 \u001b[0m\u001b[90m String  \u001b[0m\u001b[90m Float64   \u001b[0m\u001b[90m Float64 \u001b[0m\u001b[90m Int64 \u001b[0m\n",
      "─────┼──────────────────────────────────────────────────────────────────────────\n",
      "   1 │ 129.755       1  -1.4779e-15       1  primary  0.0423597  129.755      1\n",
      "   2 │ 129.755       2  -7.38948e-16      1  primary  0.117666   194.632      2\n",
      "   3 │ 129.755       3  -7.38948e-16      1  primary  0.180421   259.509      3\n",
      "   4 │  45.9809      4   1.4779e-15       1  primary  0.230625   283.246      4\n",
      "   5 │  45.9809      5   7.38948e-16      1  primary  0.268278   306.237      5\n",
      "   6 │  45.9809      6  -7.38948e-16      1  primary  0.29338    329.227      6\n",
      "   7 │  45.9809      7  -7.38948e-16      1  primary  0.305931   352.218      7\n",
      "   8 │  45.9809      8   0.0              1  primary  0.305931   352.218      8\n",
      "   9 │  45.9809      9   0.0              1  primary  0.29338    329.227      9\n",
      "  10 │  45.9809     10  -7.38948e-16      1  primary  0.268278   306.237     10\n",
      "  11 │  45.9809     11   0.0              1  primary  0.230625   283.246     11\n",
      "  12 │ 129.755      12   1.4779e-15       1  primary  0.180421   259.509     12\n",
      "  13 │ 129.755      13   2.95579e-15      1  primary  0.117666   194.632     13\n",
      "  14 │ 129.755      14   2.95579e-15      1  primary  0.0423597  129.755     14\n"
     ]
    },
    {
     "data": {
      "text/html": [
       "<div><div style = \"float: left;\"><span>14×8 DataFrame</span></div><div style = \"clear: both;\"></div></div><div class = \"data-frame\" style = \"overflow-x: scroll;\"><table class = \"data-frame\" style = \"margin-bottom: 6px;\"><thead><tr class = \"header\"><th class = \"rowNumber\" style = \"font-weight: bold; text-align: right;\">Row</th><th style = \"text-align: left;\">vu</th><th style = \"text-align: left;\">s_idx</th><th style = \"text-align: left;\">pu</th><th style = \"text-align: left;\">e_idx</th><th style = \"text-align: left;\">type</th><th style = \"text-align: left;\">ec_max</th><th style = \"text-align: left;\">mu</th><th style = \"text-align: left;\">idx</th></tr><tr class = \"subheader headerLastRow\"><th class = \"rowNumber\" style = \"font-weight: bold; text-align: right;\"></th><th title = \"Float64\" style = \"text-align: left;\">Float64</th><th title = \"Int64\" style = \"text-align: left;\">Int64</th><th title = \"Float64\" style = \"text-align: left;\">Float64</th><th title = \"Int64\" style = \"text-align: left;\">Int64</th><th title = \"String\" style = \"text-align: left;\">String</th><th title = \"Float64\" style = \"text-align: left;\">Float64</th><th title = \"Float64\" style = \"text-align: left;\">Float64</th><th title = \"Int64\" style = \"text-align: left;\">Int64</th></tr></thead><tbody><tr><td class = \"rowNumber\" style = \"font-weight: bold; text-align: right;\">1</td><td style = \"text-align: right;\">129.755</td><td style = \"text-align: right;\">1</td><td style = \"text-align: right;\">-1.4779e-15</td><td style = \"text-align: right;\">1</td><td style = \"text-align: left;\">primary</td><td style = \"text-align: right;\">0.0423597</td><td style = \"text-align: right;\">129.755</td><td style = \"text-align: right;\">1</td></tr><tr><td class = \"rowNumber\" style = \"font-weight: bold; text-align: right;\">2</td><td style = \"text-align: right;\">129.755</td><td style = \"text-align: right;\">2</td><td style = \"text-align: right;\">-7.38948e-16</td><td style = \"text-align: right;\">1</td><td style = \"text-align: left;\">primary</td><td style = \"text-align: right;\">0.117666</td><td style = \"text-align: right;\">194.632</td><td style = \"text-align: right;\">2</td></tr><tr><td class = \"rowNumber\" style = \"font-weight: bold; text-align: right;\">3</td><td style = \"text-align: right;\">129.755</td><td style = \"text-align: right;\">3</td><td style = \"text-align: right;\">-7.38948e-16</td><td style = \"text-align: right;\">1</td><td style = \"text-align: left;\">primary</td><td style = \"text-align: right;\">0.180421</td><td style = \"text-align: right;\">259.509</td><td style = \"text-align: right;\">3</td></tr><tr><td class = \"rowNumber\" style = \"font-weight: bold; text-align: right;\">4</td><td style = \"text-align: right;\">45.9809</td><td style = \"text-align: right;\">4</td><td style = \"text-align: right;\">1.4779e-15</td><td style = \"text-align: right;\">1</td><td style = \"text-align: left;\">primary</td><td style = \"text-align: right;\">0.230625</td><td style = \"text-align: right;\">283.246</td><td style = \"text-align: right;\">4</td></tr><tr><td class = \"rowNumber\" style = \"font-weight: bold; text-align: right;\">5</td><td style = \"text-align: right;\">45.9809</td><td style = \"text-align: right;\">5</td><td style = \"text-align: right;\">7.38948e-16</td><td style = \"text-align: right;\">1</td><td style = \"text-align: left;\">primary</td><td style = \"text-align: right;\">0.268278</td><td style = \"text-align: right;\">306.237</td><td style = \"text-align: right;\">5</td></tr><tr><td class = \"rowNumber\" style = \"font-weight: bold; text-align: right;\">6</td><td style = \"text-align: right;\">45.9809</td><td style = \"text-align: right;\">6</td><td style = \"text-align: right;\">-7.38948e-16</td><td style = \"text-align: right;\">1</td><td style = \"text-align: left;\">primary</td><td style = \"text-align: right;\">0.29338</td><td style = \"text-align: right;\">329.227</td><td style = \"text-align: right;\">6</td></tr><tr><td class = \"rowNumber\" style = \"font-weight: bold; text-align: right;\">7</td><td style = \"text-align: right;\">45.9809</td><td style = \"text-align: right;\">7</td><td style = \"text-align: right;\">-7.38948e-16</td><td style = \"text-align: right;\">1</td><td style = \"text-align: left;\">primary</td><td style = \"text-align: right;\">0.305931</td><td style = \"text-align: right;\">352.218</td><td style = \"text-align: right;\">7</td></tr><tr><td class = \"rowNumber\" style = \"font-weight: bold; text-align: right;\">8</td><td style = \"text-align: right;\">45.9809</td><td style = \"text-align: right;\">8</td><td style = \"text-align: right;\">0.0</td><td style = \"text-align: right;\">1</td><td style = \"text-align: left;\">primary</td><td style = \"text-align: right;\">0.305931</td><td style = \"text-align: right;\">352.218</td><td style = \"text-align: right;\">8</td></tr><tr><td class = \"rowNumber\" style = \"font-weight: bold; text-align: right;\">9</td><td style = \"text-align: right;\">45.9809</td><td style = \"text-align: right;\">9</td><td style = \"text-align: right;\">0.0</td><td style = \"text-align: right;\">1</td><td style = \"text-align: left;\">primary</td><td style = \"text-align: right;\">0.29338</td><td style = \"text-align: right;\">329.227</td><td style = \"text-align: right;\">9</td></tr><tr><td class = \"rowNumber\" style = \"font-weight: bold; text-align: right;\">10</td><td style = \"text-align: right;\">45.9809</td><td style = \"text-align: right;\">10</td><td style = \"text-align: right;\">-7.38948e-16</td><td style = \"text-align: right;\">1</td><td style = \"text-align: left;\">primary</td><td style = \"text-align: right;\">0.268278</td><td style = \"text-align: right;\">306.237</td><td style = \"text-align: right;\">10</td></tr><tr><td class = \"rowNumber\" style = \"font-weight: bold; text-align: right;\">11</td><td style = \"text-align: right;\">45.9809</td><td style = \"text-align: right;\">11</td><td style = \"text-align: right;\">0.0</td><td style = \"text-align: right;\">1</td><td style = \"text-align: left;\">primary</td><td style = \"text-align: right;\">0.230625</td><td style = \"text-align: right;\">283.246</td><td style = \"text-align: right;\">11</td></tr><tr><td class = \"rowNumber\" style = \"font-weight: bold; text-align: right;\">12</td><td style = \"text-align: right;\">129.755</td><td style = \"text-align: right;\">12</td><td style = \"text-align: right;\">1.4779e-15</td><td style = \"text-align: right;\">1</td><td style = \"text-align: left;\">primary</td><td style = \"text-align: right;\">0.180421</td><td style = \"text-align: right;\">259.509</td><td style = \"text-align: right;\">12</td></tr><tr><td class = \"rowNumber\" style = \"font-weight: bold; text-align: right;\">13</td><td style = \"text-align: right;\">129.755</td><td style = \"text-align: right;\">13</td><td style = \"text-align: right;\">2.95579e-15</td><td style = \"text-align: right;\">1</td><td style = \"text-align: left;\">primary</td><td style = \"text-align: right;\">0.117666</td><td style = \"text-align: right;\">194.632</td><td style = \"text-align: right;\">13</td></tr><tr><td class = \"rowNumber\" style = \"font-weight: bold; text-align: right;\">14</td><td style = \"text-align: right;\">129.755</td><td style = \"text-align: right;\">14</td><td style = \"text-align: right;\">2.95579e-15</td><td style = \"text-align: right;\">1</td><td style = \"text-align: left;\">primary</td><td style = \"text-align: right;\">0.0423597</td><td style = \"text-align: right;\">129.755</td><td style = \"text-align: right;\">14</td></tr></tbody></table></div>"
      ],
      "text/latex": [
       "\\begin{tabular}{r|cccccccc}\n",
       "\t& vu & s\\_idx & pu & e\\_idx & type & ec\\_max & mu & idx\\\\\n",
       "\t\\hline\n",
       "\t& Float64 & Int64 & Float64 & Int64 & String & Float64 & Float64 & Int64\\\\\n",
       "\t\\hline\n",
       "\t1 & 129.755 & 1 & -1.4779e-15 & 1 & primary & 0.0423597 & 129.755 & 1 \\\\\n",
       "\t2 & 129.755 & 2 & -7.38948e-16 & 1 & primary & 0.117666 & 194.632 & 2 \\\\\n",
       "\t3 & 129.755 & 3 & -7.38948e-16 & 1 & primary & 0.180421 & 259.509 & 3 \\\\\n",
       "\t4 & 45.9809 & 4 & 1.4779e-15 & 1 & primary & 0.230625 & 283.246 & 4 \\\\\n",
       "\t5 & 45.9809 & 5 & 7.38948e-16 & 1 & primary & 0.268278 & 306.237 & 5 \\\\\n",
       "\t6 & 45.9809 & 6 & -7.38948e-16 & 1 & primary & 0.29338 & 329.227 & 6 \\\\\n",
       "\t7 & 45.9809 & 7 & -7.38948e-16 & 1 & primary & 0.305931 & 352.218 & 7 \\\\\n",
       "\t8 & 45.9809 & 8 & 0.0 & 1 & primary & 0.305931 & 352.218 & 8 \\\\\n",
       "\t9 & 45.9809 & 9 & 0.0 & 1 & primary & 0.29338 & 329.227 & 9 \\\\\n",
       "\t10 & 45.9809 & 10 & -7.38948e-16 & 1 & primary & 0.268278 & 306.237 & 10 \\\\\n",
       "\t11 & 45.9809 & 11 & 0.0 & 1 & primary & 0.230625 & 283.246 & 11 \\\\\n",
       "\t12 & 129.755 & 12 & 1.4779e-15 & 1 & primary & 0.180421 & 259.509 & 12 \\\\\n",
       "\t13 & 129.755 & 13 & 2.95579e-15 & 1 & primary & 0.117666 & 194.632 & 13 \\\\\n",
       "\t14 & 129.755 & 14 & 2.95579e-15 & 1 & primary & 0.0423597 & 129.755 & 14 \\\\\n",
       "\\end{tabular}\n"
      ],
      "text/plain": [
       "\u001b[1m14×8 DataFrame\u001b[0m\n",
       "\u001b[1m Row \u001b[0m│\u001b[1m vu       \u001b[0m\u001b[1m s_idx \u001b[0m\u001b[1m pu           \u001b[0m\u001b[1m e_idx \u001b[0m\u001b[1m type    \u001b[0m\u001b[1m ec_max    \u001b[0m\u001b[1m mu      \u001b[0m\u001b[1m idx \u001b[0m ⋯\n",
       "     │\u001b[90m Float64  \u001b[0m\u001b[90m Int64 \u001b[0m\u001b[90m Float64      \u001b[0m\u001b[90m Int64 \u001b[0m\u001b[90m String  \u001b[0m\u001b[90m Float64   \u001b[0m\u001b[90m Float64 \u001b[0m\u001b[90m Int6\u001b[0m ⋯\n",
       "─────┼──────────────────────────────────────────────────────────────────────────\n",
       "   1 │ 129.755       1  -1.4779e-15       1  primary  0.0423597  129.755       ⋯\n",
       "   2 │ 129.755       2  -7.38948e-16      1  primary  0.117666   194.632\n",
       "   3 │ 129.755       3  -7.38948e-16      1  primary  0.180421   259.509\n",
       "   4 │  45.9809      4   1.4779e-15       1  primary  0.230625   283.246\n",
       "   5 │  45.9809      5   7.38948e-16      1  primary  0.268278   306.237       ⋯\n",
       "   6 │  45.9809      6  -7.38948e-16      1  primary  0.29338    329.227\n",
       "   7 │  45.9809      7  -7.38948e-16      1  primary  0.305931   352.218\n",
       "   8 │  45.9809      8   0.0              1  primary  0.305931   352.218\n",
       "   9 │  45.9809      9   0.0              1  primary  0.29338    329.227       ⋯\n",
       "  10 │  45.9809     10  -7.38948e-16      1  primary  0.268278   306.237     1\n",
       "  11 │  45.9809     11   0.0              1  primary  0.230625   283.246     1\n",
       "  12 │ 129.755      12   1.4779e-15       1  primary  0.180421   259.509     1\n",
       "  13 │ 129.755      13   2.95579e-15      1  primary  0.117666   194.632     1 ⋯\n",
       "  14 │ 129.755      14   2.95579e-15      1  primary  0.0423597  129.755     1\n",
       "\u001b[36m                                                                1 column omitted\u001b[0m"
      ]
     },
     "metadata": {},
     "output_type": "display_data"
    }
   ],
   "source": [
    "println(demands[1:14,:])\n",
    "all_demands = demands\n",
    "demands = demands[1:14,:]"
   ]
  },
  {
   "cell_type": "code",
   "execution_count": 11,
   "metadata": {},
   "outputs": [
    {
     "name": "stdout",
     "output_type": "stream",
     "text": [
      "mapping = Dict(types .=> 1:1:length(types)) = Dict(\"primary\" => 1, \"secondary\" => 2, \"columns\" => 3)\n"
     ]
    }
   ],
   "source": [
    "f1 = Figure(size = (500,500))\n",
    "ax1 = Axis(f1[1,1], xlabel = \"Moment [kNm]\", ylabel = \"Shear [kN]\", limits = (0,3000,0,300)) \n",
    "types = unique(demands[!, :type])\n",
    "@show mapping = Dict(types .=> 1:1:length(types))\n",
    "scatter!(ax1, demands[!, :mu], demands[!,:vu], color = [mapping[t] for t in demands[!,:type]], label = demands[!, :type])\n",
    "scatter!(ax1, catalog[!, :Mu], catalog[!, :Vu], marker = '.', alpha = 0.5, transparency = true, markersize = 5)\n",
    "f1"
   ]
  },
  {
   "cell_type": "markdown",
   "metadata": {},
   "source": [
    "Fix redundant element indices due to Primary and Secondary labels"
   ]
  },
  {
   "cell_type": "code",
   "execution_count": 12,
   "metadata": {},
   "outputs": [],
   "source": [
    "global e_idx = 1 \n",
    "for i in 1:size(demands)[1]\n",
    "    if i !=1\n",
    "        demands[i-1, :e_idx] = e_idx\n",
    "        if demands[i,:s_idx] < demands[i-1,:s_idx]\n",
    "            global e_idx +=1 \n",
    "        end\n",
    "        \n",
    "    end\n",
    "    if i == size(demands)[1]\n",
    "        demands[i, :e_idx] = e_idx\n",
    "    end\n",
    "end"
   ]
  },
  {
   "cell_type": "markdown",
   "metadata": {},
   "source": [
    "Create a function to filter only feasible designs in a demand point"
   ]
  },
  {
   "cell_type": "code",
   "execution_count": 13,
   "metadata": {},
   "outputs": [
    {
     "data": {
      "text/plain": [
       "filter_demands"
      ]
     },
     "metadata": {},
     "output_type": "display_data"
    }
   ],
   "source": [
    "\"\"\"\n",
    "filter feasible demands\n",
    "\"\"\"\n",
    "function filter_demands(demands::DataFrame, catalog::DataFrame)::Dict{Int64, Vector{Int64}}\n",
    "\n",
    "    ns = size(demands)[1]           #total number of sections\n",
    "    ne = unique(demands[!, :e_idx]) #total number of elements\n",
    "    nc = size(catalog, 1)           #total number of available choices\n",
    "\n",
    "    all_feasible_sections = Dict{Int64,Vector{Int64}}() #map between demands and indices of the feasible section.\n",
    "    demands[!, \"total_results\"] = zeros(Int64, size(demands)[1])\n",
    "    #go through each section and filter the feasible designs for the section from the catalog.\n",
    "    for i = 1:ns\n",
    "        en = demands[i, \"e_idx\"] #current element index\n",
    "        sn = demands[i, \"s_idx\"] #current section index in that element.\n",
    "\n",
    "        pu = demands[i, \"pu\"]\n",
    "        mu = demands[i, \"mu\"]\n",
    "        vu = demands[i,\"vu\"]*0.9\n",
    "        ec_max = demands[i, \"ec_max\"]\n",
    "\n",
    "        global feasible_sections = filter([:Pu, :Mu, :Vu, :dps] => (x1, x2, x3, x4) ->\n",
    "                x1 > pu &&\n",
    "                x2 > mu &&\n",
    "                # x3 > vu && \n",
    "                x4 <= ec_max * 1000,\n",
    "            catalog\n",
    "        )\n",
    "\n",
    "        if size(feasible_sections)[1] == 0 #if the number of feasible results = 0\n",
    "            println(feasible_sections[!, :ID])\n",
    "            println(\"section $sn: element $en\")\n",
    "            all_feasible_sections[i] = [0]\n",
    "            demands[i, \"total_results\"] = 0\n",
    "            # println(outr)\n",
    "        else\n",
    "            all_feasible_sections[i] = feasible_sections[!, :ID]\n",
    "            demands[i, \"total_results\"] = length(feasible_sections[!, :ID])\n",
    "            # println(outr)\n",
    "        end\n",
    "    end\n",
    "\n",
    "    return all_feasible_sections\n",
    "end\n"
   ]
  },
  {
   "cell_type": "code",
   "execution_count": 14,
   "metadata": {},
   "outputs": [
    {
     "data": {
      "text/plain": [
       "find_optimum"
      ]
     },
     "metadata": {},
     "output_type": "display_data"
    }
   ],
   "source": [
    "\"\"\"\n",
    "Find the optimum result for each element.\n",
    "    \n",
    "    !! not optimum yet.\n",
    "For the same element, will use the same fc′ steel size and post tensioning stress.\n",
    "\n",
    "\"\"\"\n",
    "function find_optimum(all_feasible_sections::Dict{Int64, Vector{Int64}}, demands::DataFrame)\n",
    "    total_ns = size(demands)[1] #get total number of section points.\n",
    "    ne = unique(demands[!, :e_idx]) \n",
    "\n",
    "    #Map element indices to indices of sections indices on those elements.\n",
    "    elements_to_sections = Dict(k => Int[] for k in unique(demands[!, :e_idx]))\n",
    "    for i = 1:total_ns\n",
    "        en = demands[i, :e_idx]\n",
    "        # sn = demands[i, \"s_idx\"]\n",
    "        push!(elements_to_sections[en], i)\n",
    "    end\n",
    "\n",
    "    #element index to list of designs\n",
    "    elements_designs = Dict(k => [[]] for k in unique(demands[!, :e_idx])) \n",
    "    sections_to_designs = Dict(k => Vector{Float64}() for k in demands[!, :idx])\n",
    "\n",
    "    #find fc′, as, and fpe that appear in all sections in an element.\n",
    "    # for i in ProgressBar(ne) #loop each element\n",
    "    for i in ne\n",
    "        println(\"Element $i out of $(length(ne)) elements\")\n",
    "        sections = elements_to_sections[i] #sections associated with this element\n",
    "\n",
    "        ns = length(sections)     # number of sections in this element \n",
    "\n",
    "        #start from the middle-ish section (n/2 or (n-1)/2)\n",
    "        #note that section is in the form of 1,2,3,..., ns.\n",
    "        mid = div(ns, 2)\n",
    "        \n",
    "        #get the feasible designs for the middle section\n",
    "        feasible_idx = all_feasible_sections[sections[mid]]\n",
    "\n",
    "        #catalog was already sorted, so I think we can leave this part, just filter, to save time.\n",
    "        mid_catalog = sort(catalog[feasible_idx, :], [:carbon, :fc′, :dps])\n",
    "        # mid_catalog = catalog[feasible_idx, :]\n",
    "\n",
    "        #now, loop each design in the sub catalog, see if \"as\" and \"fpe\" are available in all sections.\n",
    "        #if not, remove that design from the sub catalog.\n",
    "        #if yes, keep it.\n",
    "\n",
    "        #select each design, check if as and fpe exist for the the section\n",
    "        global_d = 0 \n",
    "        for d_idx in 1:size(catalog)[1]\n",
    "            d = mid_catalog[d_idx, :]\n",
    "            println(d)\n",
    "\n",
    "            all_as  = true\n",
    "            all_fpe = true\n",
    "            serviceability_check = true\n",
    "\n",
    "            for s in sections\n",
    "                #check if the design is available in that section.\n",
    "                #if not, remove it from the sub catalog.\n",
    "                #if yes, keep it.\n",
    "\n",
    "                #at this version, make sure that the fR1 and fR3 are also matched.\n",
    "                # if !(d[:fc′] ∈ catalog[all_feasible_sections[s], :fc′])\n",
    "                #     all_fc′ = false\n",
    "                #     break\n",
    "                # end\n",
    "\n",
    "                if !(d[:as] ∈ catalog[all_feasible_sections[s], :as])\n",
    "                    all_as = false\n",
    "                    break\n",
    "                end\n",
    "                if !(d[:fpe] ∈ catalog[all_feasible_sections[s], :fpe])\n",
    "                    all_fpe = false\n",
    "                    break\n",
    "                end\n",
    "            end\n",
    "        end\n",
    "\n",
    "        if !all_fpe ||!all_as \n",
    "            println(\"Warning, can't find the solution for element $i\")\n",
    "        end\n",
    "        \n",
    "\n",
    "        #get the first one, they will appear in the entire thing anyway.\n",
    "        this_fc′ = mid_catalog[global_d, :fc′]\n",
    "\n",
    "        this_fpe = mid_catalog[global_d, :fpe]\n",
    "        this_as = mid_catalog[global_d, :as]\n",
    "\n",
    "        sections_designs = Vector{Vector}(undef, ns)\n",
    "        for is in eachindex(elements_to_sections[i])\n",
    "            #current section index\n",
    "            s = elements_to_sections[i][is]\n",
    "\n",
    "            feasible_idx = all_feasible_sections[s]\n",
    "            \n",
    "            # fc′_fpe_as(fc′::Float64, fpe::Float64, as::Float64) = fc′ == this_fc′ && fpe == this_fpe && as == this_as\n",
    "            fpe_as(fpe::Float64, as::Float64) = fpe == this_fpe && as == this_as\n",
    "\n",
    "            # this_catalog = filter([:fc′, :fpe, :as] => fc′_fpe_as, catalog[output_results[s], :])\n",
    "            this_catalog = filter([:fpe, :as] => fpe_as, catalog[output_results[s], :])\n",
    "\n",
    "            sort!(this_catalog, [:carbon, :dps])\n",
    "\n",
    "            #get the first one, it's the lowest carbon\n",
    "            select_ID = this_catalog[1, :ID]\n",
    "            #find lowest e for this one.\n",
    "            sections_designs[is] = collect(catalog[select_ID, :])\n",
    "            # println(sections_designs[is])\n",
    "        end\n",
    "\n",
    "        #create a pixelframeelement and/or section here with the given parameters \n",
    "        L, t, Lc = [205.0 35.0 30.0]\n",
    "        compoundsection =  make_Y_layup_section(L, t, Lc)\n",
    "        pixelframeelement = PixelFrameElement() \n",
    "        Le = ns*500.0\n",
    "\n",
    "        #could do a case where input only the variables -> the dependent variables come later.\n",
    "        pixelframeelement.fc′ = this_fc′ # Concrete strength [MPa] ****Should update on the test day using cylinder test***\n",
    "        # Ec = 4700.0*sqrt(fc′) # MPa  ACI fc-> Concrete modulus relationship [MPa]\n",
    "        pixelframeelement.Ec = 58000.0 # MPa  from the cylinder test\n",
    "        pixelframeelement.Eps = 70000.0 #Post tensioning steel modulus [MPa]\n",
    "        pixelframeelement.fpy = 0.002 * pixelframeelement.Eps #MPa  \n",
    "        #Safe load on the website https://www.engineeringtoolbox.com/wire-rope-strength-d_1518.html \n",
    "        # is ~ 150 MPa. Currently 140 MPa :)\n",
    "\n",
    "        # PixelFrame section/element properties\n",
    "        centroid_to_top = 100.0 #[mm] ~half of 205mm\n",
    "        pixelframeelement.em = mid_catalog[global_d, :dps]# Eccentricity at the middle of the member [mm]\n",
    "        pixelframeelement.es = 0.0 # Eccentricity at the support of the member   [mm]\n",
    "        pixelframeelement.em0 = mid_catalog[global_d, :dps] # Initial eccentricity at the midspan        [mm]\n",
    "\n",
    "        pixelframeelement.dps0 = centroid_to_top + pixelframeelement.em0 # Initial distance from the top to the point of application of the load [mm]\n",
    "        pixelframeelement.Ls = Le/4 # Distance from support to the first load point [mm]\n",
    "        pixelframeelement.Ld = Le/4 # Distance from support to the first deviator [mm]\n",
    "        pixelframeelement.L = Le # Total length of the member [mm]\n",
    "        # two 1/4\" bars with 1200 lb capacity\n",
    "        pixelframeelement.Aps = this_as # Total area of the post tensioned steel [mm2]\n",
    "        #Pure concrete area = 18537.69 mm2\n",
    "        #Transformed steel area = 347.96 mm2 \n",
    "        pixelframeelement.Atr = compoundsection.area # Transformed area of the cross section [mm2] (= Concrete area if there is no embedded rebars)\n",
    "        pixelframeelement.Itr = compoundsection.Ix #moment of inertia [mm4], no embedded steel, therefore, only from concrete.\n",
    "        # pixelframeelement.Itr = 1.082e+8 #this number includes deviated steels.\n",
    "\n",
    "        pixelframeelement.Zb = pixelframeelement.Itr/centroid_to_top # Elastic modulus of the concrete section from the centroid to extreme tension fiber [mm3]\n",
    "        # If there are multiple materials, transformed section geometry is needed for Zb (and everything related to section area)\n",
    "\n",
    "        #forces\n",
    "        pixelframeelement.w = pixelframeelement.Atr / 10^9 * 2400.0 * 9.81 # Selfweight [N/mm]\n",
    "        pixelframeelement.mg = pixelframeelement.w * pixelframeelement.L^2 / 8.0 # Moment due to selfweight [Nmm]\n",
    "        pixelframeelement.fr = 0.7 * sqrt(pixelframeelement.fc′) # Concrete cracking strenght [MPa]\n",
    "        pixelframeelement.r = sqrt(pixelframeelement.Itr / pixelframeelement.Atr) # Radius of gyration [mm]\n",
    "        pixelframeelement.ps_force = pixelframeelment.Aps*this_fpe # Post tensioning force [N]\n",
    "        pixelframeelement.Mdec = pixelframeelement.ps_force*pixelframeelement.em\n",
    "        pixelframeelement.concrete_force = pixelframeelement.ps_force*cos(24.0*pi/180.0) # should use actual value \n",
    "        pixelframeelement.fpe = pixelframeelement.ps_force/pixelframeelement.Aps # Effective post tensioning stress [MPa] ***will input the one on the test day***\n",
    "        pixelframeelement.ϵpe = pixelframeelement.fpe / pixelframeelement.Eps # Effective post tensioning strain [mm/mm]\n",
    "        #find moment due to the applied force.\n",
    "        pixelframeelement.ϵce = pixelframeelement.ps_force*pixelframeelement.em/pixelframeelement.Zb/pixelframeelement.Ec - pixelframeelement.concrete_force/pixelframeelement.Atr/pixelframeelement.Ec # effetive strain in the concrete [mm/mm]\n",
    "        #for using test setup\n",
    "        pixelframeelement.test = false\n",
    "\n",
    "        #for the current stage of the model,\n",
    "        #we will have 2 deviators, with interpolated 2/3 of the length of the element.\n",
    "        #with this, <Need proved, but this should be more conservative???>. Less post tensioned than the actual beam.\n",
    "        #Current PixelFrameSize\n",
    "        \n",
    "        load_m = 4*demands[mid, :mu]/Le*1000 #N\n",
    "        load_v = demands[mid, :vu]*1000\n",
    "\n",
    "        load = load_m > load_v ? load_m : load_v\n",
    "        @show load \n",
    "        break\n",
    "        dis_history, P =  get_Deflection(pixelframeelement, load, loadstep = 1000)\n",
    "\n",
    "        δ = dis_history[end]\n",
    "\n",
    "        elements_designs[i] = [sections_designs, δ, δ/(Le/240)]\n",
    "\n",
    "    end\n",
    "\n",
    "    for i in ne\n",
    "        sections = elements_to_sections[i]\n",
    "        for design in eachindex(elements_designs[i])\n",
    "            sections_to_designs[sections[design]] = elements_designs[i][design]\n",
    "        end\n",
    "    end\n",
    "\n",
    "    return elements_designs, elements_to_sections, sections_to_designs\n",
    "end"
   ]
  },
  {
   "cell_type": "markdown",
   "metadata": {},
   "source": [
    "Filter the catalog entries that meet the demands."
   ]
  },
  {
   "cell_type": "code",
   "execution_count": 39,
   "metadata": {},
   "outputs": [
    {
     "data": {
      "text/plain": [
       "Dict{Int64, Vector{Int64}} with 14 entries:\n",
       "  5  => [926, 929, 932, 935, 938, 941, 944, 947, 950, 953  …  164055, 164058, 1…\n",
       "  12 => [494, 497, 500, 5192, 5195, 5198, 9890, 9893, 9896, 14588  …  163359, 1…\n",
       "  8  => [1361, 1364, 1367, 1370, 1373, 1376, 1379, 1382, 1385, 1388  …  164403,…\n",
       "  1  => [2, 5, 8, 11, 14, 17, 20, 23, 26, 29  …  162141, 162144, 162147, 162150…\n",
       "  6  => [1103, 1106, 1109, 5801, 5804, 5807, 10499, 10502, 10505, 15197  …  164…\n",
       "  11 => [749, 752, 755, 758, 761, 764, 767, 770, 773, 776  …  163794, 163797, 1…\n",
       "  9  => [1103, 1106, 1109, 5801, 5804, 5807, 10499, 10502, 10505, 15197  …  164…\n",
       "  14 => [2, 5, 8, 11, 14, 17, 20, 23, 26, 29  …  162141, 162144, 162147, 162150…\n",
       "  3  => [494, 497, 500, 5192, 5195, 5198, 9890, 9893, 9896, 14588  …  163359, 1…\n",
       "  7  => [1361, 1364, 1367, 1370, 1373, 1376, 1379, 1382, 1385, 1388  …  164403,…\n",
       "  4  => [749, 752, 755, 758, 761, 764, 767, 770, 773, 776  …  163794, 163797, 1…\n",
       "  13 => [125, 128, 131, 134, 137, 140, 143, 146, 149, 152  …  162750, 162753, 1…\n",
       "  2  => [125, 128, 131, 134, 137, 140, 143, 146, 149, 152  …  162750, 162753, 1…\n",
       "  10 => [926, 929, 932, 935, 938, 941, 944, 947, 950, 953  …  164055, 164058, 1…"
      ]
     },
     "metadata": {},
     "output_type": "display_data"
    }
   ],
   "source": [
    "all_feasible_sections= filter_demands(demands,catalog)\n"
   ]
  },
  {
   "cell_type": "markdown",
   "metadata": {},
   "source": [
    "Check number of available designs per section."
   ]
  },
  {
   "cell_type": "code",
   "execution_count": 40,
   "metadata": {},
   "outputs": [
    {
     "name": "stdout",
     "output_type": "stream",
     "text": [
      "Element 1 out of 57 elements\n"
     ]
    },
    {
     "ename": "BoundsError",
     "evalue": "BoundsError: attempt to access 130130×15 DataFrame at index [130131, :]",
     "output_type": "error",
     "traceback": [
      "BoundsError: attempt to access 130130×15 DataFrame at index [130131, :]\n",
      "\n",
      "Stacktrace:\n",
      " [1] DataFrameRow\n",
      "   @ C:\\Users\\pitipatw\\.julia\\packages\\DataFrames\\58MUJ\\src\\dataframerow\\dataframerow.jl:93 [inlined]\n",
      " [2] getindex(df::DataFrame, rowind::Int64, #unused#::Colon)\n",
      "   @ DataFrames C:\\Users\\pitipatw\\.julia\\packages\\DataFrames\\58MUJ\\src\\dataframerow\\dataframerow.jl:210\n",
      " [3] find_optimum(output_results::Dict{Int64, Vector{Int64}}, demands::DataFrame)\n",
      "   @ Main c:\\Users\\pitipatw\\dev\\ConcreteExplorer\\src\\demo_design.ipynb:50\n",
      " [4] top-level scope\n",
      "   @ c:\\Users\\pitipatw\\dev\\ConcreteExplorer\\src\\demo_design.ipynb:2"
     ]
    }
   ],
   "source": [
    "# elements_designs, elements_to_sections  = find_optimum(output_results, demands)\n",
    "elements_designs, elements_to_sections, sections_to_designs  = find_optimum(all_feasible_sections, demands)\n",
    "\n"
   ]
  },
  {
   "cell_type": "code",
   "execution_count": 17,
   "metadata": {},
   "outputs": [
    {
     "ename": "UndefVarError",
     "evalue": "UndefVarError: `sections_to_designs` not defined",
     "output_type": "error",
     "traceback": [
      "UndefVarError: `sections_to_designs` not defined\n"
     ]
    }
   ],
   "source": [
    "sections_to_designs\n",
    "open(\"Results/0102_section_to_designs.json\",\"w\") do f\n",
    "    JSON.print(f, sections_to_designs)\n",
    "end"
   ]
  },
  {
   "cell_type": "code",
   "execution_count": 18,
   "metadata": {},
   "outputs": [
    {
     "ename": "UndefVarError",
     "evalue": "UndefVarError: `sections_to_designs` not defined",
     "output_type": "error",
     "traceback": [
      "UndefVarError: `sections_to_designs` not defined\n",
      "\n",
      "Stacktrace:\n",
      " [1] top-level scope\n",
      "   @ show.jl:1128"
     ]
    }
   ],
   "source": [
    "@show sections_to_designs"
   ]
  },
  {
   "cell_type": "markdown",
   "metadata": {},
   "source": [
    "Save the design result"
   ]
  },
  {
   "cell_type": "code",
   "execution_count": 19,
   "metadata": {},
   "outputs": [
    {
     "ename": "UndefVarError",
     "evalue": "UndefVarError: `elements_designs` not defined",
     "output_type": "error",
     "traceback": [
      "UndefVarError: `elements_designs` not defined\n",
      "\n",
      "Stacktrace:\n",
      " [1] (::var\"#87#88\")(f::IOStream)\n",
      "   @ Main c:\\Users\\pitipatw\\dev\\ConcreteExplorer\\src\\demo_design.ipynb:2\n",
      " [2] open(::var\"#87#88\", ::String, ::Vararg{String}; kwargs::Base.Pairs{Symbol, Union{}, Tuple{}, NamedTuple{(), Tuple{}}})\n",
      "   @ Base .\\io.jl:395\n",
      " [3] open(::Function, ::String, ::String)\n",
      "   @ Base .\\io.jl:392\n",
      " [4] top-level scope\n",
      "   @ c:\\Users\\pitipatw\\dev\\ConcreteExplorer\\src\\demo_design.ipynb:1"
     ]
    }
   ],
   "source": [
    "open(\"Results/designs_results_22_01.json\",\"w\") do f\n",
    "    JSON.print(f, elements_designs)\n",
    "end"
   ]
  },
  {
   "cell_type": "markdown",
   "metadata": {},
   "source": [
    "## 3. Visualizing the results"
   ]
  },
  {
   "cell_type": "markdown",
   "metadata": {},
   "source": [
    "Load required packages"
   ]
  },
  {
   "cell_type": "code",
   "execution_count": 20,
   "metadata": {},
   "outputs": [],
   "source": [
    "using Makie, GLMakie, CairoMakie\n",
    "using JSON\n",
    "using DataFrames, CSV"
   ]
  },
  {
   "cell_type": "markdown",
   "metadata": {},
   "source": [
    "Load back the design results"
   ]
  },
  {
   "cell_type": "code",
   "execution_count": 21,
   "metadata": {},
   "outputs": [
    {
     "ename": "ErrorException",
     "evalue": "Unexpected end of input\nLine: 0\nAround: ......\n           ^\n",
     "output_type": "error",
     "traceback": [
      "Unexpected end of input\n",
      "Line: 0\n",
      "Around: ......\n",
      "           ^\n",
      "\n",
      "\n",
      "Stacktrace:\n",
      "  [1] error(s::String)\n",
      "    @ Base .\\error.jl:35\n",
      "  [2] _error(message::String, ps::JSON.Parser.MemoryParserState)\n",
      "    @ JSON.Parser C:\\Users\\pitipatw\\.julia\\packages\\JSON\\93Ea8\\src\\Parser.jl:140\n",
      "  [3] byteat\n",
      "    @ C:\\Users\\pitipatw\\.julia\\packages\\JSON\\93Ea8\\src\\Parser.jl:49 [inlined]\n",
      "  [4] parse_value(pc::JSON.Parser.ParserContext{Dict{String, Vector{Vector{Float64}}}, Int64, true, nothing}, ps::JSON.Parser.MemoryParserState)\n",
      "    @ JSON.Parser C:\\Users\\pitipatw\\.julia\\packages\\JSON\\93Ea8\\src\\Parser.jl:160\n",
      "  [5] parse(str::String; dicttype::Type, inttype::Type{Int64}, allownan::Bool, null::Nothing)\n",
      "    @ JSON.Parser C:\\Users\\pitipatw\\.julia\\packages\\JSON\\93Ea8\\src\\Parser.jl:450\n",
      "  [6] (::JSON.Parser.var\"#4#5\"{DataType, DataType, Nothing, Bool, Bool, Int64})(io::IOStream)\n",
      "    @ JSON.Parser C:\\Users\\pitipatw\\.julia\\packages\\JSON\\93Ea8\\src\\Parser.jl:511\n",
      "  [7] open(f::JSON.Parser.var\"#4#5\"{DataType, DataType, Nothing, Bool, Bool, Int64}, args::String; kwargs::Base.Pairs{Symbol, Union{}, Tuple{}, NamedTuple{(), Tuple{}}})\n",
      "    @ Base .\\io.jl:395\n",
      "  [8] open\n",
      "    @ .\\io.jl:392 [inlined]\n",
      "  [9] #parsefile#3\n",
      "    @ C:\\Users\\pitipatw\\.julia\\packages\\JSON\\93Ea8\\src\\Parser.jl:509 [inlined]\n",
      " [10] top-level scope\n",
      "    @ c:\\Users\\pitipatw\\dev\\ConcreteExplorer\\src\\demo_design.ipynb:1"
     ]
    }
   ],
   "source": [
    "designs = JSON.parsefile(joinpath(@__DIR__,\"Results/designs_results_22_01.json\"), dicttype = Dict{String,Vector{Vector{Float64}}});\n",
    "\n",
    "ne = length(designs)\n",
    "println(\"There are $ne elements.\")\n"
   ]
  },
  {
   "cell_type": "code",
   "execution_count": 22,
   "metadata": {},
   "outputs": [
    {
     "ename": "UndefVarError",
     "evalue": "UndefVarError: `designs` not defined",
     "output_type": "error",
     "traceback": [
      "UndefVarError: `designs` not defined\n",
      "\n",
      "Stacktrace:\n",
      " [1] top-level scope\n",
      "   @ c:\\Users\\pitipatw\\dev\\ConcreteExplorer\\src\\demo_design.ipynb:1"
     ]
    }
   ],
   "source": [
    "designs[\"1\"]"
   ]
  },
  {
   "cell_type": "code",
   "execution_count": 23,
   "metadata": {},
   "outputs": [
    {
     "ename": "UndefVarError",
     "evalue": "UndefVarError: `designs` not defined",
     "output_type": "error",
     "traceback": [
      "UndefVarError: `designs` not defined\n",
      "\n",
      "Stacktrace:\n",
      " [1] top-level scope\n",
      "   @ c:\\Users\\pitipatw\\dev\\ConcreteExplorer\\src\\demo_design.ipynb:1"
     ]
    }
   ],
   "source": [
    "designs[\"5\"]"
   ]
  },
  {
   "cell_type": "code",
   "execution_count": 24,
   "metadata": {},
   "outputs": [
    {
     "data": {
      "text/plain": [
       "plot_element (generic function with 1 method)"
      ]
     },
     "metadata": {},
     "output_type": "display_data"
    }
   ],
   "source": [
    "function plot_element(element_number::Int64, designs::Dict;L::Float64 = 250.0)\n",
    "\n",
    "\n",
    "sections = elements_to_sections[element_number]\n",
    "element_number = string(element_number)\n",
    "\n",
    "L = 400\n",
    "tendon_profile = L.*[i[3] for i in designs[element_number]]\n",
    "axial_capacity  = [i[5] for i in designs[element_number]]\n",
    "moment_capacity = [i[6] for i in designs[element_number]]\n",
    "shear_capacity = [i[7] for i in designs[element_number]]\n",
    "\n",
    "\n",
    "axial_demand  = [ demands[i,\"pu\"] for i in sections]\n",
    "moment_demand = [ demands[i,\"mu\"] for i in sections]\n",
    "shear_demand  = [ demands[i,\"vu\"] for i in sections]\n",
    "\n",
    "\n",
    "#plot center around x = 0 \n",
    "@show n = length(tendon_profile)\n",
    "xmax = div(n,2)*500\n",
    "@show res = mod(n+1,2)*250\n",
    "@show x_range = -xmax+res:500:xmax-res\n",
    "\n",
    "\n",
    "\n",
    "f1 = Figure(size = (1200,600))\n",
    "g = f1[1,1] = GridLayout()\n",
    "\n",
    "axs_design = Axis(g[1,1],title = \"Element $element_number\", titlesize = 20,\n",
    "aspect = DataAspect(),\n",
    "limits = (-xmax-100, xmax+100, -1.3*L, 0.6*L),\n",
    "yticks = L:-100:-L,\n",
    "# yminorticks = IntervalsBetween(2),\n",
    "# yminorgridvisible = true,\n",
    "ylabel = \"y\"\n",
    ")\n",
    "\n",
    "poly!(Rect( -xmax+res, -L, (n-1)*500, L*1.5), color = (:grey,0.2))\n",
    "tendon = lines!(axs_design, x_range, -tendon_profile)\n",
    "\n",
    "axs_axial  = Axis(g[2,1],aspect = 10,\n",
    "limits = (-xmax, xmax, nothing, nothing),ylabel = \"Axial [kN]\", \n",
    ")\n",
    "\n",
    "axs_moment = Axis(g[3,1],aspect = 10,\n",
    "limits = (-xmax, xmax, nothing, nothing),ylabel = \"Moment [kNm]\",\n",
    ")\n",
    "axs_shear  = Axis(g[4,1],aspect = 10,\n",
    "limits = (-xmax, xmax, nothing, nothing),ylabel = \"Shear [kN]\", \n",
    ")\n",
    "hidexdecorations!(axs_design, grid = false)\n",
    "hidexdecorations!(axs_axial, grid = false)\n",
    "hidexdecorations!(axs_moment, grid = false)\n",
    "\n",
    "lines!(axs_axial ,x_range, axial_capacity , color = :red)\n",
    "lines!(axs_moment,x_range, moment_capacity, color = :blue)\n",
    "lines!(axs_shear ,x_range, shear_capacity , color = :green)\n",
    "\n",
    "lines!(axs_axial ,x_range, axial_demand ,linestyle = :dash, color = :red)\n",
    "lines!(axs_moment,x_range, moment_demand,linestyle = :dash, color = :blue)\n",
    "lines!(axs_shear ,x_range, shear_demand ,linestyle = :dash, color = :green)\n",
    "\n",
    "\n",
    "# for (i, label) in enumerate([\"Axial [kN]\", \"Moment [kNm]\", \"Shear [kN]\"])\n",
    "#     Box(g[i, 2], color = :gray90)\n",
    "#     Label(g[i,2], label, rotation = pi/2, tellheight = false)\n",
    "# end\n",
    "\n",
    "rowgap!(g, 10)\n",
    "\n",
    "@show yspace = maximum(tight_yticklabel_spacing!, [axs_axial, axs_shear, axs_moment])+10\n",
    "\n",
    "axs_axial.yticklabelspace = yspace\n",
    "axs_moment.yticklabelspace = yspace\n",
    "axs_shear.yticklabelspace = yspace\n",
    "\n",
    "f1\n",
    "\n",
    "return f1\n",
    "end\n"
   ]
  },
  {
   "cell_type": "code",
   "execution_count": 25,
   "metadata": {},
   "outputs": [
    {
     "ename": "UndefVarError",
     "evalue": "UndefVarError: `designs` not defined",
     "output_type": "error",
     "traceback": [
      "UndefVarError: `designs` not defined\n",
      "\n",
      "Stacktrace:\n",
      " [1] top-level scope\n",
      "   @ c:\\Users\\pitipatw\\dev\\ConcreteExplorer\\src\\demo_design.ipynb:1"
     ]
    }
   ],
   "source": [
    "designs[\"11\"]"
   ]
  },
  {
   "cell_type": "code",
   "execution_count": 26,
   "metadata": {},
   "outputs": [
    {
     "ename": "UndefVarError",
     "evalue": "UndefVarError: `designs` not defined",
     "output_type": "error",
     "traceback": [
      "UndefVarError: `designs` not defined\n",
      "\n",
      "Stacktrace:\n",
      " [1] top-level scope\n",
      "   @ c:\\Users\\pitipatw\\dev\\ConcreteExplorer\\src\\demo_design.ipynb:1"
     ]
    }
   ],
   "source": [
    "plot_element(11, designs)"
   ]
  },
  {
   "cell_type": "code",
   "execution_count": 27,
   "metadata": {},
   "outputs": [
    {
     "ename": "UndefVarError",
     "evalue": "UndefVarError: `designs` not defined",
     "output_type": "error",
     "traceback": [
      "UndefVarError: `designs` not defined\n",
      "\n",
      "Stacktrace:\n",
      " [1] top-level scope\n",
      "   @ c:\\Users\\pitipatw\\dev\\ConcreteExplorer\\src\\demo_design.ipynb:2"
     ]
    }
   ],
   "source": [
    "for i in 1:new_max_e_idx\n",
    "    f = plot_element(i, designs)\n",
    "    save(\"Results3/$i.png\",f)\n",
    "end"
   ]
  },
  {
   "cell_type": "code",
   "execution_count": 28,
   "metadata": {},
   "outputs": [],
   "source": []
  }
 ],
 "metadata": {
  "kernelspec": {
   "display_name": "Julia 1.9.2",
   "language": "julia",
   "name": "julia-1.9"
  },
  "language_info": {
   "file_extension": ".jl",
   "mimetype": "application/julia",
   "name": "julia",
   "version": "1.9.2"
  }
 },
 "nbformat": 4,
 "nbformat_minor": 2
}
