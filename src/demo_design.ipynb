{
 "cells": [
  {
   "cell_type": "markdown",
   "metadata": {},
   "source": [
    "# PixelFrame engineering design demo"
   ]
  },
  {
   "cell_type": "markdown",
   "metadata": {},
   "source": [
    "To do\n",
    "\n",
    "Shear from steel fiber."
   ]
  },
  {
   "cell_type": "markdown",
   "metadata": {},
   "source": [
    "Import required packages"
   ]
  },
  {
   "cell_type": "code",
   "execution_count": 1,
   "metadata": {},
   "outputs": [
    {
     "name": "stderr",
     "output_type": "stream",
     "text": [
      "\u001b[32m\u001b[1m  Activating\u001b[22m\u001b[39m project at `~/dev/ConcreteExplorer`\n"
     ]
    },
    {
     "name": "stdout",
     "output_type": "stream",
     "text": [
      "\u001b[32m\u001b[1mStatus\u001b[22m\u001b[39m `~/dev/ConcreteExplorer/Project.toml`\n",
      "  \u001b[90m[acfe5cae] \u001b[39mAsapSections v0.1.0 `https://github.com/keithjlee/AsapSections#main`\n",
      "  \u001b[90m[336ed68f] \u001b[39mCSV v0.10.12\n",
      "  \u001b[90m[13f3f980] \u001b[39mCairoMakie v0.11.5\n",
      "  \u001b[90m[a93c6f00] \u001b[39mDataFrames v1.6.1\n",
      "  \u001b[90m[59287772] \u001b[39mFormatting v0.4.2\n",
      "  \u001b[90m[f6369f11] \u001b[39mForwardDiff v0.10.36\n",
      "  \u001b[90m[e9467ef8] \u001b[39mGLMakie v0.9.5\n",
      "  \u001b[90m[682c06a0] \u001b[39mJSON v0.21.4\n",
      "  \u001b[90m[ee78f7c6] \u001b[39mMakie v0.20.4\n",
      "  \u001b[90m[01bcebdf] \u001b[39mNonconvex v2.1.3\n",
      "  \u001b[90m[d3d89cbb] \u001b[39mNonconvexMMA v1.0.0\n",
      "  \u001b[90m[b43a31b8] \u001b[39mNonconvexNLopt v0.1.8\n",
      "  \u001b[90m[429524aa] \u001b[39mOptim v1.7.8\n",
      "\u001b[32m⌃\u001b[39m \u001b[90m[7f7a1694] \u001b[39mOptimization v3.20.2\n",
      "\u001b[32m⌃\u001b[39m \u001b[90m[4e6fcdb7] \u001b[39mOptimizationNLopt v0.1.8\n",
      "  \u001b[90m[90137ffa] \u001b[39mStaticArrays v1.9.1\n",
      "  \u001b[90m[e88e6eb3] \u001b[39mZygote v0.6.68\n",
      "  \u001b[90m[10745b16] \u001b[39mStatistics v1.9.0\n",
      "\u001b[36m\u001b[1mInfo\u001b[22m\u001b[39m Packages marked with \u001b[32m⌃\u001b[39m have new versions available and may be upgradable.\n"
     ]
    }
   ],
   "source": [
    "using Pkg\n",
    "Pkg.activate(\"..\");\n",
    "Pkg.status()\n",
    "Pkg.instantiate()"
   ]
  },
  {
   "cell_type": "code",
   "execution_count": 48,
   "metadata": {},
   "outputs": [],
   "source": [
    "using CSV\n",
    "using DataFrames\n",
    "using JSON\n",
    "using Dates\n",
    "using ProgressBars"
   ]
  },
  {
   "cell_type": "markdown",
   "metadata": {},
   "source": [
    "Load the precalculated catalog"
   ]
  },
  {
   "cell_type": "code",
   "execution_count": 4,
   "metadata": {},
   "outputs": [
    {
     "data": {
      "text/plain": [
       "\"/Users/pitipatwongsittikan/dev/ConcreteExplorer/src\""
      ]
     },
     "metadata": {},
     "output_type": "display_data"
    }
   ],
   "source": [
    "pwd()"
   ]
  },
  {
   "cell_type": "code",
   "execution_count": 31,
   "metadata": {},
   "outputs": [
    {
     "name": "stdout",
     "output_type": "stream",
     "text": [
      "The catalog was sorted by ascending order from:\n",
      "carbon -> fc′ -> as -> ec\n",
      "\u001b[1m20×9 DataFrame\u001b[0m\n",
      "\u001b[1m Row \u001b[0m│\u001b[1m fc′     \u001b[0m\u001b[1m as      \u001b[0m\u001b[1m ec      \u001b[0m\u001b[1m fpe     \u001b[0m\u001b[1m Pu      \u001b[0m\u001b[1m Mu      \u001b[0m\u001b[1m Vu      \u001b[0m\u001b[1m carbon  \u001b[0m\u001b[1m ID    \u001b[0m\n",
      "     │\u001b[90m Float64 \u001b[0m\u001b[90m Float64 \u001b[0m\u001b[90m Float64 \u001b[0m\u001b[90m Float64 \u001b[0m\u001b[90m Float64 \u001b[0m\u001b[90m Float64 \u001b[0m\u001b[90m Float64 \u001b[0m\u001b[90m Float64 \u001b[0m\u001b[90m Int64 \u001b[0m\n",
      "─────┼───────────────────────────────────────────────────────────────────────────────\n",
      "   1 │    28.0     99.0     0.05      0.0  627.772  109.659  8.14936  16.6541      1\n",
      "   2 │    28.0     99.0     0.05     46.5  625.378  108.641  8.14928  16.6541      2\n",
      "   3 │    28.0     99.0     0.05     93.0  622.985  107.706  8.1492   16.6541      3\n",
      "   4 │    28.0     99.0     0.05    139.5  620.591  106.846  8.14912  16.6541      4\n",
      "   5 │    28.0     99.0     0.05    186.0  618.197  106.032  8.14904  16.6541      5\n",
      "   6 │    28.0     99.0     0.05    232.5  615.803  108.382  8.14896  16.6541      6\n",
      "   7 │    28.0     99.0     0.05    279.0  613.409  110.748  8.14887  16.6541      7\n",
      "   8 │    28.0     99.0     0.05    325.5  611.016  113.116  8.14879  16.6541      8\n",
      "   9 │    28.0     99.0     0.05    372.0  608.622  115.478  8.14871  16.6541      9\n",
      "  10 │    28.0     99.0     0.05    418.5  606.228  117.846  8.14863  16.6541     10\n",
      "  11 │    28.0     99.0     0.05    465.0  603.834  120.177  8.14855  16.6541     11\n",
      "  12 │    28.0     99.0     0.05    511.5  601.44   122.511  8.14847  16.6541     12\n",
      "  13 │    28.0     99.0     0.05    558.0  599.046  124.805  8.14839  16.6541     13\n",
      "  14 │    28.0     99.0     0.05    604.5  596.653  127.102  8.14831  16.6541     14\n",
      "  15 │    28.0     99.0     0.05    651.0  594.259  129.386  8.14823  16.6541     15\n",
      "  16 │    28.0     99.0     0.05    697.5  591.865  131.64   8.14815  16.6541     16\n",
      "  17 │    28.0     99.0     0.05    744.0  589.471  133.881  8.14807  16.6541     17\n",
      "  18 │    28.0     99.0     0.05    790.5  587.077  135.859  8.14799  16.6541     18\n",
      "  19 │    28.0     99.0     0.05    837.0  584.684  135.148  8.14791  16.6541     19\n",
      "  20 │    28.0     99.0     0.05    883.5  582.29   134.454  8.14782  16.6541     20\n"
     ]
    }
   ],
   "source": [
    "catalog = CSV.read(\"Catalogs/test_catalog.csv\", DataFrame); #load the pre-calc catalog\n",
    "sort!(catalog, [:carbon, :fc′, :as, :ec])\n",
    "\n",
    "\n",
    "println(\"The catalog was sorted by ascending order from:\\ncarbon -> fc′ -> as -> ec\")\n",
    "println(catalog[1:20,:])"
   ]
  },
  {
   "cell_type": "markdown",
   "metadata": {},
   "source": [
    "Load the demand file   "
   ]
  },
  {
   "cell_type": "code",
   "execution_count": 41,
   "metadata": {},
   "outputs": [
    {
     "name": "stdout",
     "output_type": "stream",
     "text": [
      "Demands were loads from:\n",
      "/Users/pitipatwongsittikan/dev/ConcreteExplorer/src/Demands/test_input_CISBAT_dataset.json\n",
      "\u001b[1m10×8 DataFrame\u001b[0m\n",
      "\u001b[1m Row \u001b[0m│\u001b[1m vu       \u001b[0m\u001b[1m s_idx \u001b[0m\u001b[1m pu           \u001b[0m\u001b[1m e_idx \u001b[0m\u001b[1m type    \u001b[0m\u001b[1m ec_max    \u001b[0m\u001b[1m mu      \u001b[0m\u001b[1m idx   \u001b[0m\n",
      "     │\u001b[90m Float64  \u001b[0m\u001b[90m Int64 \u001b[0m\u001b[90m Float64      \u001b[0m\u001b[90m Int64 \u001b[0m\u001b[90m String  \u001b[0m\u001b[90m Float64   \u001b[0m\u001b[90m Float64 \u001b[0m\u001b[90m Int64 \u001b[0m\n",
      "─────┼──────────────────────────────────────────────────────────────────────────\n",
      "   1 │ 129.755       0  -1.4779e-15       0  primary  0.0423597  129.755      1\n",
      "   2 │ 129.755       1  -7.38948e-16      0  primary  0.117666   194.632      2\n",
      "   3 │ 129.755       2  -7.38948e-16      0  primary  0.180421   259.509      3\n",
      "   4 │  45.9809      3   1.4779e-15       0  primary  0.230625   283.246      4\n",
      "   5 │  45.9809      4   7.38948e-16      0  primary  0.268278   306.237      5\n",
      "   6 │  45.9809      5  -7.38948e-16      0  primary  0.29338    329.227      6\n",
      "   7 │  45.9809      6  -7.38948e-16      0  primary  0.305931   352.218      7\n",
      "   8 │  45.9809      7   0.0              0  primary  0.305931   352.218      8\n",
      "   9 │  45.9809      8   0.0              0  primary  0.29338    329.227      9\n",
      "  10 │  45.9809      9  -7.38948e-16      0  primary  0.268278   306.237     10\n"
     ]
    }
   ],
   "source": [
    "#load demands into a dictionary\n",
    "demand_path = joinpath(@__DIR__, \"Demands/test_input_CISBAT_dataset.json\");\n",
    "open(demand_path, \"r\") do f\n",
    "    global demands = DataFrame(JSON.parse(f, dicttype=Dict{String,Any}))\n",
    "    ns = size(demands)[1]\n",
    "    demands[!,:idx] = 1:ns\n",
    "    println(\"Demands were loads from:\\n\", demand_path)\n",
    "end\n",
    "println(demands[1:10,:])"
   ]
  },
  {
   "cell_type": "markdown",
   "metadata": {},
   "source": [
    "The demand catalog was labeled with 0 index scheme, add 1 so they are compatible with Julia 1 index scheme."
   ]
  },
  {
   "cell_type": "code",
   "execution_count": 42,
   "metadata": {},
   "outputs": [
    {
     "name": "stdout",
     "output_type": "stream",
     "text": [
      "old_min_e_idx = minimum(demands[!, \"e_idx\"]) = 0\n",
      "old_min_s_idx = minimum(demands[!, \"s_idx\"]) = 0\n",
      "old_max_e_idx = maximum(demands[!, \"e_idx\"]) = 29\n",
      "old_max_s_idx = maximum(demands[!, \"s_idx\"]) = 13\n"
     ]
    }
   ],
   "source": [
    "@show old_min_e_idx = minimum(demands[!, \"e_idx\"]);\n",
    "@show old_min_s_idx = minimum(demands[!, \"s_idx\"]);\n",
    "\n",
    "@show old_max_e_idx = maximum(demands[!, \"e_idx\"]);\n",
    "@show old_max_s_idx = maximum(demands[!, \"s_idx\"]);\n",
    "\n"
   ]
  },
  {
   "cell_type": "code",
   "execution_count": 43,
   "metadata": {},
   "outputs": [],
   "source": [
    "demands[!,\"e_idx\"] .+= 1 ;\n",
    "demands[!,\"s_idx\"] .+= 1 ;"
   ]
  },
  {
   "cell_type": "code",
   "execution_count": 44,
   "metadata": {},
   "outputs": [
    {
     "name": "stdout",
     "output_type": "stream",
     "text": [
      "new_min_e_idx = minimum(demands[!, \"e_idx\"]) = 1\n",
      "new_min_s_idx = minimum(demands[!, \"s_idx\"]) = 1\n",
      "new_max_e_idx = maximum(demands[!, \"e_idx\"]) = 30\n",
      "new_max_s_idx = maximum(demands[!, \"s_idx\"]) = 14\n"
     ]
    }
   ],
   "source": [
    "@show new_min_e_idx = minimum(demands[!, \"e_idx\"]);\n",
    "@show new_min_s_idx = minimum(demands[!, \"s_idx\"]);\n",
    "\n",
    "@show new_max_e_idx = maximum(demands[!, \"e_idx\"]);\n",
    "@show new_max_s_idx = maximum(demands[!, \"s_idx\"]);\n"
   ]
  },
  {
   "cell_type": "markdown",
   "metadata": {},
   "source": [
    "Fix redundant element indices due to Primary and Secondary labels"
   ]
  },
  {
   "cell_type": "code",
   "execution_count": 45,
   "metadata": {},
   "outputs": [],
   "source": [
    "global e_idx = 1 \n",
    "for i in 1:size(demands)[1]\n",
    "    if i !=1\n",
    "        demands[i-1, :e_idx] = e_idx\n",
    "        if demands[i,:s_idx] < demands[i-1,:s_idx]\n",
    "            global e_idx +=1 \n",
    "        end\n",
    "        \n",
    "    end\n",
    "    if i == size(demands)[1]\n",
    "        demands[i, :e_idx] = e_idx\n",
    "    end\n",
    "end"
   ]
  },
  {
   "cell_type": "markdown",
   "metadata": {},
   "source": [
    "Create a function to filter only feasible designs in a demand point"
   ]
  },
  {
   "cell_type": "code",
   "execution_count": 46,
   "metadata": {},
   "outputs": [
    {
     "data": {
      "text/plain": [
       "filter_demands"
      ]
     },
     "metadata": {},
     "output_type": "display_data"
    }
   ],
   "source": [
    "\n",
    "\"\"\"\n",
    "filter feasible demands\n",
    "\"\"\"\n",
    "function filter_demands(demands::DataFrame, catalog::DataFrame)\n",
    "\n",
    "    ns = size(demands)[1]          #total number of sections\n",
    "    ne = unique(demands[!, :e_idx]) #total number of elements\n",
    "    nc = size(catalog, 1)           #total number of available choices\n",
    "\n",
    "    output_results = Dict{Int64,Vector{Int64}}() #map between demands and indices of the feasible section.\n",
    "    demands[!, \"total_results\"] = zeros(Int64, size(demands)[1])\n",
    "    #go through each section and filter the feasible designs from the catalog.\n",
    "    for i = 1:ns\n",
    "        en = demands[i, \"e_idx\"]\n",
    "        sn = demands[i, \"s_idx\"]\n",
    "        # push!(elements_to_sections[en], sn)\n",
    "\n",
    "        pu = demands[i, \"pu\"]\n",
    "        mu = demands[i, \"mu\"]\n",
    "        # vu = demands[i,\"vu\"]\n",
    "        ec_max = demands[i, \"ec_max\"]\n",
    "\n",
    "        global feasible_sections = filter([:Pu, :Mu, :Vu, :ec] => (x1, x2, x3, x4) ->\n",
    "                x1 > pu &&\n",
    "                x2 > mu &&\n",
    "                # x3 > vu && Have not consider the shear\n",
    "                x4 <= ec_max * 1000,\n",
    "            catalog\n",
    "        )\n",
    "\n",
    "        if size(feasible_sections)[1] == 0 #if the number of feasible results = 0\n",
    "            println(feasible_sections[!, :ID])\n",
    "            println(\"section $sn: element $en\")\n",
    "            output_results[i] = [0]\n",
    "            demands[i, \"total_results\"] = 0\n",
    "            # println(outr)\n",
    "        else\n",
    "            output_results[i] = feasible_sections[!, :ID]\n",
    "            demands[i, \"total_results\"] = length(feasible_sections[!, :ID])\n",
    "            # println(outr)\n",
    "        end\n",
    "    end\n",
    "\n",
    "    return output_results\n",
    "end\n"
   ]
  },
  {
   "cell_type": "code",
   "execution_count": 49,
   "metadata": {},
   "outputs": [
    {
     "data": {
      "text/plain": [
       "find_optimum"
      ]
     },
     "metadata": {},
     "output_type": "display_data"
    }
   ],
   "source": [
    "\"\"\"\n",
    "Find the optimum result for each element.\n",
    "    \n",
    "    !! not optimum\n",
    "For the same element, will use the same fc′ steel size and post tensioning stress.\n",
    "\n",
    "\"\"\"\n",
    "function find_optimum(output_results, demands)\n",
    "    ns = size(demands)[1]\n",
    "    ne = unique(demands[!, :e_idx])\n",
    "\n",
    "    elements_designs = Dict(k => [[]] for k in unique(demands[!, \"e_idx\"])) #element index to list of designs\n",
    "    elements_to_sections = Dict(k => Int[] for k in unique(demands[!, \"e_idx\"]))\n",
    "    for i = 1:ns\n",
    "        en = demands[i, \"e_idx\"]\n",
    "        # sn = demands[i, \"s_idx\"]\n",
    "        push!(elements_to_sections[en], i)\n",
    "    end\n",
    "\n",
    "    #find fc′, as, and fpe that appear in all sections in an element.\n",
    "    for i in ProgressBars(ne) #loop each element\n",
    "        println(\"working on element $i out of $(length(ne)) elements\")\n",
    "        sections = elements_to_sections[i] #sections associated with this element\n",
    "        local ns = length(sections)     # number of sections in this element \n",
    "\n",
    "        #start from the middle-ish section\n",
    "        mid = div(ns, 2) #note that section is in the form of 1 to ns, consecutively.\n",
    "\n",
    "        #get the feasible designs for the middle section\n",
    "        feasible_idx = output_results[sections[mid]]\n",
    "\n",
    "        #catalog was already sorted, so I think we can leave this part, just filter, to save time.\n",
    "        sub_catalog = sort(catalog[feasible_idx, :], [:carbon, :fc′, :ec])\n",
    "        # sub_catalog = catalog[feasible_idx, :]\n",
    "\n",
    "        #now, loop each design in the sub catalog, see if as and fpe are available in all sections.\n",
    "        #if not, remove that design from the sub catalog.\n",
    "        #if yes, keep it.\n",
    "\n",
    "        for d in eachrow(sub_catalog)\n",
    "            # all_fc′ = true\n",
    "            all_as = true\n",
    "            all_fpe = true\n",
    "            for s in sections\n",
    "                #check if the design is available in that section.\n",
    "                #if not, remove it from the sub catalog.\n",
    "                #if yes, keep it.\n",
    "                # if !(d[:fc′] ∈ catalog[output_results[s], :fc′])\n",
    "                #     all_fc′ = false\n",
    "                # end\n",
    "                if !(d[:as] ∈ catalog[output_results[s], :as])\n",
    "                    all_as = false\n",
    "                end\n",
    "                if !(d[:fpe] ∈ catalog[output_results[s], :fpe])\n",
    "                    all_fpe = false\n",
    "                end\n",
    "            end\n",
    "            if all_as && all_fpe\n",
    "                #first run, found, move on.\n",
    "                break\n",
    "            end\n",
    "        end\n",
    "\n",
    "        # sort!(sub_catalog, [:carbon, :fpe, :as, :ec])\n",
    "\n",
    "        #get the first one, they will appear in the entire thing anyway.\n",
    "        this_fpe = sub_catalog[1, :fpe]\n",
    "        this_as = sub_catalog[1, :as]\n",
    "\n",
    "        sections_designs = Vector{Vector}(undef, ns)\n",
    "        for is in eachindex(elements_to_sections[i])\n",
    "            #current section index\n",
    "            s = elements_to_sections[i][is]\n",
    "\n",
    "            feasible_idx = output_results[s]\n",
    "            sub_catalog = catalog[feasible_idx, :]\n",
    "\n",
    "            fpe_as(fpe::Float64, as::Float64) = fpe == this_fpe && as == this_as\n",
    "\n",
    "            this_catalog = filter([:fpe, :as] => fpe_as, catalog[output_results[s], :])\n",
    "\n",
    "            sort!(this_catalog, [:carbon, :ec])\n",
    "\n",
    "\n",
    "\n",
    "            #get the first one, it's the best.\n",
    "            select_ID = this_catalog[1, :ID]\n",
    "            #find lowest e for this one.\n",
    "            sections_designs[is] = collect(catalog[select_ID, :])\n",
    "            println(sections_designs[is])\n",
    "        end\n",
    "\n",
    "        elements_designs[i] = sections_designs\n",
    "\n",
    "    end\n",
    "\n",
    "    return elements_designs\n",
    "end"
   ]
  },
  {
   "cell_type": "code",
   "execution_count": 47,
   "metadata": {},
   "outputs": [
    {
     "data": {
      "text/plain": [
       "Dict{Int64, Vector{Int64}} with 552 entries:\n",
       "  56  => [16, 17, 18, 19, 20, 21, 22, 23, 24, 25  …  21799, 21800, 21801, 21802…\n",
       "  35  => [975, 976, 977, 978, 979, 1003, 1004, 1005, 1006, 1007  …  21799, 2180…\n",
       "  425 => [1, 2, 3, 4, 5, 6, 7, 8, 9, 10  …  21799, 21800, 21801, 21802, 21803, …\n",
       "  429 => [1, 2, 3, 4, 5, 6, 7, 8, 9, 10  …  21799, 21800, 21801, 21802, 21803, …\n",
       "  60  => [6658, 6659, 6660, 6661, 6686, 6687, 6688, 6689, 6690, 6691  …  21799,…\n",
       "  220 => [134, 135, 136, 160, 161, 162, 163, 164, 165, 166  …  21799, 21800, 21…\n",
       "  308 => [45, 46, 47, 48, 49, 50, 51, 52, 53, 54  …  21799, 21800, 21801, 21802…\n",
       "  67  => [6658, 6659, 6660, 6661, 6686, 6687, 6688, 6689, 6690, 6691  …  21799,…\n",
       "  215 => [1, 2, 3, 4, 5, 6, 7, 8, 9, 10  …  21799, 21800, 21801, 21802, 21803, …\n",
       "  73  => [569, 570, 571, 572, 573, 596, 597, 598, 599, 600  …  21799, 21800, 21…\n",
       "  319 => [45, 46, 47, 48, 49, 50, 51, 52, 53, 54  …  21799, 21800, 21801, 21802…\n",
       "  251 => [132, 133, 134, 135, 136, 137, 138, 139, 140, 141  …  21799, 21800, 21…\n",
       "  115 => [3991, 3992, 3993, 3994, 4019, 4020, 4021, 4022, 4023, 4024  …  21799,…\n",
       "  112 => [17, 18, 19, 20, 21, 22, 43, 44, 45, 46  …  21799, 21800, 21801, 21802…\n",
       "  185 => [16, 17, 18, 19, 20, 21, 22, 23, 24, 25  …  21799, 21800, 21801, 21802…\n",
       "  348 => [1, 2, 3, 4, 5, 6, 7, 8, 9, 10  …  21799, 21800, 21801, 21802, 21803, …\n",
       "  420 => [1, 2, 3, 4, 5, 6, 7, 8, 9, 10  …  21799, 21800, 21801, 21802, 21803, …\n",
       "  404 => [1, 2, 3, 4, 5, 6, 7, 8, 9, 10  …  21799, 21800, 21801, 21802, 21803, …\n",
       "  525 => [1, 2, 3, 4, 5, 6, 7, 8, 9, 10  …  21799, 21800, 21801, 21802, 21803, …\n",
       "  ⋮   => ⋮"
      ]
     },
     "metadata": {},
     "output_type": "display_data"
    }
   ],
   "source": [
    "output_results = filter_demands(demands,catalog)\n"
   ]
  },
  {
   "cell_type": "markdown",
   "metadata": {},
   "source": []
  }
 ],
 "metadata": {
  "kernelspec": {
   "display_name": "Julia 1.9.4",
   "language": "julia",
   "name": "julia-1.9"
  },
  "language_info": {
   "file_extension": ".jl",
   "mimetype": "application/julia",
   "name": "julia",
   "version": "1.9.4"
  }
 },
 "nbformat": 4,
 "nbformat_minor": 2
}
