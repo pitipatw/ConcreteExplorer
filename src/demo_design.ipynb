{
 "cells": [
  {
   "cell_type": "markdown",
   "metadata": {},
   "source": [
    "# PixelFrame engineering design demo"
   ]
  },
  {
   "cell_type": "markdown",
   "metadata": {},
   "source": [
    "To do\n",
    "\n",
    "Shear from steel fiber.\n",
    "actual length for absolute value of tendon profile\n",
    "servicability from the model"
   ]
  },
  {
   "cell_type": "markdown",
   "metadata": {},
   "source": [
    "Import required packages"
   ]
  },
  {
   "cell_type": "code",
   "execution_count": 24,
   "metadata": {},
   "outputs": [
    {
     "name": "stderr",
     "output_type": "stream",
     "text": [
      "\u001b[32m\u001b[1m  Activating\u001b[22m\u001b[39m project at `e:\\dev\\ConcreteExplorer`\n"
     ]
    },
    {
     "name": "stdout",
     "output_type": "stream",
     "text": [
      "\u001b[32m\u001b[1mStatus\u001b[22m\u001b[39m `E:\\dev\\ConcreteExplorer\\Project.toml`\n",
      "  \u001b[90m[acfe5cae] \u001b[39mAsapSections v0.1.0 `https://github.com/keithjlee/AsapSections#main`\n",
      "  \u001b[90m[336ed68f] \u001b[39mCSV v0.10.12\n",
      "\u001b[32m⌃\u001b[39m \u001b[90m[13f3f980] \u001b[39mCairoMakie v0.11.5\n",
      "  \u001b[90m[a93c6f00] \u001b[39mDataFrames v1.6.1\n",
      "  \u001b[90m[59287772] \u001b[39mFormatting v0.4.2\n",
      "  \u001b[90m[f6369f11] \u001b[39mForwardDiff v0.10.36\n",
      "\u001b[32m⌃\u001b[39m \u001b[90m[e9467ef8] \u001b[39mGLMakie v0.9.5\n",
      "  \u001b[90m[682c06a0] \u001b[39mJSON v0.21.4\n",
      "\u001b[33m⌅\u001b[39m \u001b[90m[ee78f7c6] \u001b[39mMakie v0.20.4\n",
      "  \u001b[90m[01bcebdf] \u001b[39mNonconvex v2.1.3\n",
      "  \u001b[90m[d3d89cbb] \u001b[39mNonconvexMMA v1.0.0\n",
      "  \u001b[90m[b43a31b8] \u001b[39mNonconvexNLopt v0.1.8\n",
      "\u001b[32m⌃\u001b[39m \u001b[90m[429524aa] \u001b[39mOptim v1.7.8\n",
      "\u001b[32m⌃\u001b[39m \u001b[90m[7f7a1694] \u001b[39mOptimization v3.20.2\n",
      "\u001b[32m⌃\u001b[39m \u001b[90m[4e6fcdb7] \u001b[39mOptimizationNLopt v0.1.8\n",
      "  \u001b[90m[49802e3a] \u001b[39mProgressBars v1.5.1\n",
      "\u001b[32m⌃\u001b[39m \u001b[90m[90137ffa] \u001b[39mStaticArrays v1.9.1\n",
      "  \u001b[90m[3a884ed6] \u001b[39mUnPack v1.0.2\n",
      "\u001b[32m⌃\u001b[39m \u001b[90m[e88e6eb3] \u001b[39mZygote v0.6.68\n",
      "  \u001b[90m[10745b16] \u001b[39mStatistics v1.9.0\n",
      "\u001b[36m\u001b[1mInfo\u001b[22m\u001b[39m Packages marked with \u001b[32m⌃\u001b[39m and \u001b[33m⌅\u001b[39m have new versions available, but those with \u001b[33m⌅\u001b[39m are restricted by compatibility constraints from upgrading. To see why use `status --outdated`\n"
     ]
    }
   ],
   "source": [
    "using Pkg\n",
    "Pkg.activate(\"..\");\n",
    "Pkg.status()\n",
    "Pkg.instantiate()"
   ]
  },
  {
   "cell_type": "code",
   "execution_count": 27,
   "metadata": {},
   "outputs": [],
   "source": [
    "using CSV\n",
    "using DataFrames\n",
    "using JSON\n",
    "using Dates\n",
    "using ProgressBars\n",
    "using UnPack"
   ]
  },
  {
   "cell_type": "markdown",
   "metadata": {},
   "source": [
    "Load functions associate with deflection calculation"
   ]
  },
  {
   "cell_type": "code",
   "execution_count": 30,
   "metadata": {},
   "outputs": [],
   "source": [
    "include(\"Functions/Deflection/definition.jl\");\n",
    "include(\"Functions/Deflection/functions.jl\");\n",
    "include(\"Functions/Deflection/Interpolations.jl\");"
   ]
  },
  {
   "cell_type": "markdown",
   "metadata": {},
   "source": [
    "Load the precalculated catalog"
   ]
  },
  {
   "cell_type": "code",
   "execution_count": 3,
   "metadata": {},
   "outputs": [
    {
     "data": {
      "text/plain": [
       "\"e:\\\\dev\\\\ConcreteExplorer\\\\src\""
      ]
     },
     "metadata": {},
     "output_type": "display_data"
    }
   ],
   "source": [
    "pwd()"
   ]
  },
  {
   "cell_type": "code",
   "execution_count": 4,
   "metadata": {},
   "outputs": [
    {
     "name": "stdout",
     "output_type": "stream",
     "text": [
      "The catalog was sorted by ascending order from:\n",
      "carbon -> fc′ -> as -> ec\n"
     ]
    },
    {
     "name": "stdout",
     "output_type": "stream",
     "text": [
      "\u001b[1m20×12 DataFrame\u001b[0m\n",
      "\u001b[1m Row \u001b[0m│\u001b[1m fc′     \u001b[0m\u001b[1m as      \u001b[0m\u001b[1m ec      \u001b[0m\u001b[1m fpe     \u001b[0m\u001b[1m Pu      \u001b[0m\u001b[1m Mu      \u001b[0m\u001b[1m Vu      \u001b[0m\u001b[1m carbon  \u001b[0m\u001b[1m L       \u001b[0m\u001b[1m t       \u001b[0m\u001b[1m Lc      \u001b[0m\u001b[1m ID    \u001b[0m\n",
      "     │\u001b[90m Float64 \u001b[0m\u001b[90m Float64 \u001b[0m\u001b[90m Float64 \u001b[0m\u001b[90m Float64 \u001b[0m\u001b[90m Float64 \u001b[0m\u001b[90m Float64 \u001b[0m\u001b[90m Float64 \u001b[0m\u001b[90m Float64 \u001b[0m\u001b[90m Float64 \u001b[0m\u001b[90m Float64 \u001b[0m\u001b[90m Float64 \u001b[0m\u001b[90m Int64 \u001b[0m\n",
      "─────┼──────────────────────────────────────────────────────────────────────────────────────────────────────────\n",
      "   1 │    28.0     99.0     0.05      0.0  1848.29  553.008  141.784  47.7428    400.0     40.0     40.0      1\n",
      "   2 │    28.0     99.0     0.05     46.5  1845.9   566.913  141.784  47.7428    400.0     40.0     40.0      2\n",
      "   3 │    28.0     99.0     0.05     93.0  1843.5   580.812  141.784  47.7428    400.0     40.0     40.0      3\n",
      "   4 │    28.0     99.0     0.05    139.5  1841.11  594.717  141.784  47.7428    400.0     40.0     40.0      4\n",
      "   5 │    28.0     99.0     0.05    186.0  1838.71  608.569  141.784  47.7428    400.0     40.0     40.0      5\n",
      "   6 │    28.0     99.0     0.05    232.5  1836.32  622.411  141.784  47.7428    400.0     40.0     40.0      6\n",
      "   7 │    28.0     99.0     0.05    279.0  1833.93  636.214  141.784  47.7428    400.0     40.0     40.0      7\n",
      "   8 │    28.0     99.0     0.05    325.5  1831.53  650.02   141.784  47.7428    400.0     40.0     40.0      8\n",
      "   9 │    28.0     99.0     0.05    372.0  1829.14  663.762  141.784  47.7428    400.0     40.0     40.0      9\n",
      "  10 │    28.0     99.0     0.05    418.5  1826.75  677.442  141.784  47.7428    400.0     40.0     40.0     10\n",
      "  11 │    28.0     99.0     0.05    465.0  1824.35  691.143  141.784  47.7428    400.0     40.0     40.0     11\n",
      "  12 │    28.0     99.0     0.05    511.5  1821.96  704.751  141.784  47.7428    400.0     40.0     40.0     12\n",
      "  13 │    28.0     99.0     0.05    558.0  1819.56  718.349  141.784  47.7428    400.0     40.0     40.0     13\n",
      "  14 │    28.0     99.0     0.05    604.5  1817.17  723.734  141.784  47.7428    400.0     40.0     40.0     14\n",
      "  15 │    28.0     99.0     0.05    651.0  1814.78  721.727  141.784  47.7428    400.0     40.0     40.0     15\n",
      "  16 │    28.0     99.0     0.05    697.5  1812.38  719.804  141.784  47.7428    400.0     40.0     40.0     16\n",
      "  17 │    28.0     99.0     0.05    744.0  1809.99  717.882  141.784  47.7428    400.0     40.0     40.0     17\n",
      "  18 │    28.0     99.0     0.05    790.5  1807.6   716.044  141.784  47.7428    400.0     40.0     40.0     18\n",
      "  19 │    28.0     99.0     0.05    837.0  1805.2   714.206  141.784  47.7428    400.0     40.0     40.0     19\n",
      "  20 │    28.0     99.0     0.05    883.5  1802.81  712.536  141.784  47.7428    400.0     40.0     40.0     20\n"
     ]
    }
   ],
   "source": [
    "catalog = CSV.read(\"Catalogs/test_catalog.csv\", DataFrame); #load the pre-calc catalog\n",
    "catalog = CSV.read(\"Catalogs/JAN23_2_catalog_static.csv\", DataFrame); #load the pre-calc catalog\n",
    "\n",
    "sort!(catalog, [:carbon, :fc′, :as, :ec])\n",
    "\n",
    "\n",
    "println(\"The catalog was sorted by ascending order from:\\ncarbon -> fc′ -> as -> ec\")\n",
    "println(catalog[1:20,:])"
   ]
  },
  {
   "cell_type": "markdown",
   "metadata": {},
   "source": [
    "Load the demand file   "
   ]
  },
  {
   "cell_type": "code",
   "execution_count": 5,
   "metadata": {},
   "outputs": [
    {
     "name": "stdout",
     "output_type": "stream",
     "text": [
      "Demands were loads from:\n",
      "e:\\dev\\ConcreteExplorer\\src\\Demands/test_input_CISBAT_dataset.json\n",
      "\u001b[1m10×8 DataFrame\u001b[0m\n",
      "\u001b[1m Row \u001b[0m│\u001b[1m vu       \u001b[0m\u001b[1m s_idx \u001b[0m\u001b[1m pu           \u001b[0m\u001b[1m e_idx \u001b[0m\u001b[1m type    \u001b[0m\u001b[1m ec_max    \u001b[0m\u001b[1m mu      \u001b[0m\u001b[1m idx   \u001b[0m\n",
      "     │\u001b[90m Float64  \u001b[0m\u001b[90m Int64 \u001b[0m\u001b[90m Float64      \u001b[0m\u001b[90m Int64 \u001b[0m\u001b[90m String  \u001b[0m\u001b[90m Float64   \u001b[0m\u001b[90m Float64 \u001b[0m\u001b[90m Int64 \u001b[0m\n",
      "─────┼──────────────────────────────────────────────────────────────────────────\n",
      "   1 │ 129.755       0  -1.4779e-15       0  primary  0.0423597  129.755      1\n",
      "   2 │ 129.755       1  -7.38948e-16      0  primary  0.117666   194.632      2\n",
      "   3 │ 129.755       2  -7.38948e-16      0  primary  0.180421   259.509      3\n",
      "   4 │  45.9809      3   1.4779e-15       0  primary  0.230625   283.246      4\n",
      "   5 │  45.9809      4   7.38948e-16      0  primary  0.268278   306.237      5\n",
      "   6 │  45.9809      5  -7.38948e-16      0  primary  0.29338    329.227      6\n",
      "   7 │  45.9809      6  -7.38948e-16      0  primary  0.305931   352.218      7\n",
      "   8 │  45.9809      7   0.0              0  primary  0.305931   352.218      8\n",
      "   9 │  45.9809      8   0.0              0  primary  0.29338    329.227      9\n",
      "  10 │  45.9809      9  -7.38948e-16      0  primary  0.268278   306.237     10\n"
     ]
    }
   ],
   "source": [
    "#load demands into a dictionary\n",
    "demand_path = joinpath(@__DIR__, \"Demands/test_input_CISBAT_dataset.json\");\n",
    "open(demand_path, \"r\") do f\n",
    "    global demands = DataFrame(JSON.parse(f, dicttype=Dict{String,Any}))\n",
    "    ns = size(demands)[1]\n",
    "    demands[!,:idx] = 1:ns\n",
    "    println(\"Demands were loads from:\\n\", demand_path)\n",
    "end\n",
    "println(demands[1:10,:])"
   ]
  },
  {
   "cell_type": "markdown",
   "metadata": {},
   "source": [
    "The demand catalog was labeled with 0 index scheme, add 1 so they are compatible with Julia 1 index scheme."
   ]
  },
  {
   "cell_type": "code",
   "execution_count": 6,
   "metadata": {},
   "outputs": [
    {
     "name": "stdout",
     "output_type": "stream",
     "text": [
      "old_min_e_idx = minimum(demands[!, \"e_idx\"]) = 0\n",
      "old_min_s_idx = minimum(demands[!, \"s_idx\"]) = 0\n",
      "old_max_e_idx = maximum(demands[!, \"e_idx\"]) = 29\n",
      "old_max_s_idx = maximum(demands[!, \"s_idx\"]) = 13\n"
     ]
    }
   ],
   "source": [
    "@show old_min_e_idx = minimum(demands[!, \"e_idx\"]);\n",
    "@show old_min_s_idx = minimum(demands[!, \"s_idx\"]);\n",
    "\n",
    "@show old_max_e_idx = maximum(demands[!, \"e_idx\"]);\n",
    "@show old_max_s_idx = maximum(demands[!, \"s_idx\"]);\n",
    "\n"
   ]
  },
  {
   "cell_type": "code",
   "execution_count": 7,
   "metadata": {},
   "outputs": [],
   "source": [
    "demands[!,\"e_idx\"] .+= 1 ;\n",
    "demands[!,\"s_idx\"] .+= 1 ;"
   ]
  },
  {
   "cell_type": "code",
   "execution_count": 8,
   "metadata": {},
   "outputs": [
    {
     "name": "stdout",
     "output_type": "stream",
     "text": [
      "new_min_e_idx = minimum(demands[!, \"e_idx\"]) = 1\n",
      "new_min_s_idx = minimum(demands[!, \"s_idx\"]) = 1\n",
      "new_max_e_idx = maximum(demands[!, \"e_idx\"]) = 30\n",
      "new_max_s_idx = maximum(demands[!, \"s_idx\"]) = 14\n"
     ]
    }
   ],
   "source": [
    "@show new_min_e_idx = minimum(demands[!, \"e_idx\"]);\n",
    "@show new_min_s_idx = minimum(demands[!, \"s_idx\"]);\n",
    "\n",
    "@show new_max_e_idx = maximum(demands[!, \"e_idx\"]);\n",
    "@show new_max_s_idx = maximum(demands[!, \"s_idx\"]);\n"
   ]
  },
  {
   "cell_type": "markdown",
   "metadata": {},
   "source": [
    "Fix redundant element indices due to Primary and Secondary labels"
   ]
  },
  {
   "cell_type": "code",
   "execution_count": 9,
   "metadata": {},
   "outputs": [],
   "source": [
    "global e_idx = 1 \n",
    "for i in 1:size(demands)[1]\n",
    "    if i !=1\n",
    "        demands[i-1, :e_idx] = e_idx\n",
    "        if demands[i,:s_idx] < demands[i-1,:s_idx]\n",
    "            global e_idx +=1 \n",
    "        end\n",
    "        \n",
    "    end\n",
    "    if i == size(demands)[1]\n",
    "        demands[i, :e_idx] = e_idx\n",
    "    end\n",
    "end"
   ]
  },
  {
   "cell_type": "markdown",
   "metadata": {},
   "source": [
    "Create a function to filter only feasible designs in a demand point"
   ]
  },
  {
   "cell_type": "code",
   "execution_count": 10,
   "metadata": {},
   "outputs": [
    {
     "data": {
      "text/plain": [
       "filter_demands"
      ]
     },
     "metadata": {},
     "output_type": "display_data"
    }
   ],
   "source": [
    "\n",
    "\"\"\"\n",
    "filter feasible demands\n",
    "\"\"\"\n",
    "function filter_demands(demands::DataFrame, catalog::DataFrame)\n",
    "\n",
    "    ns = size(demands)[1]          #total number of sections\n",
    "    ne = unique(demands[!, :e_idx]) #total number of elements\n",
    "    nc = size(catalog, 1)           #total number of available choices\n",
    "\n",
    "    output_results = Dict{Int64,Vector{Int64}}() #map between demands and indices of the feasible section.\n",
    "    demands[!, \"total_results\"] = zeros(Int64, size(demands)[1])\n",
    "    #go through each section and filter the feasible designs from the catalog.\n",
    "    for i = 1:ns\n",
    "        en = demands[i, \"e_idx\"]\n",
    "        sn = demands[i, \"s_idx\"]\n",
    "        # push!(elements_to_sections[en], sn)\n",
    "\n",
    "        pu = demands[i, \"pu\"]\n",
    "        mu = demands[i, \"mu\"]\n",
    "        vu = demands[i,\"vu\"]*0.9\n",
    "        ec_max = demands[i, \"ec_max\"]\n",
    "\n",
    "        global feasible_sections = filter([:Pu, :Mu, :Vu, :ec] => (x1, x2, x3, x4) ->\n",
    "                x1 > pu &&\n",
    "                x2 > mu &&\n",
    "                x3 > vu && \n",
    "                x4 <= ec_max * 1000,\n",
    "            catalog\n",
    "        )\n",
    "\n",
    "        if size(feasible_sections)[1] == 0 #if the number of feasible results = 0\n",
    "            println(feasible_sections[!, :ID])\n",
    "            println(\"section $sn: element $en\")\n",
    "            output_results[i] = [0]\n",
    "            demands[i, \"total_results\"] = 0\n",
    "            # println(outr)\n",
    "        else\n",
    "            output_results[i] = feasible_sections[!, :ID]\n",
    "            demands[i, \"total_results\"] = length(feasible_sections[!, :ID])\n",
    "            # println(outr)\n",
    "        end\n",
    "    end\n",
    "\n",
    "    return output_results\n",
    "end\n"
   ]
  },
  {
   "cell_type": "code",
   "execution_count": 11,
   "metadata": {},
   "outputs": [
    {
     "data": {
      "text/plain": [
       "find_optimum"
      ]
     },
     "metadata": {},
     "output_type": "display_data"
    }
   ],
   "source": [
    "\"\"\"\n",
    "Find the optimum result for each element.\n",
    "    \n",
    "    !! not optimum\n",
    "For the same element, will use the same fc′ steel size and post tensioning stress.\n",
    "\n",
    "\"\"\"\n",
    "function find_optimum(output_results::Dict{Int64, Vector{Int64}}, demands::DataFrame)\n",
    "    total_ns = size(demands)[1] #get total number of section points.\n",
    "    ne = unique(demands[!, :e_idx]) #number of elements\n",
    "\n",
    "    #Map element indices to indices of sections indices on those elements.\n",
    "    elements_to_sections = Dict(k => Int[] for k in unique(demands[!, \"e_idx\"]))\n",
    "    for i = 1:total_ns\n",
    "        en = demands[i, \"e_idx\"]\n",
    "        # sn = demands[i, \"s_idx\"]\n",
    "        push!(elements_to_sections[en], i)\n",
    "    end\n",
    "\n",
    "    #element index to list of designs\n",
    "    elements_designs = Dict(k => [[]] for k in unique(demands[!, \"e_idx\"])) \n",
    "\n",
    "\n",
    "    #find fc′, as, and fpe that appear in all sections in an element.\n",
    "    # for i in ProgressBar(ne) #loop each element\n",
    "    for i in ne\n",
    "        println(\"Element $i out of $(length(ne)) elements\")\n",
    "        sections = elements_to_sections[i] #sections associated with this element\n",
    "\n",
    "        ns = length(sections)     # number of sections in this element \n",
    "\n",
    "        #start from the middle-ish section (n/2 or (n-1)/2)\n",
    "        #note that section is in the form of 1,2,3,..., ns.\n",
    "        mid = div(ns, 2)\n",
    "        \n",
    "        #get the feasible designs for the middle section\n",
    "        feasible_idx = output_results[sections[mid]]\n",
    "\n",
    "        #catalog was already sorted, so I think we can leave this part, just filter, to save time.\n",
    "        mid_catalog = sort(catalog[feasible_idx, :], [:carbon, :fc′, :ec])\n",
    "        # mid_catalog = catalog[feasible_idx, :]\n",
    "\n",
    "        #now, loop each design in the sub catalog, see if as and fpe are available in all sections.\n",
    "        #if not, remove that design from the sub catalog.\n",
    "        #if yes, keep it.\n",
    "\n",
    "        #select each design, check if as and fpe exist for the the section\n",
    "        global_d = 0 \n",
    "        for d_idx in 1:size(catalog)[1]\n",
    "            d = mid_catalog[d_idx, :]\n",
    "\n",
    "            all_as  = true\n",
    "            all_fpe = true\n",
    "            serviceability_check = true\n",
    "\n",
    "            for s in sections\n",
    "                println(s)\n",
    "                #check if the design is available in that section.\n",
    "                #if not, remove it from the sub catalog.\n",
    "                #if yes, keep it.\n",
    "\n",
    "                #at this version, make sure that the fR1 and fR3 are also matched.\n",
    "                # if !(d[:fc′] ∈ catalog[output_results[s], :fc′])\n",
    "                #     all_fc′ = false\n",
    "                #     break\n",
    "                # end\n",
    "\n",
    "                if !(d[:as] ∈ catalog[output_results[s], :as])\n",
    "                    all_as = false\n",
    "                    break\n",
    "                end\n",
    "                if !(d[:fpe] ∈ catalog[output_results[s], :fpe])\n",
    "                    all_fpe = false\n",
    "                    break\n",
    "                end\n",
    "            end\n",
    "\n",
    "            #now check the serviceability\n",
    "            if all_as && all_fpe\n",
    "                #first run, found, move on.\n",
    "\n",
    "                #check serviceability\n",
    "                δ = get_deflection(fc′,...)\n",
    "                if δ > element_length/240\n",
    "                    serviceability_check = false\n",
    "                     \n",
    "                    global_d = d_idx\n",
    "                break\n",
    "            end\n",
    "        end\n",
    "\n",
    "        #get the first one, they will appear in the entire thing anyway.\n",
    "        this_fc′ = mid_catalog[global_d, :fc′]\n",
    "        this_fpe = mid_catalog[global_d, :fpe]\n",
    "        this_as = mid_catalog[global_d, :as]\n",
    "\n",
    "        sections_designs = Vector{Vector}(undef, ns)\n",
    "        for is in eachindex(elements_to_sections[i])\n",
    "            #current section index\n",
    "            s = elements_to_sections[i][is]\n",
    "\n",
    "            feasible_idx = output_results[s]\n",
    "            \n",
    "            fc′_fpe_as(fc′::Float64, fpe::Float64, as::Float64) = fc′ == this_fc′ && fpe == this_fpe && as == this_as\n",
    "            # fpe_as(fpe::Float64, as::Float64) = fpe == this_fpe && as == this_as\n",
    "\n",
    "            this_catalog = filter([:fc′, :fpe, :as] => fc′_fpe_as, catalog[output_results[s], :])\n",
    "\n",
    "            sort!(this_catalog, [:carbon, :ec])\n",
    "\n",
    "            #get the first one, it's the lowest carbon\n",
    "            select_ID = this_catalog[1, :ID]\n",
    "            #find lowest e for this one.\n",
    "            sections_designs[is] = collect(catalog[select_ID, :])\n",
    "            # println(sections_designs[is])\n",
    "        end\n",
    "\n",
    "        elements_designs[i] = sections_designs\n",
    "\n",
    "    end\n",
    "\n",
    "    return elements_designs, elements_to_sections\n",
    "end"
   ]
  },
  {
   "cell_type": "markdown",
   "metadata": {},
   "source": [
    "Filter the catalog entries that meet the demands."
   ]
  },
  {
   "cell_type": "code",
   "execution_count": 12,
   "metadata": {},
   "outputs": [
    {
     "data": {
      "text/plain": [
       "Dict{Int64, Vector{Int64}} with 552 entries:\n",
       "  56  => [1, 2, 3, 4, 5, 6, 7, 8, 9, 10  …  79045, 79046, 79047, 79048, 79049, …\n",
       "  35  => [1, 2, 3, 4, 5, 6, 7, 8, 9, 10  …  79045, 79046, 79047, 79048, 79049, …\n",
       "  425 => [1, 2, 3, 4, 5, 6, 7, 8, 9, 10  …  79045, 79046, 79047, 79048, 79049, …\n",
       "  429 => [1, 2, 3, 4, 5, 6, 7, 8, 9, 10  …  79045, 79046, 79047, 79048, 79049, …\n",
       "  60  => [1, 2, 3, 4, 5, 6, 7, 8, 9, 10  …  79045, 79046, 79047, 79048, 79049, …\n",
       "  220 => [1, 2, 3, 4, 5, 6, 7, 8, 9, 10  …  79045, 79046, 79047, 79048, 79049, …\n",
       "  308 => [1, 2, 3, 4, 5, 6, 7, 8, 9, 10  …  79045, 79046, 79047, 79048, 79049, …\n",
       "  67  => [1, 2, 3, 4, 5, 6, 7, 8, 9, 10  …  79045, 79046, 79047, 79048, 79049, …\n",
       "  215 => [1, 2, 3, 4, 5, 6, 7, 8, 9, 10  …  79045, 79046, 79047, 79048, 79049, …\n",
       "  73  => [1, 2, 3, 4, 5, 6, 7, 8, 9, 10  …  79045, 79046, 79047, 79048, 79049, …\n",
       "  319 => [1, 2, 3, 4, 5, 6, 7, 8, 9, 10  …  79045, 79046, 79047, 79048, 79049, …\n",
       "  251 => [1, 2, 3, 4, 5, 6, 7, 8, 9, 10  …  79045, 79046, 79047, 79048, 79049, …\n",
       "  115 => [58610, 58611, 58612, 58613, 58614, 58615, 58616, 58617, 58618, 58619 …\n",
       "  112 => [1, 2, 3, 4, 5, 6, 7, 8, 9, 10  …  79045, 79046, 79047, 79048, 79049, …\n",
       "  185 => [1, 2, 3, 4, 5, 6, 7, 8, 9, 10  …  79045, 79046, 79047, 79048, 79049, …\n",
       "  348 => [1, 2, 3, 4, 5, 6, 7, 8, 9, 10  …  79045, 79046, 79047, 79048, 79049, …\n",
       "  420 => [1, 2, 3, 4, 5, 6, 7, 8, 9, 10  …  79045, 79046, 79047, 79048, 79049, …\n",
       "  404 => [1, 2, 3, 4, 5, 6, 7, 8, 9, 10  …  79045, 79046, 79047, 79048, 79049, …\n",
       "  525 => [1, 2, 3, 4, 5, 6, 7, 8, 9, 10  …  79045, 79046, 79047, 79048, 79049, …\n",
       "  ⋮   => ⋮"
      ]
     },
     "metadata": {},
     "output_type": "display_data"
    }
   ],
   "source": [
    "output_results= filter_demands(demands,catalog)\n"
   ]
  },
  {
   "cell_type": "code",
   "execution_count": 13,
   "metadata": {},
   "outputs": [
    {
     "name": "stdout",
     "output_type": "stream",
     "text": [
      "Element 1 out of 57 elements\n",
      "1\n",
      "2\n",
      "3\n",
      "4\n",
      "5\n",
      "6\n",
      "7\n",
      "8\n",
      "9\n",
      "10\n",
      "11\n",
      "12\n",
      "13\n",
      "14"
     ]
    },
    {
     "name": "stdout",
     "output_type": "stream",
     "text": [
      "\n",
      "Element 2 out of 57 elements\n",
      "15\n",
      "16\n",
      "17\n",
      "18\n",
      "19\n",
      "20\n",
      "21\n",
      "22\n",
      "23\n",
      "24\n",
      "25\n",
      "26\n",
      "27\n",
      "28\n",
      "Element 3 out of 57 elements\n",
      "29\n",
      "30\n",
      "31\n",
      "32\n",
      "33\n",
      "34\n",
      "35\n",
      "36\n",
      "37\n",
      "38\n",
      "39\n",
      "40\n",
      "41\n",
      "42\n",
      "Element 4 out of 57 elements\n"
     ]
    },
    {
     "name": "stdout",
     "output_type": "stream",
     "text": [
      "43\n",
      "44\n",
      "45\n",
      "46\n",
      "47\n",
      "48\n",
      "49\n",
      "50\n",
      "51\n",
      "52\n",
      "53\n",
      "54\n",
      "55\n",
      "56\n",
      "Element 5 out of 57 elements\n",
      "57\n",
      "58\n",
      "59\n",
      "60\n",
      "61\n",
      "62\n",
      "63\n",
      "64\n",
      "65\n",
      "66\n",
      "67\n",
      "68\n",
      "69\n",
      "70"
     ]
    },
    {
     "name": "stdout",
     "output_type": "stream",
     "text": [
      "\n"
     ]
    },
    {
     "ename": "BoundsError",
     "evalue": "BoundsError: attempt to access 0×12 DataFrame at index [1, :ID]",
     "output_type": "error",
     "traceback": [
      "BoundsError: attempt to access 0×12 DataFrame at index [1, :ID]\n",
      "\n",
      "Stacktrace:\n",
      " [1] getindex(df::DataFrame, row_ind::Int64, col_ind::Symbol)\n",
      "   @ DataFrames C:\\Users\\pitipatw\\.julia\\packages\\DataFrames\\58MUJ\\src\\dataframe\\dataframe.jl:524\n",
      " [2] find_optimum(output_results::Dict{Int64, Vector{Int64}}, demands::DataFrame)\n",
      "   @ Main e:\\dev\\ConcreteExplorer\\src\\demo_design.ipynb:100\n",
      " [3] top-level scope\n",
      "   @ e:\\dev\\ConcreteExplorer\\src\\demo_design.ipynb:1"
     ]
    }
   ],
   "source": [
    "elements_designs, elements_to_sections  = find_optimum(output_results, demands)\n"
   ]
  },
  {
   "cell_type": "markdown",
   "metadata": {},
   "source": [
    "Save the design result"
   ]
  },
  {
   "cell_type": "code",
   "execution_count": 14,
   "metadata": {},
   "outputs": [
    {
     "ename": "UndefVarError",
     "evalue": "UndefVarError: `elements_designs` not defined",
     "output_type": "error",
     "traceback": [
      "UndefVarError: `elements_designs` not defined\n",
      "\n",
      "Stacktrace:\n",
      " [1] (::var\"#20#21\")(f::IOStream)\n",
      "   @ Main e:\\dev\\ConcreteExplorer\\src\\demo_design.ipynb:2\n",
      " [2] open(::var\"#20#21\", ::String, ::Vararg{String}; kwargs::Base.Pairs{Symbol, Union{}, Tuple{}, NamedTuple{(), Tuple{}}})\n",
      "   @ Base .\\io.jl:395\n",
      " [3] open(::Function, ::String, ::String)\n",
      "   @ Base .\\io.jl:392\n",
      " [4] top-level scope\n",
      "   @ e:\\dev\\ConcreteExplorer\\src\\demo_design.ipynb:1"
     ]
    }
   ],
   "source": [
    "open(\"Results/designs_results_22_01.json\",\"w\") do f\n",
    "    JSON.print(f, elements_designs)\n",
    "end"
   ]
  },
  {
   "cell_type": "markdown",
   "metadata": {},
   "source": [
    "## 3. Visualizing the results"
   ]
  },
  {
   "cell_type": "markdown",
   "metadata": {},
   "source": [
    "Load required packages"
   ]
  },
  {
   "cell_type": "code",
   "execution_count": 15,
   "metadata": {},
   "outputs": [],
   "source": [
    "using Makie, GLMakie, CairoMakie\n",
    "using JSON\n",
    "using DataFrames, CSV"
   ]
  },
  {
   "cell_type": "markdown",
   "metadata": {},
   "source": [
    "Load back the design results"
   ]
  },
  {
   "cell_type": "code",
   "execution_count": 16,
   "metadata": {},
   "outputs": [
    {
     "ename": "ErrorException",
     "evalue": "Unexpected end of input\nLine: 0\nAround: ......\n           ^\n",
     "output_type": "error",
     "traceback": [
      "Unexpected end of input\n",
      "Line: 0\n",
      "Around: ......\n",
      "           ^\n",
      "\n",
      "\n",
      "Stacktrace:\n",
      "  [1] error(s::String)\n",
      "    @ Base .\\error.jl:35\n",
      "  [2] _error(message::String, ps::JSON.Parser.MemoryParserState)\n",
      "    @ JSON.Parser C:\\Users\\pitipatw\\.julia\\packages\\JSON\\93Ea8\\src\\Parser.jl:140\n",
      "  [3] byteat\n",
      "    @ C:\\Users\\pitipatw\\.julia\\packages\\JSON\\93Ea8\\src\\Parser.jl:49 [inlined]\n",
      "  [4] parse_value(pc::JSON.Parser.ParserContext{Dict{String, Vector{Vector{Float64}}}, Int64, true, nothing}, ps::JSON.Parser.MemoryParserState)\n",
      "    @ JSON.Parser C:\\Users\\pitipatw\\.julia\\packages\\JSON\\93Ea8\\src\\Parser.jl:160\n",
      "  [5] parse(str::String; dicttype::Type, inttype::Type{Int64}, allownan::Bool, null::Nothing)\n",
      "    @ JSON.Parser C:\\Users\\pitipatw\\.julia\\packages\\JSON\\93Ea8\\src\\Parser.jl:450\n",
      "  [6] (::JSON.Parser.var\"#4#5\"{DataType, DataType, Nothing, Bool, Bool, Int64})(io::IOStream)\n",
      "    @ JSON.Parser C:\\Users\\pitipatw\\.julia\\packages\\JSON\\93Ea8\\src\\Parser.jl:511\n",
      "  [7] open(f::JSON.Parser.var\"#4#5\"{DataType, DataType, Nothing, Bool, Bool, Int64}, args::String; kwargs::Base.Pairs{Symbol, Union{}, Tuple{}, NamedTuple{(), Tuple{}}})\n",
      "    @ Base .\\io.jl:395\n",
      "  [8] open\n",
      "    @ .\\io.jl:392 [inlined]\n",
      "  [9] #parsefile#3\n",
      "    @ C:\\Users\\pitipatw\\.julia\\packages\\JSON\\93Ea8\\src\\Parser.jl:509 [inlined]\n",
      " [10] top-level scope\n",
      "    @ e:\\dev\\ConcreteExplorer\\src\\demo_design.ipynb:1"
     ]
    }
   ],
   "source": [
    "designs = JSON.parsefile(joinpath(@__DIR__,\"Results/designs_results_22_01.json\"), dicttype = Dict{String,Vector{Vector{Float64}}});\n",
    "\n",
    "ne = length(designs)\n",
    "println(\"There are $ne elements.\")\n"
   ]
  },
  {
   "cell_type": "code",
   "execution_count": 17,
   "metadata": {},
   "outputs": [
    {
     "ename": "UndefVarError",
     "evalue": "UndefVarError: `designs` not defined",
     "output_type": "error",
     "traceback": [
      "UndefVarError: `designs` not defined\n",
      "\n",
      "Stacktrace:\n",
      " [1] top-level scope\n",
      "   @ e:\\dev\\ConcreteExplorer\\src\\demo_design.ipynb:1"
     ]
    }
   ],
   "source": [
    "designs[\"1\"]"
   ]
  },
  {
   "cell_type": "code",
   "execution_count": 18,
   "metadata": {},
   "outputs": [
    {
     "ename": "UndefVarError",
     "evalue": "UndefVarError: `designs` not defined",
     "output_type": "error",
     "traceback": [
      "UndefVarError: `designs` not defined\n",
      "\n",
      "Stacktrace:\n",
      " [1] top-level scope\n",
      "   @ e:\\dev\\ConcreteExplorer\\src\\demo_design.ipynb:1"
     ]
    }
   ],
   "source": [
    "designs[\"5\"]"
   ]
  },
  {
   "cell_type": "code",
   "execution_count": 19,
   "metadata": {},
   "outputs": [
    {
     "data": {
      "text/plain": [
       "plot_element (generic function with 1 method)"
      ]
     },
     "metadata": {},
     "output_type": "display_data"
    }
   ],
   "source": [
    "function plot_element(element_number::Int64, designs::Dict;L::Float64 = 250.0)\n",
    "\n",
    "\n",
    "sections = elements_to_sections[element_number]\n",
    "element_number = string(element_number)\n",
    "\n",
    "L = 400\n",
    "tendon_profile = L.*[i[3] for i in designs[element_number]]\n",
    "axial_capacity  = [i[5] for i in designs[element_number]]\n",
    "moment_capacity = [i[6] for i in designs[element_number]]\n",
    "shear_capacity = [i[7] for i in designs[element_number]]\n",
    "\n",
    "\n",
    "axial_demand  = [ demands[i,\"pu\"] for i in sections]\n",
    "moment_demand = [ demands[i,\"mu\"] for i in sections]\n",
    "shear_demand  = [ demands[i,\"vu\"] for i in sections]\n",
    "\n",
    "\n",
    "#plot center around x = 0 \n",
    "@show n = length(tendon_profile)\n",
    "xmax = div(n,2)*500\n",
    "@show res = mod(n+1,2)*250\n",
    "@show x_range = -xmax+res:500:xmax-res\n",
    "\n",
    "\n",
    "\n",
    "f1 = Figure(size = (1200,600))\n",
    "g = f1[1,1] = GridLayout()\n",
    "\n",
    "axs_design = Axis(g[1,1],title = \"Element $element_number\", titlesize = 20,\n",
    "aspect = DataAspect(),\n",
    "limits = (-xmax-100, xmax+100, -1.3*L, 0.6*L),\n",
    "yticks = L:-100:-L,\n",
    "# yminorticks = IntervalsBetween(2),\n",
    "# yminorgridvisible = true,\n",
    "ylabel = \"y\"\n",
    ")\n",
    "\n",
    "poly!(Rect( -xmax+res, -L, (n-1)*500, L*1.5), color = (:grey,0.2))\n",
    "tendon = lines!(axs_design, x_range, -tendon_profile)\n",
    "\n",
    "axs_axial  = Axis(g[2,1],aspect = 10,\n",
    "limits = (-xmax, xmax, nothing, nothing),ylabel = \"Axial [kN]\", \n",
    ")\n",
    "\n",
    "axs_moment = Axis(g[3,1],aspect = 10,\n",
    "limits = (-xmax, xmax, nothing, nothing),ylabel = \"Moment [kNm]\",\n",
    ")\n",
    "axs_shear  = Axis(g[4,1],aspect = 10,\n",
    "limits = (-xmax, xmax, nothing, nothing),ylabel = \"Shear [kN]\", \n",
    ")\n",
    "hidexdecorations!(axs_design, grid = false)\n",
    "hidexdecorations!(axs_axial, grid = false)\n",
    "hidexdecorations!(axs_moment, grid = false)\n",
    "\n",
    "lines!(axs_axial ,x_range, axial_capacity , color = :red)\n",
    "lines!(axs_moment,x_range, moment_capacity, color = :blue)\n",
    "lines!(axs_shear ,x_range, shear_capacity , color = :green)\n",
    "\n",
    "lines!(axs_axial ,x_range, axial_demand ,linestyle = :dash, color = :red)\n",
    "lines!(axs_moment,x_range, moment_demand,linestyle = :dash, color = :blue)\n",
    "lines!(axs_shear ,x_range, shear_demand ,linestyle = :dash, color = :green)\n",
    "\n",
    "\n",
    "# for (i, label) in enumerate([\"Axial [kN]\", \"Moment [kNm]\", \"Shear [kN]\"])\n",
    "#     Box(g[i, 2], color = :gray90)\n",
    "#     Label(g[i,2], label, rotation = pi/2, tellheight = false)\n",
    "# end\n",
    "\n",
    "rowgap!(g, 10)\n",
    "\n",
    "@show yspace = maximum(tight_yticklabel_spacing!, [axs_axial, axs_shear, axs_moment])+10\n",
    "\n",
    "axs_axial.yticklabelspace = yspace\n",
    "axs_moment.yticklabelspace = yspace\n",
    "axs_shear.yticklabelspace = yspace\n",
    "\n",
    "f1\n",
    "\n",
    "return f1\n",
    "end\n"
   ]
  },
  {
   "cell_type": "code",
   "execution_count": 20,
   "metadata": {},
   "outputs": [
    {
     "ename": "UndefVarError",
     "evalue": "UndefVarError: `designs` not defined",
     "output_type": "error",
     "traceback": [
      "UndefVarError: `designs` not defined\n",
      "\n",
      "Stacktrace:\n",
      " [1] top-level scope\n",
      "   @ e:\\dev\\ConcreteExplorer\\src\\demo_design.ipynb:1"
     ]
    }
   ],
   "source": [
    "designs[\"11\"]"
   ]
  },
  {
   "cell_type": "code",
   "execution_count": 21,
   "metadata": {},
   "outputs": [
    {
     "ename": "UndefVarError",
     "evalue": "UndefVarError: `designs` not defined",
     "output_type": "error",
     "traceback": [
      "UndefVarError: `designs` not defined\n",
      "\n",
      "Stacktrace:\n",
      " [1] top-level scope\n",
      "   @ e:\\dev\\ConcreteExplorer\\src\\demo_design.ipynb:1"
     ]
    }
   ],
   "source": [
    "plot_element(11, designs)"
   ]
  },
  {
   "cell_type": "code",
   "execution_count": 22,
   "metadata": {},
   "outputs": [
    {
     "ename": "UndefVarError",
     "evalue": "UndefVarError: `designs` not defined",
     "output_type": "error",
     "traceback": [
      "UndefVarError: `designs` not defined\n",
      "\n",
      "Stacktrace:\n",
      " [1] top-level scope\n",
      "   @ e:\\dev\\ConcreteExplorer\\src\\demo_design.ipynb:2"
     ]
    }
   ],
   "source": [
    "for i in 1:new_max_e_idx\n",
    "    f = plot_element(i, designs)\n",
    "    save(\"Results3/$i.png\",f)\n",
    "end"
   ]
  },
  {
   "cell_type": "code",
   "execution_count": 23,
   "metadata": {},
   "outputs": [],
   "source": []
  }
 ],
 "metadata": {
  "kernelspec": {
   "display_name": "Julia 1.9.2",
   "language": "julia",
   "name": "julia-1.9"
  },
  "language_info": {
   "file_extension": ".jl",
   "mimetype": "application/julia",
   "name": "julia",
   "version": "1.9.2"
  }
 },
 "nbformat": 4,
 "nbformat_minor": 2
}
