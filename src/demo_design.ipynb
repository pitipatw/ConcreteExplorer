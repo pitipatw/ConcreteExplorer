{
 "cells": [
  {
   "cell_type": "markdown",
   "metadata": {},
   "source": [
    "# PixelFrame engineering design demo"
   ]
  },
  {
   "cell_type": "markdown",
   "metadata": {},
   "source": [
    "To do\n",
    "\n",
    "Shear from steel fiber.\n",
    "actual length for absolute value of tendon profile\n",
    "servicability from the model"
   ]
  },
  {
   "cell_type": "markdown",
   "metadata": {},
   "source": [
    "Import required packages"
   ]
  },
  {
   "cell_type": "code",
   "execution_count": 1,
   "metadata": {},
   "outputs": [
    {
     "name": "stderr",
     "output_type": "stream",
     "text": [
      "\u001b[32m\u001b[1m  Activating\u001b[22m\u001b[39m project at `c:\\Users\\pitipatw\\dev\\ConcreteExplorer`"
     ]
    },
    {
     "name": "stderr",
     "output_type": "stream",
     "text": [
      "\n"
     ]
    },
    {
     "name": "stdout",
     "output_type": "stream",
     "text": [
      "\u001b[32m\u001b[1mStatus\u001b[22m\u001b[39m `C:\\Users\\pitipatw\\dev\\ConcreteExplorer\\Project.toml`\n"
     ]
    },
    {
     "name": "stdout",
     "output_type": "stream",
     "text": [
      "  \u001b[90m[acfe5cae] \u001b[39mAsapSections v0.1.0 `https://github.com/keithjlee/AsapSections#main`\n",
      "  "
     ]
    },
    {
     "name": "stdout",
     "output_type": "stream",
     "text": [
      "\u001b[90m[336ed68f] \u001b[39mCSV v0.10.12\n",
      "\u001b[91m→\u001b[39m \u001b[90m[13f3f980] \u001b[39mCairoMakie v0.11.5\n",
      "  \u001b[90m[a93c6f00] \u001b[39mDataFrames v1.6.1\n",
      "  \u001b[90m[59287772] \u001b[39mFormatting v0.4.2\n",
      "  \u001b[90m[f6369f11] \u001b[39mForwardDiff v0.10.36\n",
      "\u001b[91m→\u001b[39m \u001b[90m[e9467ef8] \u001b[39mGLMakie v0.9.5\n",
      "  \u001b[90m[682c06a0] \u001b[39mJSON v0.21.4\n",
      "\u001b[91m→\u001b[39m \u001b[90m[ee78f7c6] \u001b[39mMakie v0.20.4\n",
      "  \u001b[90m[01bcebdf] \u001b[39mNonconvex v2.1.3\n",
      "  \u001b[90m[d3d89cbb] \u001b[39mNonconvexMMA v1.0.0\n",
      "  \u001b[90m[b43a31b8] \u001b[39mNonconvexNLopt v0.1.8\n",
      "  \u001b[90m[429524aa] \u001b[39mOptim v1.7.8\n",
      "  \u001b[90m[7f7a1694] \u001b[39mOptimization v3.20.2\n",
      "  \u001b[90m[4e6fcdb7] \u001b[39mOptimizationNLopt v0.1.8\n",
      "  \u001b[90m[49802e3a] \u001b[39mProgressBars v1.5.1\n",
      "\u001b[91m→\u001b[39m \u001b[90m[90137ffa] \u001b[39mStaticArrays v1.9.1\n",
      "\u001b[91m→\u001b[39m \u001b[90m[e88e6eb3] \u001b[39mZygote v0.6.68\n",
      "  \u001b[90m[10745b16] \u001b[39mStatistics v1.9.0\n",
      "\u001b[36m\u001b[1mInfo\u001b[22m\u001b[39m Packages marked with \u001b[91m→\u001b[39m are not downloaded, use `instantiate` to download\n"
     ]
    },
    {
     "name": "stderr",
     "output_type": "stream",
     "text": [
      "\u001b[32m\u001b[1m   Installed\u001b[22m\u001b[39m Mods ───────────── v2.2.3\n"
     ]
    },
    {
     "name": "stderr",
     "output_type": "stream",
     "text": [
      "\u001b[32m\u001b[1m   Installed\u001b[22m\u001b[39m ZygoteRules ────── v0.2.4\n"
     ]
    },
    {
     "name": "stderr",
     "output_type": "stream",
     "text": [
      "\u001b[32m\u001b[1m   Installed\u001b[22m\u001b[39m FFTW ───────────── v1.7.2\n"
     ]
    },
    {
     "name": "stderr",
     "output_type": "stream",
     "text": [
      "\u001b[32m\u001b[1m   Installed\u001b[22m\u001b[39m StableHashTraits ─ v1.1.4\n"
     ]
    },
    {
     "name": "stderr",
     "output_type": "stream",
     "text": [
      "\u001b[32m\u001b[1m   Installed\u001b[22m\u001b[39m GLMakie ────────── v0.9.5\n"
     ]
    },
    {
     "name": "stderr",
     "output_type": "stream",
     "text": [
      "\u001b[32m\u001b[1m   Installed\u001b[22m\u001b[39m StaticArrays ───── v1.9.1\n",
      "\u001b[32m\u001b[1m   Installed\u001b[22m\u001b[39m Permutations ───── v0.4.19\n"
     ]
    },
    {
     "name": "stderr",
     "output_type": "stream",
     "text": [
      "\u001b[32m\u001b[1m   Installed\u001b[22m\u001b[39m LinearAlgebraX ─── v0.2.6\n"
     ]
    },
    {
     "name": "stderr",
     "output_type": "stream",
     "text": [
      "\u001b[32m\u001b[1m   Installed\u001b[22m\u001b[39m CodecBzip2 ─────── v0.8.1\n"
     ]
    },
    {
     "name": "stderr",
     "output_type": "stream",
     "text": [
      "\u001b[32m\u001b[1m   Installed\u001b[22m\u001b[39m LinearMaps ─────── v3.11.1\n"
     ]
    },
    {
     "name": "stderr",
     "output_type": "stream",
     "text": [
      "\u001b[32m\u001b[1m   Installed\u001b[22m\u001b[39m IRTools ────────── v0.4.11\n",
      "\u001b[32m\u001b[1m   Installed\u001b[22m\u001b[39m Automa ─────────── v1.0.2\n",
      "\u001b[32m\u001b[1m   Installed\u001b[22m\u001b[39m Zygote ─────────── v0.6.68\n"
     ]
    },
    {
     "name": "stderr",
     "output_type": "stream",
     "text": [
      "\u001b[32m\u001b[1m   Installed\u001b[22m\u001b[39m ChainRules ─────── v1.58.1\n"
     ]
    },
    {
     "name": "stderr",
     "output_type": "stream",
     "text": [
      "\u001b[32m\u001b[1m   Installed\u001b[22m\u001b[39m MakieCore ──────── v0.7.2\n"
     ]
    },
    {
     "name": "stderr",
     "output_type": "stream",
     "text": [
      "\u001b[32m\u001b[1m   Installed\u001b[22m\u001b[39m MacroTools ─────── v0.5.12\n"
     ]
    },
    {
     "name": "stderr",
     "output_type": "stream",
     "text": [
      "\u001b[32m\u001b[1m   Installed\u001b[22m\u001b[39m CairoMakie ─────── v0.11.5\n"
     ]
    },
    {
     "name": "stderr",
     "output_type": "stream",
     "text": [
      "\u001b[32m\u001b[1m   Installed\u001b[22m\u001b[39m ImageCore ──────── v0.10.1\n"
     ]
    },
    {
     "name": "stderr",
     "output_type": "stream",
     "text": [
      "\u001b[32m\u001b[1m   Installed\u001b[22m\u001b[39m ChainRulesCore ─── v1.19.1\n"
     ]
    },
    {
     "name": "stderr",
     "output_type": "stream",
     "text": [
      "\u001b[32m\u001b[1m   Installed\u001b[22m\u001b[39m MathOptInterface ─ v1.25.1\n",
      "\u001b[32m\u001b[1m   Installed\u001b[22m\u001b[39m QuadGK ─────────── v2.9.3\n"
     ]
    },
    {
     "name": "stderr",
     "output_type": "stream",
     "text": [
      "\u001b[32m\u001b[1m   Installed\u001b[22m\u001b[39m SparseDiffTools ── v2.15.0\n"
     ]
    },
    {
     "name": "stderr",
     "output_type": "stream",
     "text": [
      "\u001b[32m\u001b[1m   Installed\u001b[22m\u001b[39m Makie ──────────── v0.20.4\n"
     ]
    },
    {
     "name": "stderr",
     "output_type": "stream",
     "text": [
      "\u001b[32m\u001b[1mPrecompiling\u001b[22m\u001b[39m "
     ]
    },
    {
     "name": "stderr",
     "output_type": "stream",
     "text": [
      "project..."
     ]
    },
    {
     "name": "stderr",
     "output_type": "stream",
     "text": [
      "\n"
     ]
    },
    {
     "name": "stderr",
     "output_type": "stream",
     "text": [
      "\u001b[32m  ✓ \u001b[39m\u001b[90mPermutations\u001b[39m"
     ]
    },
    {
     "name": "stderr",
     "output_type": "stream",
     "text": [
      "\n"
     ]
    },
    {
     "name": "stderr",
     "output_type": "stream",
     "text": [
      "\u001b[32m  ✓ \u001b[39m\u001b[90mMakieCore\u001b[39m\n"
     ]
    },
    {
     "name": "stderr",
     "output_type": "stream",
     "text": [
      "\u001b[32m  ✓ \u001b[39m\u001b[90mChainRulesCore\u001b[39m\n"
     ]
    },
    {
     "name": "stderr",
     "output_type": "stream",
     "text": [
      "\u001b[32m  ✓ \u001b[39m\u001b[90mLinearMaps\u001b[39m\n"
     ]
    },
    {
     "name": "stderr",
     "output_type": "stream",
     "text": [
      "\u001b[32m  ✓ \u001b[39m\u001b[90mCodecZlib\u001b[39m\n"
     ]
    },
    {
     "name": "stderr",
     "output_type": "stream",
     "text": [
      "\u001b[32m  ✓ \u001b[39m\u001b[90mMods\u001b[39m\n"
     ]
    },
    {
     "name": "stderr",
     "output_type": "stream",
     "text": [
      "\u001b[32m  ✓ \u001b[39m\u001b[90mMacroTools\u001b[39m\n"
     ]
    },
    {
     "name": "stderr",
     "output_type": "stream",
     "text": [
      "\u001b[32m  ✓ \u001b[39m\u001b[90mTables\u001b[39m\n"
     ]
    },
    {
     "name": "stderr",
     "output_type": "stream",
     "text": [
      "\u001b[32m  ✓ \u001b[39m\u001b[90mCodecBzip2\u001b[39m\n",
      "\u001b[32m  ✓ \u001b[39m\u001b[90mQuadGK\u001b[39m\n"
     ]
    },
    {
     "name": "stderr",
     "output_type": "stream",
     "text": [
      "\u001b[32m  ✓ \u001b[39m\u001b[90mWeakRefStrings\u001b[39m\n"
     ]
    },
    {
     "name": "stderr",
     "output_type": "stream",
     "text": [
      "\u001b[32m  ✓ \u001b[39m\u001b[90mFreeType\u001b[39m\n"
     ]
    },
    {
     "name": "stderr",
     "output_type": "stream",
     "text": [
      "\u001b[32m  ✓ \u001b[39m\u001b[90mSimplePartitions\u001b[39m\n"
     ]
    },
    {
     "name": "stderr",
     "output_type": "stream",
     "text": [
      "\u001b[32m  ✓ \u001b[39m\u001b[90mChainRulesCore → ChainRulesCoreSparseArraysExt\u001b[39m\n"
     ]
    },
    {
     "name": "stderr",
     "output_type": "stream",
     "text": [
      "\u001b[32m  ✓ \u001b[39m\u001b[90mCairo_jll\u001b[39m\n"
     ]
    },
    {
     "name": "stderr",
     "output_type": "stream",
     "text": [
      "\u001b[32m  ✓ \u001b[39m\u001b[90mAbstractFFTs → AbstractFFTsChainRulesCoreExt\u001b[39m\n"
     ]
    },
    {
     "name": "stderr",
     "output_type": "stream",
     "text": [
      "\u001b[32m  ✓ \u001b[39m"
     ]
    },
    {
     "name": "stderr",
     "output_type": "stream",
     "text": [
      "\u001b[90mDistances → DistancesChainRulesCoreExt\u001b[39m\n"
     ]
    },
    {
     "name": "stderr",
     "output_type": "stream",
     "text": [
      "\u001b[32m  ✓ \u001b[39m\u001b[90mLogExpFunctions → LogExpFunctionsChainRulesCoreExt\u001b[39m\n",
      "\u001b[32m  ✓ \u001b[39m\u001b[90mLinearOperators → LinearOperatorsChainRulesCoreExt\u001b[39m\n"
     ]
    },
    {
     "name": "stderr",
     "output_type": "stream",
     "text": [
      "\u001b[32m  ✓ \u001b[39m\u001b[90mLinearMaps → LinearMapsSparseArraysExt\u001b[39m\n"
     ]
    },
    {
     "name": "stderr",
     "output_type": "stream",
     "text": [
      "\u001b[32m  ✓ \u001b[39m\u001b[90mLinearMaps → LinearMapsStatisticsExt\u001b[39m\n"
     ]
    },
    {
     "name": "stderr",
     "output_type": "stream",
     "text": [
      "\u001b[32m  ✓ \u001b[39mStaticArrays\n"
     ]
    },
    {
     "name": "stderr",
     "output_type": "stream",
     "text": [
      "\u001b[32m  ✓ \u001b[39m\u001b[90mCommonSubexpressions\u001b[39m\n"
     ]
    },
    {
     "name": "stderr",
     "output_type": "stream",
     "text": [
      "\u001b[32m  ✓ \u001b[39m\u001b[90mLinearMaps → LinearMapsChainRulesCoreExt\u001b[39m\n"
     ]
    },
    {
     "name": "stderr",
     "output_type": "stream",
     "text": [
      "\u001b[32m  ✓ \u001b[39m\u001b[90mSimpleTraits\u001b[39m\n"
     ]
    },
    {
     "name": "stderr",
     "output_type": "stream",
     "text": [
      "\u001b[32m  ✓ \u001b[39m\u001b[90mLazy\u001b[39m\n"
     ]
    },
    {
     "name": "stderr",
     "output_type": "stream",
     "text": [
      "\u001b[32m  ✓ \u001b[39m\u001b[90mIRTools\u001b[39m\n"
     ]
    },
    {
     "name": "stderr",
     "output_type": "stream",
     "text": [
      "\u001b[32m  ✓ \u001b[39m\u001b[90mTruncatedStacktraces\u001b[39m\n"
     ]
    },
    {
     "name": "stderr",
     "output_type": "stream",
     "text": [
      "\u001b[32m  ✓ \u001b[39m\u001b[90mAutoma\u001b[39m\n"
     ]
    },
    {
     "name": "stderr",
     "output_type": "stream",
     "text": [
      "\u001b[32m  ✓ \u001b[39m\u001b[90mFilePaths\u001b[39m\n"
     ]
    },
    {
     "name": "stderr",
     "output_type": "stream",
     "text": [
      "\u001b[32m  ✓ \u001b[39m"
     ]
    },
    {
     "name": "stderr",
     "output_type": "stream",
     "text": [
      "\u001b[90mStableHashTraits\u001b[39m\n"
     ]
    },
    {
     "name": "stderr",
     "output_type": "stream",
     "text": [
      "\u001b[32m  ✓ \u001b[39m\u001b[90mDifferentiableFlatten\u001b[39m\n"
     ]
    },
    {
     "name": "stderr",
     "output_type": "stream",
     "text": [
      "\u001b[32m  ✓ \u001b[39m\u001b[90mLatexify\u001b[39m\n"
     ]
    },
    {
     "name": "stderr",
     "output_type": "stream",
     "text": [
      "\u001b[32m  ✓ \u001b[39m\u001b[90mAbstractDifferentiation\u001b[39m"
     ]
    },
    {
     "name": "stderr",
     "output_type": "stream",
     "text": [
      "\n"
     ]
    },
    {
     "name": "stderr",
     "output_type": "stream",
     "text": [
      "\u001b[32m  ✓ \u001b[39m\u001b[90mMultivariatePolynomials\u001b[39m\n"
     ]
    },
    {
     "name": "stderr",
     "output_type": "stream",
     "text": [
      "\u001b[32m  ✓ \u001b[39m\u001b[90mZygoteRules\u001b[39m"
     ]
    },
    {
     "name": "stderr",
     "output_type": "stream",
     "text": [
      "\n"
     ]
    },
    {
     "name": "stderr",
     "output_type": "stream",
     "text": [
      "\u001b[32m  ✓ \u001b[39m\u001b[90mHarfBuzz_jll\u001b[39m\n"
     ]
    },
    {
     "name": "stderr",
     "output_type": "stream",
     "text": [
      "\u001b[32m  ✓ \u001b[39m\u001b[90mAbstractAlgebra\u001b[39m\n"
     ]
    },
    {
     "name": "stderr",
     "output_type": "stream",
     "text": [
      "\u001b[32m  ✓ \u001b[39m\u001b[90mStatsBase\u001b[39m\n"
     ]
    },
    {
     "name": "stderr",
     "output_type": "stream",
     "text": [
      "\u001b[32m  ✓ \u001b[39m"
     ]
    },
    {
     "name": "stderr",
     "output_type": "stream",
     "text": [
      "\u001b[90mSpecialFunctions\u001b[39m\n"
     ]
    },
    {
     "name": "stderr",
     "output_type": "stream",
     "text": [
      "\u001b[32m  ✓ \u001b[39m\u001b[90mNLPModels\u001b[39m\n"
     ]
    },
    {
     "name": "stderr",
     "output_type": "stream",
     "text": [
      "\u001b[32m  ✓ \u001b[39m\u001b[90mArnoldiMethod\u001b[39m\n"
     ]
    },
    {
     "name": "stderr",
     "output_type": "stream",
     "text": [
      "\u001b[32m  ✓ \u001b[39mCSV\n"
     ]
    },
    {
     "name": "stderr",
     "output_type": "stream",
     "text": [
      "\u001b[32m  ✓ \u001b[39m\u001b[90mFFTW\u001b[39m\n"
     ]
    },
    {
     "name": "stderr",
     "output_type": "stream",
     "text": [
      "\u001b[32m  ✓ \u001b[39m\u001b[90mStaticArrays → StaticArraysChainRulesCoreExt\u001b[39m\n"
     ]
    },
    {
     "name": "stderr",
     "output_type": "stream",
     "text": [
      "\u001b[32m  ✓ \u001b[39m\u001b[90mStaticArrays → StaticArraysStatisticsExt\u001b[39m\n"
     ]
    },
    {
     "name": "stderr",
     "output_type": "stream",
     "text": [
      "\u001b[32m  ✓ \u001b[39m\u001b[90mConstructionBase → ConstructionBaseStaticArraysExt\u001b[39m\n"
     ]
    },
    {
     "name": "stderr",
     "output_type": "stream",
     "text": [
      "\u001b[32m  ✓ \u001b[39m\u001b[90mAdapt → AdaptStaticArraysExt\u001b[39m\n"
     ]
    },
    {
     "name": "stderr",
     "output_type": "stream",
     "text": [
      "\u001b[32m  ✓ \u001b[39m\u001b[90mlibass_jll\u001b[39m\n"
     ]
    },
    {
     "name": "stderr",
     "output_type": "stream",
     "text": [
      "\u001b[32m  ✓ \u001b[39m\u001b[90mDynamicPolynomials\u001b[39m"
     ]
    },
    {
     "name": "stderr",
     "output_type": "stream",
     "text": [
      "\n"
     ]
    },
    {
     "name": "stderr",
     "output_type": "stream",
     "text": [
      "\u001b[32m  ✓ \u001b[39m\u001b[90mPrettyTables\u001b[39m\n"
     ]
    },
    {
     "name": "stderr",
     "output_type": "stream",
     "text": [
      "\u001b[32m  ✓ \u001b[39m\u001b[90mPango_jll\u001b[39m\n"
     ]
    },
    {
     "name": "stderr",
     "output_type": "stream",
     "text": [
      "\u001b[32m  ✓ \u001b[39m\u001b[90mDiffRules\u001b[39m\n"
     ]
    },
    {
     "name": "stderr",
     "output_type": "stream",
     "text": [
      "\u001b[32m  ✓ \u001b[39m\u001b[90mIntervalArithmetic\u001b[39m\n"
     ]
    },
    {
     "name": "stderr",
     "output_type": "stream",
     "text": [
      "\u001b[32m  ✓ \u001b[39m\u001b[90mSpecialFunctions → SpecialFunctionsChainRulesCoreExt\u001b[39m\n"
     ]
    },
    {
     "name": "stderr",
     "output_type": "stream",
     "text": [
      "\u001b[32m  ✓ \u001b[39m"
     ]
    },
    {
     "name": "stderr",
     "output_type": "stream",
     "text": [
      "\u001b[90mDualNumbers\u001b[39m\n"
     ]
    },
    {
     "name": "stderr",
     "output_type": "stream",
     "text": [
      "\u001b[32m  ✓ \u001b[39m\u001b[90mColorVectorSpace → SpecialFunctionsExt\u001b[39m\n"
     ]
    },
    {
     "name": "stderr",
     "output_type": "stream",
     "text": [
      "\u001b[32m  ✓ \u001b[39m\u001b[90mSolverCore\u001b[39m\n"
     ]
    },
    {
     "name": "stderr",
     "output_type": "stream",
     "text": [
      "\u001b[32m  ✓ \u001b[39m"
     ]
    },
    {
     "name": "stderr",
     "output_type": "stream",
     "text": [
      "\u001b[90mGPUArraysCore\u001b[39m\n"
     ]
    },
    {
     "name": "stderr",
     "output_type": "stream",
     "text": [
      "\u001b[32m  ✓ \u001b[39m\u001b[90mArrayInterface\u001b[39m\n"
     ]
    },
    {
     "name": "stderr",
     "output_type": "stream",
     "text": [
      "\u001b[32m  ✓ \u001b[39m\u001b[90mSetfield\u001b[39m\n"
     ]
    },
    {
     "name": "stderr",
     "output_type": "stream",
     "text": [
      "\u001b[32m  ✓ \u001b[39m"
     ]
    },
    {
     "name": "stderr",
     "output_type": "stream",
     "text": [
      "\u001b[90mDomainSets\u001b[39m\n"
     ]
    },
    {
     "name": "stderr",
     "output_type": "stream",
     "text": [
      "\u001b[32m  ✓ \u001b[39m\u001b[90mFFMPEG_jll\u001b[39m\n"
     ]
    },
    {
     "name": "stderr",
     "output_type": "stream",
     "text": [
      "\u001b[32m  ✓ \u001b[39m\u001b[90mInterpolations\u001b[39m\n"
     ]
    },
    {
     "name": "stderr",
     "output_type": "stream",
     "text": [
      "\u001b[32m  ✓ \u001b[39m"
     ]
    },
    {
     "name": "stderr",
     "output_type": "stream",
     "text": [
      "\u001b[90mGraphs\u001b[39m\n"
     ]
    },
    {
     "name": "stderr",
     "output_type": "stream",
     "text": [
      "\u001b[32m  ✓ \u001b[39m\u001b[90mCairo\u001b[39m\n"
     ]
    },
    {
     "name": "stderr",
     "output_type": "stream",
     "text": [
      "\u001b[32m  ✓ \u001b[39mForwardDiff\n"
     ]
    },
    {
     "name": "stderr",
     "output_type": "stream",
     "text": [
      "\u001b[32m  ✓ \u001b[39m\u001b[90mExactPredicates\u001b[39m\n"
     ]
    },
    {
     "name": "stderr",
     "output_type": "stream",
     "text": [
      "\u001b[32m  ✓ \u001b[39m\u001b[90mHypergeometricFunctions\u001b[39m\n"
     ]
    },
    {
     "name": "stderr",
     "output_type": "stream",
     "text": [
      "\u001b[32m  ✓ \u001b[39m\u001b[90mGPUArrays\u001b[39m\n"
     ]
    },
    {
     "name": "stderr",
     "output_type": "stream",
     "text": [
      "\u001b[32m  ✓ \u001b[39m\u001b[90mColorSchemes\u001b[39m\n",
      "\u001b[32m  ✓ \u001b[39m\u001b[90mStructArrays\u001b[39m\n"
     ]
    },
    {
     "name": "stderr",
     "output_type": "stream",
     "text": [
      "\u001b[32m  ✓ \u001b[39m\u001b[90mArrayInterface → ArrayInterfaceGPUArraysCoreExt\u001b[39m\n"
     ]
    },
    {
     "name": "stderr",
     "output_type": "stream",
     "text": [
      "\u001b[32m  ✓ \u001b[39m\u001b[90mArrayInterface → ArrayInterfaceStaticArraysCoreExt\u001b[39m\n"
     ]
    },
    {
     "name": "stderr",
     "output_type": "stream",
     "text": [
      "\u001b[32m  ✓ \u001b[39m\u001b[90mVertexSafeGraphs\u001b[39m\n"
     ]
    },
    {
     "name": "stderr",
     "output_type": "stream",
     "text": [
      "\u001b[32m  ✓ \u001b[39m\u001b[90mForwardDiff → ForwardDiffStaticArraysExt\u001b[39m\n"
     ]
    },
    {
     "name": "stderr",
     "output_type": "stream",
     "text": [
      "\u001b[32m  ✓ \u001b[39m\u001b[90mStatsFuns\u001b[39m\n"
     ]
    },
    {
     "name": "stderr",
     "output_type": "stream",
     "text": [
      "\u001b[32m  ✓ \u001b[39m\u001b[90mImageCore\u001b[39m\n"
     ]
    },
    {
     "name": "stderr",
     "output_type": "stream",
     "text": [
      "\u001b[32m  ✓ \u001b[39m\u001b[90mChainRules\u001b[39m\n"
     ]
    },
    {
     "name": "stderr",
     "output_type": "stream",
     "text": [
      "\u001b[32m  ✓ \u001b[39m\u001b[90mPolynomials\u001b[39m\n"
     ]
    },
    {
     "name": "stderr",
     "output_type": "stream",
     "text": [
      "\u001b[32m  ✓ \u001b[39m\u001b[90mPlotUtils\u001b[39m\n"
     ]
    },
    {
     "name": "stderr",
     "output_type": "stream",
     "text": [
      "\u001b[32m  ✓ \u001b[39m\u001b[90mRecursiveArrayTools\u001b[39m\n"
     ]
    },
    {
     "name": "stderr",
     "output_type": "stream",
     "text": [
      "\u001b[32m  ✓ \u001b[39m\u001b[90mStaticArrayInterface\u001b[39m\n"
     ]
    },
    {
     "name": "stderr",
     "output_type": "stream",
     "text": [
      "\u001b[32m  ✓ \u001b[39m\u001b[90mGroebner\u001b[39m\n"
     ]
    },
    {
     "name": "stderr",
     "output_type": "stream",
     "text": [
      "\u001b[32m  ✓ \u001b[39m\u001b[90mFiniteDiff\u001b[39m\n"
     ]
    },
    {
     "name": "stderr",
     "output_type": "stream",
     "text": [
      "\u001b[32m  ✓ \u001b[39m"
     ]
    },
    {
     "name": "stderr",
     "output_type": "stream",
     "text": [
      "\u001b[90mSciMLOperators\u001b[39m\n"
     ]
    },
    {
     "name": "stderr",
     "output_type": "stream",
     "text": [
      "\u001b[32m  ✓ \u001b[39m\u001b[90mPreallocationTools\u001b[39m\n"
     ]
    },
    {
     "name": "stderr",
     "output_type": "stream",
     "text": [
      "\u001b[32m  ✓ \u001b[39m\u001b[90mGeometryBasics\u001b[39m\n"
     ]
    },
    {
     "name": "stderr",
     "output_type": "stream",
     "text": [
      "\u001b[32m  ✓ \u001b[39m\u001b[90mStatsFuns → StatsFunsChainRulesCoreExt\u001b[39m\n"
     ]
    },
    {
     "name": "stderr",
     "output_type": "stream",
     "text": [
      "\u001b[32m  ✓ \u001b[39mDataFrames\n"
     ]
    },
    {
     "name": "stderr",
     "output_type": "stream",
     "text": [
      "\u001b[32m  ✓ \u001b[39m\u001b[90mImageBase\u001b[39m\n"
     ]
    },
    {
     "name": "stderr",
     "output_type": "stream",
     "text": [
      "\u001b[32m  ✓ \u001b[39m\u001b[90mJpegTurbo\u001b[39m\n"
     ]
    },
    {
     "name": "stderr",
     "output_type": "stream",
     "text": [
      "\u001b[32m  ✓ \u001b[39m\u001b[90mPNGFiles\u001b[39m\n"
     ]
    },
    {
     "name": "stderr",
     "output_type": "stream",
     "text": [
      "\u001b[32m  ✓ \u001b[39m\u001b[90mSixel\u001b[39m\n"
     ]
    },
    {
     "name": "stderr",
     "output_type": "stream",
     "text": [
      "\u001b[32m  ✓ \u001b[39m\u001b[90mDistributions\u001b[39m\n"
     ]
    },
    {
     "name": "stderr",
     "output_type": "stream",
     "text": [
      "\u001b[32m  ✓ \u001b[39m\u001b[90mPolynomials → PolynomialsMakieCoreExt\u001b[39m\n"
     ]
    },
    {
     "name": "stderr",
     "output_type": "stream",
     "text": [
      "\u001b[32m  ✓ \u001b[39m\u001b[90mPolynomials → PolynomialsChainRulesCoreExt\u001b[39m\n"
     ]
    },
    {
     "name": "stderr",
     "output_type": "stream",
     "text": [
      "\u001b[32m  ✓ \u001b[39m\u001b[90mPolynomials → PolynomialsFFTWExt\u001b[39m\n"
     ]
    },
    {
     "name": "stderr",
     "output_type": "stream",
     "text": [
      "\u001b[32m  ✓ \u001b[39m\u001b[90mPolynomials → PolynomialsMutableArithmeticsExt\u001b[39m\n"
     ]
    },
    {
     "name": "stderr",
     "output_type": "stream",
     "text": [
      "\u001b[32m  ✓ \u001b[39m\u001b[90mStaticArrayInterface → StaticArrayInterfaceStaticArraysExt\u001b[39m\n"
     ]
    },
    {
     "name": "stderr",
     "output_type": "stream",
     "text": [
      "\u001b[32m  ✓ \u001b[39m\u001b[90mSimplePolynomials\u001b[39m\n"
     ]
    },
    {
     "name": "stderr",
     "output_type": "stream",
     "text": [
      "\u001b[32m  ✓ \u001b[39m\u001b[90mStaticArrayInterface → StaticArrayInterfaceOffsetArraysExt\u001b[39m"
     ]
    },
    {
     "name": "stderr",
     "output_type": "stream",
     "text": [
      "\n"
     ]
    },
    {
     "name": "stderr",
     "output_type": "stream",
     "text": [
      "\u001b[32m  ✓ \u001b[39m\u001b[90mFiniteDiff → FiniteDiffStaticArraysExt\u001b[39m\n"
     ]
    },
    {
     "name": "stderr",
     "output_type": "stream",
     "text": [
      "\u001b[32m  ✓ \u001b[39m\u001b[90mNLSolversBase\u001b[39m"
     ]
    },
    {
     "name": "stderr",
     "output_type": "stream",
     "text": [
      "\n"
     ]
    },
    {
     "name": "stderr",
     "output_type": "stream",
     "text": [
      "\u001b[32m  ✓ \u001b[39m\u001b[90mPacking\u001b[39m\n"
     ]
    },
    {
     "name": "stderr",
     "output_type": "stream",
     "text": [
      "\u001b[32m  ✓ \u001b[39m\u001b[90mSparseDiffTools\u001b[39m\n"
     ]
    },
    {
     "name": "stderr",
     "output_type": "stream",
     "text": [
      "\u001b[32m  ✓ \u001b[39m\u001b[90mSciMLBase\u001b[39m\n"
     ]
    },
    {
     "name": "stderr",
     "output_type": "stream",
     "text": [
      "\u001b[32m  ✓ \u001b[39m\u001b[90mMeshIO\u001b[39m\n"
     ]
    },
    {
     "name": "stderr",
     "output_type": "stream",
     "text": [
      "\u001b[32m  ✓ \u001b[39m\u001b[90mGridLayoutBase\u001b[39m\n"
     ]
    },
    {
     "name": "stderr",
     "output_type": "stream",
     "text": [
      "\u001b[32m  ✓ \u001b[39m\u001b[90mFreeTypeAbstraction\u001b[39m\n"
     ]
    },
    {
     "name": "stderr",
     "output_type": "stream",
     "text": [
      "\u001b[32m  ✓ \u001b[39m\u001b[90mShaderAbstractions\u001b[39m\n"
     ]
    },
    {
     "name": "stderr",
     "output_type": "stream",
     "text": [
      "\u001b[32m  ✓ \u001b[39m\u001b[90mLatexify → DataFramesExt\u001b[39m\n"
     ]
    },
    {
     "name": "stderr",
     "output_type": "stream",
     "text": [
      "\u001b[32m  ✓ \u001b[39m\u001b[90mImageAxes\u001b[39m\n"
     ]
    },
    {
     "name": "stderr",
     "output_type": "stream",
     "text": [
      "\u001b[32m  ✓ \u001b[39m\u001b[90mDistributions → DistributionsTestExt\u001b[39m\n"
     ]
    },
    {
     "name": "stderr",
     "output_type": "stream",
     "text": [
      "\u001b[32m  ✓ \u001b[39m\u001b[90mDistributions → DistributionsChainRulesCoreExt\u001b[39m\n"
     ]
    },
    {
     "name": "stderr",
     "output_type": "stream",
     "text": [
      "\u001b[32m  ✓ \u001b[39m\u001b[90mLinearAlgebraX\u001b[39m\n"
     ]
    },
    {
     "name": "stderr",
     "output_type": "stream",
     "text": [
      "\u001b[32m  ✓ \u001b[39m\u001b[90mLineSearches\u001b[39m\n"
     ]
    },
    {
     "name": "stderr",
     "output_type": "stream",
     "text": [
      "\u001b[32m  ✓ \u001b[39mOptimization\n"
     ]
    },
    {
     "name": "stderr",
     "output_type": "stream",
     "text": [
      "\u001b[32m  ✓ \u001b[39m\u001b[90mSciMLBase → SciMLBaseChainRulesCoreExt\u001b[39m\n"
     ]
    },
    {
     "name": "stderr",
     "output_type": "stream",
     "text": [
      "\u001b[32m  ✓ \u001b[39m\u001b[90mImageMetadata\u001b[39m\n"
     ]
    },
    {
     "name": "stderr",
     "output_type": "stream",
     "text": [
      "\u001b[32m  ✓ \u001b[39m\u001b[90mSimpleRandom\u001b[39m\n"
     ]
    },
    {
     "name": "stderr",
     "output_type": "stream",
     "text": [
      "\u001b[32m  ✓ \u001b[39m\u001b[90mMathTeXEngine\u001b[39m\n"
     ]
    },
    {
     "name": "stderr",
     "output_type": "stream",
     "text": [
      "\u001b[32m  ✓ \u001b[39mZygote\n"
     ]
    },
    {
     "name": "stderr",
     "output_type": "stream",
     "text": [
      "\u001b[32m  ✓ \u001b[39m\u001b[90mKernelDensity\u001b[39m\n"
     ]
    },
    {
     "name": "stderr",
     "output_type": "stream",
     "text": [
      "\u001b[32m  ✓ \u001b[39mOptim\n"
     ]
    },
    {
     "name": "stderr",
     "output_type": "stream",
     "text": [
      "\u001b[32m  ✓ \u001b[39m\u001b[90mOptimization → OptimizationFiniteDiffExt\u001b[39m\n"
     ]
    },
    {
     "name": "stderr",
     "output_type": "stream",
     "text": [
      "\u001b[32m  ✓ \u001b[39m\u001b[90mOptimization → OptimizationForwardDiffExt\u001b[39m\n"
     ]
    },
    {
     "name": "stderr",
     "output_type": "stream",
     "text": [
      "\u001b[32m  ✓ \u001b[39m\u001b[90mNetpbm\u001b[39m\n"
     ]
    },
    {
     "name": "stderr",
     "output_type": "stream",
     "text": [
      "\u001b[32m  ✓ \u001b[39m\u001b[90mZygote → ZygoteDistancesExt\u001b[39m\n"
     ]
    },
    {
     "name": "stderr",
     "output_type": "stream",
     "text": [
      "\u001b[32m  ✓ \u001b[39m\u001b[90mZygote → ZygoteColorsExt\u001b[39m\n"
     ]
    },
    {
     "name": "stderr",
     "output_type": "stream",
     "text": [
      "\u001b[32m  ✓ \u001b[39m\u001b[90mRecursiveArrayTools → RecursiveArrayToolsZygoteExt\u001b[39m"
     ]
    },
    {
     "name": "stderr",
     "output_type": "stream",
     "text": [
      "\n"
     ]
    },
    {
     "name": "stderr",
     "output_type": "stream",
     "text": [
      "\u001b[32m  ✓ \u001b[39m\u001b[90mSparseDiffTools → SparseDiffToolsZygoteExt\u001b[39m\n"
     ]
    },
    {
     "name": "stderr",
     "output_type": "stream",
     "text": [
      "\u001b[32m  ✓ \u001b[39m\u001b[90mSciMLBase → SciMLBaseZygoteExt\u001b[39m\n"
     ]
    },
    {
     "name": "stderr",
     "output_type": "stream",
     "text": [
      "\u001b[32m  ✓ \u001b[39m\u001b[90mImageIO\u001b[39m\n"
     ]
    },
    {
     "name": "stderr",
     "output_type": "stream",
     "text": [
      "\u001b[32m  ✓ \u001b[39m\u001b[90mLabelledArrays\u001b[39m\n"
     ]
    },
    {
     "name": "stderr",
     "output_type": "stream",
     "text": [
      "\u001b[32m  ✓ \u001b[39m\u001b[90mSimpleGraphs\u001b[39m\n"
     ]
    },
    {
     "name": "stderr",
     "output_type": "stream",
     "text": [
      "\u001b[32m  ✓ \u001b[39m\u001b[90mOptimization → OptimizationZygoteExt\u001b[39m\n"
     ]
    },
    {
     "name": "stderr",
     "output_type": "stream",
     "text": [
      "\u001b[32m  ✓ \u001b[39m\u001b[90mDelaunayTriangulation\u001b[39m\n"
     ]
    },
    {
     "name": "stderr",
     "output_type": "stream",
     "text": [
      "\u001b[32m  ✓ \u001b[39m\u001b[90mSymbolicUtils\u001b[39m"
     ]
    },
    {
     "name": "stderr",
     "output_type": "stream",
     "text": [
      "\n"
     ]
    },
    {
     "name": "stderr",
     "output_type": "stream",
     "text": [
      "\u001b[32m  ✓ \u001b[39m\u001b[90mMathOptInterface\u001b[39m\n"
     ]
    },
    {
     "name": "stderr",
     "output_type": "stream",
     "text": [
      "\u001b[32m  ✓ \u001b[39m\u001b[90mNLopt\u001b[39m\n"
     ]
    },
    {
     "name": "stderr",
     "output_type": "stream",
     "text": [
      "\u001b[32m  ✓ \u001b[39m"
     ]
    },
    {
     "name": "stderr",
     "output_type": "stream",
     "text": [
      "OptimizationNLopt\n"
     ]
    },
    {
     "name": "stderr",
     "output_type": "stream",
     "text": [
      "\u001b[32m  ✓ \u001b[39m\u001b[90mSymbolics\u001b[39m\n"
     ]
    },
    {
     "name": "stderr",
     "output_type": "stream",
     "text": [
      "\u001b[32m  ✓ \u001b[39m\u001b[90mJuMP\u001b[39m\n"
     ]
    },
    {
     "name": "stderr",
     "output_type": "stream",
     "text": [
      "\u001b[32m  ✓ \u001b[39m\u001b[90mSparseDiffTools → SparseDiffToolsSymbolicsExt\u001b[39m\n"
     ]
    },
    {
     "name": "stderr",
     "output_type": "stream",
     "text": [
      "\u001b[32m  ✓ \u001b[39m\u001b[90mNonconvexCore\u001b[39m\n"
     ]
    },
    {
     "name": "stderr",
     "output_type": "stream",
     "text": [
      "\u001b[32m  ✓ \u001b[39mNonconvexNLopt\n"
     ]
    },
    {
     "name": "stderr",
     "output_type": "stream",
     "text": [
      "\u001b[32m  ✓ \u001b[39mNonconvexMMA\n"
     ]
    },
    {
     "name": "stderr",
     "output_type": "stream",
     "text": [
      "\u001b[32m  ✓ \u001b[39m\u001b[90mNonconvexUtils\u001b[39m\n"
     ]
    },
    {
     "name": "stderr",
     "output_type": "stream",
     "text": [
      "\u001b[32m  ✓ \u001b[39mNonconvex\n"
     ]
    },
    {
     "name": "stderr",
     "output_type": "stream",
     "text": [
      "\u001b[32m  ✓ \u001b[39mMakie\n"
     ]
    },
    {
     "name": "stderr",
     "output_type": "stream",
     "text": [
      "\u001b[32m  ✓ \u001b[39mCairoMakie\n"
     ]
    },
    {
     "name": "stderr",
     "output_type": "stream",
     "text": [
      "\u001b[32m  ✓ \u001b[39mGLMakie\n"
     ]
    },
    {
     "name": "stderr",
     "output_type": "stream",
     "text": [
      "  153 dependencies successfully precompiled in 864 seconds. 223 already precompiled.\n",
      "  \u001b[33m1\u001b[39m dependency had warnings during precompilation:\u001b[33m\n",
      "┌ \u001b[39mCairoMakie [13f3f980-e62b-5c42-98c6-ff1f3baf88f0]\u001b[33m\n",
      "│  \u001b[39m** (process:11480): WARNING **: 14:29:47.587: IDWriteFontFamily::GetFont failed with error code 88985003\u001b[33m\n",
      "└  \u001b[39m\n"
     ]
    }
   ],
   "source": [
    "using Pkg\n",
    "Pkg.activate(\"..\");\n",
    "Pkg.status()\n",
    "Pkg.instantiate()"
   ]
  },
  {
   "cell_type": "code",
   "execution_count": 2,
   "metadata": {},
   "outputs": [],
   "source": [
    "using CSV\n",
    "using DataFrames\n",
    "using JSON\n",
    "using Dates\n",
    "using ProgressBars"
   ]
  },
  {
   "cell_type": "markdown",
   "metadata": {},
   "source": [
    "Load the precalculated catalog"
   ]
  },
  {
   "cell_type": "code",
   "execution_count": 3,
   "metadata": {},
   "outputs": [
    {
     "data": {
      "text/plain": [
       "\"c:\\\\Users\\\\pitipatw\\\\dev\\\\ConcreteExplorer\\\\src\""
      ]
     },
     "metadata": {},
     "output_type": "display_data"
    }
   ],
   "source": [
    "pwd()"
   ]
  },
  {
   "cell_type": "code",
   "execution_count": 4,
   "metadata": {},
   "outputs": [
    {
     "name": "stdout",
     "output_type": "stream",
     "text": [
      "The catalog was sorted by ascending order from:\n",
      "carbon -> fc′ -> as -> ec\n"
     ]
    },
    {
     "name": "stdout",
     "output_type": "stream",
     "text": [
      "\u001b[1m20×12 DataFrame\u001b[0m\n",
      "\u001b[1m Row \u001b[0m│\u001b[1m fc′     \u001b[0m\u001b[1m as      \u001b[0m\u001b[1m ec      \u001b[0m\u001b[1m fpe     \u001b[0m\u001b[1m Pu      \u001b[0m\u001b[1m Mu      \u001b[0m\u001b[1m Vu      \u001b[0m\u001b[1m carbon  \u001b[0m\u001b[1m L       \u001b[0m\u001b[1m t       \u001b[0m\u001b[1m Lc      \u001b[0m\u001b[1m ID    \u001b[0m\n",
      "     │\u001b[90m Float64 \u001b[0m\u001b[90m Float64 \u001b[0m\u001b[90m Float64 \u001b[0m\u001b[90m Float64 \u001b[0m\u001b[90m Float64 \u001b[0m\u001b[90m Float64 \u001b[0m\u001b[90m Float64 \u001b[0m\u001b[90m Float64 \u001b[0m\u001b[90m Float64 \u001b[0m\u001b[90m Float64 \u001b[0m\u001b[90m Float64 \u001b[0m\u001b[90m Int64 \u001b[0m\n",
      "─────┼──────────────────────────────────────────────────────────────────────────────────────────────────────────\n",
      "   1 │    28.0     99.0     0.05      0.0  1848.29  553.008  141.784  47.7428    400.0     40.0     40.0      1\n",
      "   2 │    28.0     99.0     0.05     46.5  1845.9   566.913  141.784  47.7428    400.0     40.0     40.0      2\n",
      "   3 │    28.0     99.0     0.05     93.0  1843.5   580.812  141.784  47.7428    400.0     40.0     40.0      3\n",
      "   4 │    28.0     99.0     0.05    139.5  1841.11  594.717  141.784  47.7428    400.0     40.0     40.0      4\n",
      "   5 │    28.0     99.0     0.05    186.0  1838.71  608.569  141.784  47.7428    400.0     40.0     40.0      5\n",
      "   6 │    28.0     99.0     0.05    232.5  1836.32  622.411  141.784  47.7428    400.0     40.0     40.0      6\n",
      "   7 │    28.0     99.0     0.05    279.0  1833.93  636.214  141.784  47.7428    400.0     40.0     40.0      7\n",
      "   8 │    28.0     99.0     0.05    325.5  1831.53  650.02   141.784  47.7428    400.0     40.0     40.0      8\n",
      "   9 │    28.0     99.0     0.05    372.0  1829.14  663.762  141.784  47.7428    400.0     40.0     40.0      9\n",
      "  10 │    28.0     99.0     0.05    418.5  1826.75  677.442  141.784  47.7428    400.0     40.0     40.0     10\n",
      "  11 │    28.0     99.0     0.05    465.0  1824.35  691.143  141.784  47.7428    400.0     40.0     40.0     11\n",
      "  12 │    28.0     99.0     0.05    511.5  1821.96  704.751  141.784  47.7428    400.0     40.0     40.0     12\n",
      "  13 │    28.0     99.0     0.05    558.0  1819.56  718.349  141.784  47.7428    400.0     40.0     40.0     13\n",
      "  14 │    28.0     99.0     0.05    604.5  1817.17  723.734  141.784  47.7428    400.0     40.0     40.0     14\n",
      "  15 │    28.0     99.0     0.05    651.0  1814.78  721.727  141.784  47.7428    400.0     40.0     40.0     15\n",
      "  16 │    28.0     99.0     0.05    697.5  1812.38  719.804  141.784  47.7428    400.0     40.0     40.0     16\n",
      "  17 │    28.0     99.0     0.05    744.0  1809.99  717.882  141.784  47.7428    400.0     40.0     40.0     17\n",
      "  18 │    28.0     99.0     0.05    790.5  1807.6   716.044  141.784  47.7428    400.0     40.0     40.0     18\n",
      "  19 │    28.0     99.0     0.05    837.0  1805.2   714.206  141.784  47.7428    400.0     40.0     40.0     19\n",
      "  20 │    28.0     99.0     0.05    883.5  1802.81  712.536  141.784  47.7428    400.0     40.0     40.0     20\n"
     ]
    }
   ],
   "source": [
    "catalog = CSV.read(\"Catalogs/test_catalog.csv\", DataFrame); #load the pre-calc catalog\n",
    "catalog = CSV.read(\"Catalogs/JAN23_2_catalog_static.csv\", DataFrame); #load the pre-calc catalog\n",
    "\n",
    "sort!(catalog, [:carbon, :fc′, :as, :ec])\n",
    "\n",
    "\n",
    "println(\"The catalog was sorted by ascending order from:\\ncarbon -> fc′ -> as -> ec\")\n",
    "println(catalog[1:20,:])"
   ]
  },
  {
   "cell_type": "markdown",
   "metadata": {},
   "source": [
    "Load the demand file   "
   ]
  },
  {
   "cell_type": "code",
   "execution_count": 5,
   "metadata": {},
   "outputs": [
    {
     "name": "stdout",
     "output_type": "stream",
     "text": [
      "Demands were loads from:\n",
      "c:\\Users\\pitipatw\\dev\\ConcreteExplorer\\src\\Demands/test_input_CISBAT_dataset.json\n",
      "\u001b[1m10×8 DataFrame\u001b[0m\n",
      "\u001b[1m Row \u001b[0m│\u001b[1m vu       \u001b[0m\u001b[1m s_idx \u001b[0m\u001b[1m pu           \u001b[0m\u001b[1m e_idx \u001b[0m\u001b[1m type    \u001b[0m\u001b[1m ec_max    \u001b[0m\u001b[1m mu      \u001b[0m\u001b[1m idx   \u001b[0m\n",
      "     │\u001b[90m Float64  \u001b[0m\u001b[90m Int64 \u001b[0m\u001b[90m Float64      \u001b[0m\u001b[90m Int64 \u001b[0m\u001b[90m String  \u001b[0m\u001b[90m Float64   \u001b[0m\u001b[90m Float64 \u001b[0m\u001b[90m Int64 \u001b[0m\n",
      "─────┼──────────────────────────────────────────────────────────────────────────\n",
      "   1 │ 129.755       0  -1.4779e-15       0  primary  0.0423597  129.755      1\n",
      "   2 │ 129.755       1  -7.38948e-16      0  primary  0.117666   194.632      2\n",
      "   3 │ 129.755       2  -7.38948e-16      0  primary  0.180421   259.509      3\n",
      "   4 │  45.9809      3   1.4779e-15       0  primary  0.230625   283.246      4\n",
      "   5 │  45.9809      4   7.38948e-16      0  primary  0.268278   306.237      5\n",
      "   6 │  45.9809      5  -7.38948e-16      0  primary  0.29338    329.227      6\n",
      "   7 │  45.9809      6  -7.38948e-16      0  primary  0.305931   352.218      7\n",
      "   8 │  45.9809      7   0.0              0  primary  0.305931   352.218      8\n",
      "   9 │  45.9809      8   0.0              0  primary  0.29338    329.227      9\n",
      "  10 │  45.9809      9  -7.38948e-16      0  primary  0.268278   306.237     10\n"
     ]
    }
   ],
   "source": [
    "#load demands into a dictionary\n",
    "demand_path = joinpath(@__DIR__, \"Demands/test_input_CISBAT_dataset.json\");\n",
    "open(demand_path, \"r\") do f\n",
    "    global demands = DataFrame(JSON.parse(f, dicttype=Dict{String,Any}))\n",
    "    ns = size(demands)[1]\n",
    "    demands[!,:idx] = 1:ns\n",
    "    println(\"Demands were loads from:\\n\", demand_path)\n",
    "end\n",
    "println(demands[1:10,:])"
   ]
  },
  {
   "cell_type": "markdown",
   "metadata": {},
   "source": [
    "The demand catalog was labeled with 0 index scheme, add 1 so they are compatible with Julia 1 index scheme."
   ]
  },
  {
   "cell_type": "code",
   "execution_count": 6,
   "metadata": {},
   "outputs": [
    {
     "name": "stdout",
     "output_type": "stream",
     "text": [
      "old_min_e_idx = minimum(demands[!, \"e_idx\"]) = 0\n",
      "old_min_s_idx = minimum(demands[!, \"s_idx\"]) = 0\n",
      "old_max_e_idx = maximum(demands[!, \"e_idx\"]) = 29\n",
      "old_max_s_idx = maximum(demands[!, \"s_idx\"]) = 13\n"
     ]
    }
   ],
   "source": [
    "@show old_min_e_idx = minimum(demands[!, \"e_idx\"]);\n",
    "@show old_min_s_idx = minimum(demands[!, \"s_idx\"]);\n",
    "\n",
    "@show old_max_e_idx = maximum(demands[!, \"e_idx\"]);\n",
    "@show old_max_s_idx = maximum(demands[!, \"s_idx\"]);\n",
    "\n"
   ]
  },
  {
   "cell_type": "code",
   "execution_count": 7,
   "metadata": {},
   "outputs": [],
   "source": [
    "demands[!,\"e_idx\"] .+= 1 ;\n",
    "demands[!,\"s_idx\"] .+= 1 ;"
   ]
  },
  {
   "cell_type": "code",
   "execution_count": 8,
   "metadata": {},
   "outputs": [
    {
     "name": "stdout",
     "output_type": "stream",
     "text": [
      "new_min_e_idx = minimum(demands[!, \"e_idx\"]) = 1\n",
      "new_min_s_idx = minimum(demands[!, \"s_idx\"]) = 1\n",
      "new_max_e_idx = maximum(demands[!, \"e_idx\"]) = 30\n",
      "new_max_s_idx = maximum(demands[!, \"s_idx\"]) = 14\n"
     ]
    }
   ],
   "source": [
    "@show new_min_e_idx = minimum(demands[!, \"e_idx\"]);\n",
    "@show new_min_s_idx = minimum(demands[!, \"s_idx\"]);\n",
    "\n",
    "@show new_max_e_idx = maximum(demands[!, \"e_idx\"]);\n",
    "@show new_max_s_idx = maximum(demands[!, \"s_idx\"]);\n"
   ]
  },
  {
   "cell_type": "markdown",
   "metadata": {},
   "source": [
    "Fix redundant element indices due to Primary and Secondary labels"
   ]
  },
  {
   "cell_type": "code",
   "execution_count": 9,
   "metadata": {},
   "outputs": [],
   "source": [
    "global e_idx = 1 \n",
    "for i in 1:size(demands)[1]\n",
    "    if i !=1\n",
    "        demands[i-1, :e_idx] = e_idx\n",
    "        if demands[i,:s_idx] < demands[i-1,:s_idx]\n",
    "            global e_idx +=1 \n",
    "        end\n",
    "        \n",
    "    end\n",
    "    if i == size(demands)[1]\n",
    "        demands[i, :e_idx] = e_idx\n",
    "    end\n",
    "end"
   ]
  },
  {
   "cell_type": "markdown",
   "metadata": {},
   "source": [
    "Create a function to filter only feasible designs in a demand point"
   ]
  },
  {
   "cell_type": "code",
   "execution_count": 25,
   "metadata": {},
   "outputs": [
    {
     "data": {
      "text/plain": [
       "filter_demands"
      ]
     },
     "metadata": {},
     "output_type": "display_data"
    }
   ],
   "source": [
    "\n",
    "\"\"\"\n",
    "filter feasible demands\n",
    "\"\"\"\n",
    "function filter_demands(demands::DataFrame, catalog::DataFrame)\n",
    "\n",
    "    ns = size(demands)[1]          #total number of sections\n",
    "    ne = unique(demands[!, :e_idx]) #total number of elements\n",
    "    nc = size(catalog, 1)           #total number of available choices\n",
    "\n",
    "    output_results = Dict{Int64,Vector{Int64}}() #map between demands and indices of the feasible section.\n",
    "    demands[!, \"total_results\"] = zeros(Int64, size(demands)[1])\n",
    "    #go through each section and filter the feasible designs from the catalog.\n",
    "    for i = 1:ns\n",
    "        en = demands[i, \"e_idx\"]\n",
    "        sn = demands[i, \"s_idx\"]\n",
    "        # push!(elements_to_sections[en], sn)\n",
    "\n",
    "        pu = demands[i, \"pu\"]\n",
    "        mu = demands[i, \"mu\"]\n",
    "        vu = demands[i,\"vu\"]*0.9\n",
    "        ec_max = demands[i, \"ec_max\"]\n",
    "\n",
    "        global feasible_sections = filter([:Pu, :Mu, :Vu, :ec] => (x1, x2, x3, x4) ->\n",
    "                x1 > pu &&\n",
    "                x2 > mu &&\n",
    "                # x3 > vu && #Have not consider the shear\n",
    "                x4 <= ec_max * 1000,\n",
    "            catalog\n",
    "        )\n",
    "\n",
    "        if size(feasible_sections)[1] == 0 #if the number of feasible results = 0\n",
    "            println(feasible_sections[!, :ID])\n",
    "            println(\"section $sn: element $en\")\n",
    "            output_results[i] = [0]\n",
    "            demands[i, \"total_results\"] = 0\n",
    "            # println(outr)\n",
    "        else\n",
    "            output_results[i] = feasible_sections[!, :ID]\n",
    "            demands[i, \"total_results\"] = length(feasible_sections[!, :ID])\n",
    "            # println(outr)\n",
    "        end\n",
    "    end\n",
    "\n",
    "    return output_results\n",
    "end\n"
   ]
  },
  {
   "cell_type": "code",
   "execution_count": 51,
   "metadata": {},
   "outputs": [
    {
     "data": {
      "text/plain": [
       "find_optimum"
      ]
     },
     "metadata": {},
     "output_type": "display_data"
    }
   ],
   "source": [
    "\"\"\"\n",
    "Find the optimum result for each element.\n",
    "    \n",
    "    !! not optimum\n",
    "For the same element, will use the same fc′ steel size and post tensioning stress.\n",
    "\n",
    "\"\"\"\n",
    "function find_optimum(output_results, demands)\n",
    "    total_ns = size(demands)[1] #get total number of section points.\n",
    "    ne = unique(demands[!, :e_idx]) #number of elements\n",
    "\n",
    "    #Map element indices to indices of sections indices on those elements.\n",
    "    elements_to_sections = Dict(k => Int[] for k in unique(demands[!, \"e_idx\"]))\n",
    "    for i = 1:total_ns\n",
    "        en = demands[i, \"e_idx\"]\n",
    "        # sn = demands[i, \"s_idx\"]\n",
    "        push!(elements_to_sections[en], i)\n",
    "    end\n",
    "\n",
    "\n",
    "    #element index to list of designs\n",
    "    elements_designs = Dict(k => [[]] for k in unique(demands[!, \"e_idx\"])) \n",
    "    sections_to_designs = Dict(k => Vector{Float64}() for k in demands[!, :idx])\n",
    "\n",
    "\n",
    "\n",
    "    #find fc′, as, and fpe that appear in all sections in an element.\n",
    "    # for i in ProgressBar(ne) #loop each element\n",
    "    for i in ne\n",
    "        println(\"Element $i out of $(length(ne)) elements\")\n",
    "        sections = elements_to_sections[i] #sections associated with this element\n",
    "\n",
    "        ns = length(sections)     # number of sections in this element \n",
    "\n",
    "        #start from the middle-ish section (n/2 or (n-1)/2)\n",
    "        #note that section is in the form of 1,2,3,..., ns.\n",
    "\n",
    "        mid = div(ns, 2)\n",
    "        \n",
    "        #get the feasible designs for the middle section\n",
    "        feasible_idx = output_results[sections[mid]]\n",
    "\n",
    "        #catalog was already sorted, so I think we can leave this part, just filter, to save time.\n",
    "        mid_catalog = sort(catalog[feasible_idx, :], [:carbon, :fc′, :ec])\n",
    "        # mid_catalog = catalog[feasible_idx, :]\n",
    "\n",
    "        #now, loop each design in the sub catalog, see if as and fpe are available in all sections.\n",
    "        #if not, remove that design from the sub catalog.\n",
    "        #if yes, keep it.\n",
    "\n",
    "        #select each design, check if as and fpe exist for the the section\n",
    "        global_d = 0\n",
    "        for d_idx in 1:size(catalog)[1]\n",
    "            d = mid_catalog[d_idx, :]\n",
    "\n",
    "            all_as = true\n",
    "            all_fpe = true\n",
    "            for s in sections\n",
    "                # println(s)\n",
    "                #check if the design is available in that section.\n",
    "                #if not, remove it from the sub catalog.\n",
    "                #if yes, keep it.\n",
    "                # if !(d[:fc′] ∈ catalog[output_results[s], :fc′])\n",
    "                #     all_fc′ = false\n",
    "                # end\n",
    "                if !(d[:as] ∈ catalog[output_results[s], :as])\n",
    "                    all_as = false\n",
    "                    break\n",
    "                end\n",
    "                if !(d[:fpe] ∈ catalog[output_results[s], :fpe])\n",
    "                    all_fpe = false\n",
    "                    break\n",
    "                end\n",
    "            end\n",
    "            if all_as && all_fpe\n",
    "                #first run, found, move on.\n",
    "                global_d = d_idx\n",
    "                break\n",
    "            end\n",
    "        end\n",
    "\n",
    "        #get the first one, they will appear in the entire thing anyway.\n",
    "        this_fc′ = mid_catalog[global_d, :fc′]\n",
    "        this_fpe = mid_catalog[global_d, :fpe]\n",
    "        this_as = mid_catalog[global_d, :as]\n",
    "\n",
    "        sections_designs = Vector{Vector}(undef, ns)\n",
    "        for is in eachindex(elements_to_sections[i])\n",
    "            #current section index\n",
    "            s = elements_to_sections[i][is]\n",
    "\n",
    "            feasible_idx = output_results[s]\n",
    "            \n",
    "            fc′_fpe_as(fc′::Float64, fpe::Float64, as::Float64) = fc′ == this_fc′ && fpe == this_fpe && as == this_as\n",
    "            # fpe_as(fpe::Float64, as::Float64) = fpe == this_fpe && as == this_as\n",
    "\n",
    "            this_catalog = filter([:fc′, :fpe, :as] => fc′_fpe_as, catalog[output_results[s], :])\n",
    "\n",
    "            sort!(this_catalog, [:carbon, :ec])\n",
    "\n",
    "            #get the first one, it's the lowest carbon\n",
    "            select_ID = this_catalog[1, :ID]\n",
    "            #find lowest e for this one.\n",
    "            sections_designs[is] = collect(catalog[select_ID, :])\n",
    "            # println(sections_designs[is])\n",
    "        end\n",
    "\n",
    "        elements_designs[i] = sections_designs\n",
    "\n",
    "    end\n",
    "\n",
    "    for i in ne\n",
    "        sections = elements_to_sections[i]\n",
    "        for design in eachindex(elements_designs[i])\n",
    "            sections_to_designs[sections[design]] = elements_designs[i][design]\n",
    "        end\n",
    "    end\n",
    "\n",
    "    return elements_designs, elements_to_sections, sections_to_designs\n",
    "end"
   ]
  },
  {
   "cell_type": "code",
   "execution_count": 52,
   "metadata": {},
   "outputs": [
    {
     "data": {
      "text/plain": [
       "Dict{Int64, Vector{Int64}} with 552 entries:\n",
       "  56  => [1, 2, 3, 4, 5, 6, 7, 8, 9, 10  …  79045, 79046, 79047, 79048, 79049, …\n",
       "  35  => [1, 2, 3, 4, 5, 6, 7, 8, 9, 10  …  79045, 79046, 79047, 79048, 79049, …\n",
       "  425 => [1, 2, 3, 4, 5, 6, 7, 8, 9, 10  …  79045, 79046, 79047, 79048, 79049, …\n",
       "  429 => [1, 2, 3, 4, 5, 6, 7, 8, 9, 10  …  79045, 79046, 79047, 79048, 79049, …\n",
       "  60  => [1, 2, 3, 4, 5, 6, 7, 8, 9, 10  …  79045, 79046, 79047, 79048, 79049, …\n",
       "  220 => [1, 2, 3, 4, 5, 6, 7, 8, 9, 10  …  79045, 79046, 79047, 79048, 79049, …\n",
       "  308 => [1, 2, 3, 4, 5, 6, 7, 8, 9, 10  …  79045, 79046, 79047, 79048, 79049, …\n",
       "  67  => [1, 2, 3, 4, 5, 6, 7, 8, 9, 10  …  79045, 79046, 79047, 79048, 79049, …\n",
       "  215 => [1, 2, 3, 4, 5, 6, 7, 8, 9, 10  …  79045, 79046, 79047, 79048, 79049, …\n",
       "  73  => [1, 2, 3, 4, 5, 6, 7, 8, 9, 10  …  79045, 79046, 79047, 79048, 79049, …\n",
       "  319 => [1, 2, 3, 4, 5, 6, 7, 8, 9, 10  …  79045, 79046, 79047, 79048, 79049, …\n",
       "  251 => [1, 2, 3, 4, 5, 6, 7, 8, 9, 10  …  79045, 79046, 79047, 79048, 79049, …\n",
       "  115 => [1, 2, 3, 4, 5, 6, 7, 8, 9, 10  …  79045, 79046, 79047, 79048, 79049, …\n",
       "  112 => [1, 2, 3, 4, 5, 6, 7, 8, 9, 10  …  79045, 79046, 79047, 79048, 79049, …\n",
       "  185 => [1, 2, 3, 4, 5, 6, 7, 8, 9, 10  …  79045, 79046, 79047, 79048, 79049, …\n",
       "  348 => [1, 2, 3, 4, 5, 6, 7, 8, 9, 10  …  79045, 79046, 79047, 79048, 79049, …\n",
       "  420 => [1, 2, 3, 4, 5, 6, 7, 8, 9, 10  …  79045, 79046, 79047, 79048, 79049, …\n",
       "  404 => [1, 2, 3, 4, 5, 6, 7, 8, 9, 10  …  79045, 79046, 79047, 79048, 79049, …\n",
       "  525 => [1, 2, 3, 4, 5, 6, 7, 8, 9, 10  …  79045, 79046, 79047, 79048, 79049, …\n",
       "  ⋮   => ⋮"
      ]
     },
     "metadata": {},
     "output_type": "display_data"
    }
   ],
   "source": [
    "output_results= filter_demands(demands,catalog)\n"
   ]
  },
  {
   "cell_type": "code",
   "execution_count": 53,
   "metadata": {},
   "outputs": [
    {
     "name": "stdout",
     "output_type": "stream",
     "text": [
      "Element 1 out of 57 elements"
     ]
    },
    {
     "name": "stdout",
     "output_type": "stream",
     "text": [
      "\n",
      "Element 2 out of 57 elements\n"
     ]
    },
    {
     "name": "stdout",
     "output_type": "stream",
     "text": [
      "Element 3 out of 57 elements\n",
      "Element 4 out of 57 elements\n"
     ]
    },
    {
     "name": "stdout",
     "output_type": "stream",
     "text": [
      "Element 5 out of 57 elements\n",
      "Element 6 out of 57 elements"
     ]
    },
    {
     "name": "stdout",
     "output_type": "stream",
     "text": [
      "\n",
      "Element 7 out of 57 elements\n",
      "Element 8 out of 57 elements"
     ]
    },
    {
     "name": "stdout",
     "output_type": "stream",
     "text": [
      "\n",
      "Element 9 out of 57 elements\n",
      "Element 10 out of 57 elements"
     ]
    },
    {
     "name": "stdout",
     "output_type": "stream",
     "text": [
      "\n",
      "Element 11 out of 57 elements\n",
      "Element 12 out of 57 elements"
     ]
    },
    {
     "name": "stdout",
     "output_type": "stream",
     "text": [
      "\n",
      "Element 13 out of 57 elements\n",
      "Element 14 out of 57 elements\n"
     ]
    },
    {
     "name": "stdout",
     "output_type": "stream",
     "text": [
      "Element 15 out of 57 elements\n",
      "Element 16 out of 57 elements"
     ]
    },
    {
     "name": "stdout",
     "output_type": "stream",
     "text": [
      "\n",
      "Element 17 out of 57 elements\n",
      "Element 18 out of 57 elements\n"
     ]
    },
    {
     "name": "stdout",
     "output_type": "stream",
     "text": [
      "Element 19 out of 57 elements\n",
      "Element 20 out of 57 elements"
     ]
    },
    {
     "name": "stdout",
     "output_type": "stream",
     "text": [
      "\n",
      "Element 21 out of 57 elements\n",
      "Element 22 out of 57 elements\n"
     ]
    },
    {
     "name": "stdout",
     "output_type": "stream",
     "text": [
      "Element 23 out of 57 elements\n",
      "Element 24 out of 57 elements\n"
     ]
    },
    {
     "name": "stdout",
     "output_type": "stream",
     "text": [
      "Element 25 out of 57 elements\n",
      "Element 26 out of 57 elements"
     ]
    },
    {
     "name": "stdout",
     "output_type": "stream",
     "text": [
      "\n",
      "Element 27 out of 57 elements\n",
      "Element 28 out of 57 elements\n"
     ]
    },
    {
     "name": "stdout",
     "output_type": "stream",
     "text": [
      "Element 29 out of 57 elements\n",
      "Element 30 out of 57 elements\n"
     ]
    },
    {
     "name": "stdout",
     "output_type": "stream",
     "text": [
      "Element 31 out of 57 elements\n",
      "Element 32 out of 57 elements\n"
     ]
    },
    {
     "name": "stdout",
     "output_type": "stream",
     "text": [
      "Element 33 out of 57 elements\n",
      "Element 34 out of 57 elements\n"
     ]
    },
    {
     "name": "stdout",
     "output_type": "stream",
     "text": [
      "Element 35 out of 57 elements\n",
      "Element 36 out of 57 elements\n",
      "Element 37 out of 57 elements"
     ]
    },
    {
     "name": "stdout",
     "output_type": "stream",
     "text": [
      "\n",
      "Element 38 out of 57 elements\n",
      "Element 39 out of 57 elements"
     ]
    },
    {
     "name": "stdout",
     "output_type": "stream",
     "text": [
      "\n",
      "Element 40 out of 57 elements\n",
      "Element 41 out of 57 elements\n",
      "Element 42 out of 57 elements\n"
     ]
    },
    {
     "name": "stdout",
     "output_type": "stream",
     "text": [
      "Element 43 out of 57 elements\n",
      "Element 44 out of 57 elements\n",
      "Element 45 out of 57 elements\n"
     ]
    },
    {
     "name": "stdout",
     "output_type": "stream",
     "text": [
      "Element 46 out of 57 elements\n",
      "Element 47 out of 57 elements\n",
      "Element 48 out of 57 elements\n",
      "Element 49 out of 57 elements"
     ]
    },
    {
     "name": "stdout",
     "output_type": "stream",
     "text": [
      "\n",
      "Element 50 out of 57 elements\n",
      "Element 51 out of 57 elements\n",
      "Element 52 out of 57 elements"
     ]
    },
    {
     "name": "stdout",
     "output_type": "stream",
     "text": [
      "\n",
      "Element 53 out of 57 elements\n",
      "Element 54 out of 57 elements\n",
      "Element 55 out of 57 elements\n"
     ]
    },
    {
     "name": "stdout",
     "output_type": "stream",
     "text": [
      "Element 56 out of 57 elements\n",
      "Element 57 out of 57 elements\n"
     ]
    },
    {
     "data": {
      "text/plain": [
       "(Dict{Int64, Vector{Vector{Any}}}(5 => [[28.0, 99.0, 0.05, 372.0, 1829.1395312972115, 663.7618059422512, 141.78394818208864, 47.74279105599912, 400.0, 40.0, 40.0, 9], [28.0, 99.0, 0.05, 372.0, 1829.1395312972115, 663.7618059422512, 141.78394818208864, 47.74279105599912, 400.0, 40.0, 40.0, 9], [28.0, 99.0, 0.05, 372.0, 1829.1395312972115, 663.7618059422512, 141.78394818208864, 47.74279105599912, 400.0, 40.0, 40.0, 9], [28.0, 99.0, 0.05, 372.0, 1829.1395312972115, 663.7618059422512, 141.78394818208864, 47.74279105599912, 400.0, 40.0, 40.0, 9], [28.0, 99.0, 0.05, 372.0, 1829.1395312972115, 663.7618059422512, 141.78394818208864, 47.74279105599912, 400.0, 40.0, 40.0, 9], [28.0, 99.0, 0.05, 372.0, 1829.1395312972115, 663.7618059422512, 141.78394818208864, 47.74279105599912, 400.0, 40.0, 40.0, 9], [28.0, 99.0, 0.05, 372.0, 1829.1395312972115, 663.7618059422512, 141.78394818208864, 47.74279105599912, 400.0, 40.0, 40.0, 9], [28.0, 99.0, 0.05, 372.0, 1829.1395312972115, 663.7618059422512, 141.78394818208864, 47.74279105599912, 400.0, 40.0, 40.0, 9], [28.0, 99.0, 0.05, 372.0, 1829.1395312972115, 663.7618059422512, 141.78394818208864, 47.74279105599912, 400.0, 40.0, 40.0, 9], [28.0, 99.0, 0.05, 372.0, 1829.1395312972115, 663.7618059422512, 141.78394818208864, 47.74279105599912, 400.0, 40.0, 40.0, 9], [28.0, 99.0, 0.05, 372.0, 1829.1395312972115, 663.7618059422512, 141.78394818208864, 47.74279105599912, 400.0, 40.0, 40.0, 9], [28.0, 99.0, 0.05, 372.0, 1829.1395312972115, 663.7618059422512, 141.78394818208864, 47.74279105599912, 400.0, 40.0, 40.0, 9], [28.0, 99.0, 0.05, 372.0, 1829.1395312972115, 663.7618059422512, 141.78394818208864, 47.74279105599912, 400.0, 40.0, 40.0, 9], [28.0, 99.0, 0.05, 372.0, 1829.1395312972115, 663.7618059422512, 141.78394818208864, 47.74279105599912, 400.0, 40.0, 40.0, 9]], 56 => [[28.0, 99.0, 0.05, 0.0, 1848.2900912972116, 553.0075328753522, 141.78394818208864, 47.74279105599912, 400.0, 40.0, 40.0, 1], [28.0, 99.0, 0.05, 0.0, 1848.2900912972116, 553.0075328753522, 141.78394818208864, 47.74279105599912, 400.0, 40.0, 40.0, 1], [28.0, 99.0, 0.05, 0.0, 1848.2900912972116, 553.0075328753522, 141.78394818208864, 47.74279105599912, 400.0, 40.0, 40.0, 1], [28.0, 99.0, 0.05, 0.0, 1848.2900912972116, 553.0075328753522, 141.78394818208864, 47.74279105599912, 400.0, 40.0, 40.0, 1], [28.0, 99.0, 0.05, 0.0, 1848.2900912972116, 553.0075328753522, 141.78394818208864, 47.74279105599912, 400.0, 40.0, 40.0, 1], [28.0, 99.0, 0.05, 0.0, 1848.2900912972116, 553.0075328753522, 141.78394818208864, 47.74279105599912, 400.0, 40.0, 40.0, 1]], 16 => [[28.0, 99.0, 0.05, 0.0, 1848.2900912972116, 553.0075328753522, 141.78394818208864, 47.74279105599912, 400.0, 40.0, 40.0, 1], [28.0, 99.0, 0.05, 0.0, 1848.2900912972116, 553.0075328753522, 141.78394818208864, 47.74279105599912, 400.0, 40.0, 40.0, 1], [28.0, 99.0, 0.05, 0.0, 1848.2900912972116, 553.0075328753522, 141.78394818208864, 47.74279105599912, 400.0, 40.0, 40.0, 1], [28.0, 99.0, 0.05, 0.0, 1848.2900912972116, 553.0075328753522, 141.78394818208864, 47.74279105599912, 400.0, 40.0, 40.0, 1], [28.0, 99.0, 0.05, 0.0, 1848.2900912972116, 553.0075328753522, 141.78394818208864, 47.74279105599912, 400.0, 40.0, 40.0, 1], [28.0, 99.0, 0.05, 0.0, 1848.2900912972116, 553.0075328753522, 141.78394818208864, 47.74279105599912, 400.0, 40.0, 40.0, 1], [28.0, 99.0, 0.05, 0.0, 1848.2900912972116, 553.0075328753522, 141.78394818208864, 47.74279105599912, 400.0, 40.0, 40.0, 1], [28.0, 99.0, 0.05, 0.0, 1848.2900912972116, 553.0075328753522, 141.78394818208864, 47.74279105599912, 400.0, 40.0, 40.0, 1], [28.0, 99.0, 0.05, 0.0, 1848.2900912972116, 553.0075328753522, 141.78394818208864, 47.74279105599912, 400.0, 40.0, 40.0, 1], [28.0, 99.0, 0.05, 0.0, 1848.2900912972116, 553.0075328753522, 141.78394818208864, 47.74279105599912, 400.0, 40.0, 40.0, 1], [28.0, 99.0, 0.05, 0.0, 1848.2900912972116, 553.0075328753522, 141.78394818208864, 47.74279105599912, 400.0, 40.0, 40.0, 1]], 20 => [[28.0, 99.0, 0.05, 0.0, 1848.2900912972116, 553.0075328753522, 141.78394818208864, 47.74279105599912, 400.0, 40.0, 40.0, 1], [28.0, 99.0, 0.05, 0.0, 1848.2900912972116, 553.0075328753522, 141.78394818208864, 47.74279105599912, 400.0, 40.0, 40.0, 1], [28.0, 99.0, 0.05, 0.0, 1848.2900912972116, 553.0075328753522, 141.78394818208864, 47.74279105599912, 400.0, 40.0, 40.0, 1], [28.0, 99.0, 0.05, 0.0, 1848.2900912972116, 553.0075328753522, 141.78394818208864, 47.74279105599912, 400.0, 40.0, 40.0, 1], [28.0, 99.0, 0.05, 0.0, 1848.2900912972116, 553.0075328753522, 141.78394818208864, 47.74279105599912, 400.0, 40.0, 40.0, 1], [28.0, 99.0, 0.05, 0.0, 1848.2900912972116, 553.0075328753522, 141.78394818208864, 47.74279105599912, 400.0, 40.0, 40.0, 1], [28.0, 99.0, 0.05, 0.0, 1848.2900912972116, 553.0075328753522, 141.78394818208864, 47.74279105599912, 400.0, 40.0, 40.0, 1], [28.0, 99.0, 0.05, 0.0, 1848.2900912972116, 553.0075328753522, 141.78394818208864, 47.74279105599912, 400.0, 40.0, 40.0, 1], [28.0, 99.0, 0.05, 0.0, 1848.2900912972116, 553.0075328753522, 141.78394818208864, 47.74279105599912, 400.0, 40.0, 40.0, 1], [28.0, 99.0, 0.05, 0.0, 1848.2900912972116, 553.0075328753522, 141.78394818208864, 47.74279105599912, 400.0, 40.0, 40.0, 1], [28.0, 99.0, 0.05, 0.0, 1848.2900912972116, 553.0075328753522, 141.78394818208864, 47.74279105599912, 400.0, 40.0, 40.0, 1]], 35 => [[28.0, 99.0, 0.05, 0.0, 1848.2900912972116, 553.0075328753522, 141.78394818208864, 47.74279105599912, 400.0, 40.0, 40.0, 1], [28.0, 99.0, 0.05, 0.0, 1848.2900912972116, 553.0075328753522, 141.78394818208864, 47.74279105599912, 400.0, 40.0, 40.0, 1], [28.0, 99.0, 0.05, 0.0, 1848.2900912972116, 553.0075328753522, 141.78394818208864, 47.74279105599912, 400.0, 40.0, 40.0, 1], [28.0, 99.0, 0.05, 0.0, 1848.2900912972116, 553.0075328753522, 141.78394818208864, 47.74279105599912, 400.0, 40.0, 40.0, 1], [28.0, 99.0, 0.05, 0.0, 1848.2900912972116, 553.0075328753522, 141.78394818208864, 47.74279105599912, 400.0, 40.0, 40.0, 1], [28.0, 99.0, 0.05, 0.0, 1848.2900912972116, 553.0075328753522, 141.78394818208864, 47.74279105599912, 400.0, 40.0, 40.0, 1], [28.0, 99.0, 0.05, 0.0, 1848.2900912972116, 553.0075328753522, 141.78394818208864, 47.74279105599912, 400.0, 40.0, 40.0, 1], [28.0, 99.0, 0.05, 0.0, 1848.2900912972116, 553.0075328753522, 141.78394818208864, 47.74279105599912, 400.0, 40.0, 40.0, 1], [28.0, 99.0, 0.05, 0.0, 1848.2900912972116, 553.0075328753522, 141.78394818208864, 47.74279105599912, 400.0, 40.0, 40.0, 1], [28.0, 99.0, 0.05, 0.0, 1848.2900912972116, 553.0075328753522, 141.78394818208864, 47.74279105599912, 400.0, 40.0, 40.0, 1]], 55 => [[28.0, 99.0, 0.05, 0.0, 1848.2900912972116, 553.0075328753522, 141.78394818208864, 47.74279105599912, 400.0, 40.0, 40.0, 1], [28.0, 99.0, 0.05, 0.0, 1848.2900912972116, 553.0075328753522, 141.78394818208864, 47.74279105599912, 400.0, 40.0, 40.0, 1], [28.0, 99.0, 0.05, 0.0, 1848.2900912972116, 553.0075328753522, 141.78394818208864, 47.74279105599912, 400.0, 40.0, 40.0, 1], [28.0, 99.0, 0.05, 0.0, 1848.2900912972116, 553.0075328753522, 141.78394818208864, 47.74279105599912, 400.0, 40.0, 40.0, 1], [28.0, 99.0, 0.05, 0.0, 1848.2900912972116, 553.0075328753522, 141.78394818208864, 47.74279105599912, 400.0, 40.0, 40.0, 1], [28.0, 99.0, 0.05, 0.0, 1848.2900912972116, 553.0075328753522, 141.78394818208864, 47.74279105599912, 400.0, 40.0, 40.0, 1]], 30 => [[28.0, 99.0, 0.05, 0.0, 1848.2900912972116, 553.0075328753522, 141.78394818208864, 47.74279105599912, 400.0, 40.0, 40.0, 1], [28.0, 99.0, 0.05, 0.0, 1848.2900912972116, 553.0075328753522, 141.78394818208864, 47.74279105599912, 400.0, 40.0, 40.0, 1], [28.0, 99.0, 0.05, 0.0, 1848.2900912972116, 553.0075328753522, 141.78394818208864, 47.74279105599912, 400.0, 40.0, 40.0, 1], [28.0, 99.0, 0.05, 0.0, 1848.2900912972116, 553.0075328753522, 141.78394818208864, 47.74279105599912, 400.0, 40.0, 40.0, 1], [28.0, 99.0, 0.05, 0.0, 1848.2900912972116, 553.0075328753522, 141.78394818208864, 47.74279105599912, 400.0, 40.0, 40.0, 1], [28.0, 99.0, 0.05, 0.0, 1848.2900912972116, 553.0075328753522, 141.78394818208864, 47.74279105599912, 400.0, 40.0, 40.0, 1], [28.0, 99.0, 0.05, 0.0, 1848.2900912972116, 553.0075328753522, 141.78394818208864, 47.74279105599912, 400.0, 40.0, 40.0, 1], [28.0, 99.0, 0.05, 0.0, 1848.2900912972116, 553.0075328753522, 141.78394818208864, 47.74279105599912, 400.0, 40.0, 40.0, 1], [28.0, 99.0, 0.05, 0.0, 1848.2900912972116, 553.0075328753522, 141.78394818208864, 47.74279105599912, 400.0, 40.0, 40.0, 1], [28.0, 99.0, 0.05, 0.0, 1848.2900912972116, 553.0075328753522, 141.78394818208864, 47.74279105599912, 400.0, 40.0, 40.0, 1]], 19 => [[28.0, 99.0, 0.05, 0.0, 1848.2900912972116, 553.0075328753522, 141.78394818208864, 47.74279105599912, 400.0, 40.0, 40.0, 1], [28.0, 99.0, 0.05, 0.0, 1848.2900912972116, 553.0075328753522, 141.78394818208864, 47.74279105599912, 400.0, 40.0, 40.0, 1], [28.0, 99.0, 0.05, 0.0, 1848.2900912972116, 553.0075328753522, 141.78394818208864, 47.74279105599912, 400.0, 40.0, 40.0, 1], [28.0, 99.0, 0.05, 0.0, 1848.2900912972116, 553.0075328753522, 141.78394818208864, 47.74279105599912, 400.0, 40.0, 40.0, 1], [28.0, 99.0, 0.05, 0.0, 1848.2900912972116, 553.0075328753522, 141.78394818208864, 47.74279105599912, 400.0, 40.0, 40.0, 1], [28.0, 99.0, 0.05, 0.0, 1848.2900912972116, 553.0075328753522, 141.78394818208864, 47.74279105599912, 400.0, 40.0, 40.0, 1], [28.0, 99.0, 0.05, 0.0, 1848.2900912972116, 553.0075328753522, 141.78394818208864, 47.74279105599912, 400.0, 40.0, 40.0, 1], [28.0, 99.0, 0.05, 0.0, 1848.2900912972116, 553.0075328753522, 141.78394818208864, 47.74279105599912, 400.0, 40.0, 40.0, 1], [28.0, 99.0, 0.05, 0.0, 1848.2900912972116, 553.0075328753522, 141.78394818208864, 47.74279105599912, 400.0, 40.0, 40.0, 1], [28.0, 99.0, 0.05, 0.0, 1848.2900912972116, 553.0075328753522, 141.78394818208864, 47.74279105599912, 400.0, 40.0, 40.0, 1], [28.0, 99.0, 0.05, 0.0, 1848.2900912972116, 553.0075328753522, 141.78394818208864, 47.74279105599912, 400.0, 40.0, 40.0, 1]], 32 => [[28.0, 99.0, 0.05, 0.0, 1848.2900912972116, 553.0075328753522, 141.78394818208864, 47.74279105599912, 400.0, 40.0, 40.0, 1], [28.0, 99.0, 0.05, 0.0, 1848.2900912972116, 553.0075328753522, 141.78394818208864, 47.74279105599912, 400.0, 40.0, 40.0, 1], [28.0, 99.0, 0.05, 0.0, 1848.2900912972116, 553.0075328753522, 141.78394818208864, 47.74279105599912, 400.0, 40.0, 40.0, 1], [28.0, 99.0, 0.05, 0.0, 1848.2900912972116, 553.0075328753522, 141.78394818208864, 47.74279105599912, 400.0, 40.0, 40.0, 1], [28.0, 99.0, 0.05, 0.0, 1848.2900912972116, 553.0075328753522, 141.78394818208864, 47.74279105599912, 400.0, 40.0, 40.0, 1], [28.0, 99.0, 0.05, 0.0, 1848.2900912972116, 553.0075328753522, 141.78394818208864, 47.74279105599912, 400.0, 40.0, 40.0, 1], [28.0, 99.0, 0.05, 0.0, 1848.2900912972116, 553.0075328753522, 141.78394818208864, 47.74279105599912, 400.0, 40.0, 40.0, 1], [28.0, 99.0, 0.05, 0.0, 1848.2900912972116, 553.0075328753522, 141.78394818208864, 47.74279105599912, 400.0, 40.0, 40.0, 1], [28.0, 99.0, 0.05, 0.0, 1848.2900912972116, 553.0075328753522, 141.78394818208864, 47.74279105599912, 400.0, 40.0, 40.0, 1], [28.0, 99.0, 0.05, 0.0, 1848.2900912972116, 553.0075328753522, 141.78394818208864, 47.74279105599912, 400.0, 40.0, 40.0, 1]], 49 => [[28.0, 99.0, 0.05, 0.0, 1848.2900912972116, 553.0075328753522, 141.78394818208864, 47.74279105599912, 400.0, 40.0, 40.0, 1], [28.0, 99.0, 0.05, 0.0, 1848.2900912972116, 553.0075328753522, 141.78394818208864, 47.74279105599912, 400.0, 40.0, 40.0, 1], [28.0, 99.0, 0.05, 0.0, 1848.2900912972116, 553.0075328753522, 141.78394818208864, 47.74279105599912, 400.0, 40.0, 40.0, 1], [28.0, 99.0, 0.05, 0.0, 1848.2900912972116, 553.0075328753522, 141.78394818208864, 47.74279105599912, 400.0, 40.0, 40.0, 1], [28.0, 99.0, 0.05, 0.0, 1848.2900912972116, 553.0075328753522, 141.78394818208864, 47.74279105599912, 400.0, 40.0, 40.0, 1], [28.0, 99.0, 0.05, 0.0, 1848.2900912972116, 553.0075328753522, 141.78394818208864, 47.74279105599912, 400.0, 40.0, 40.0, 1]]…), Dict(5 => [57, 58, 59, 60, 61, 62, 63, 64, 65, 66, 67, 68, 69, 70], 56 => [541, 542, 543, 544, 545, 546], 16 => [193, 194, 195, 196, 197, 198, 199, 200, 201, 202, 203], 20 => [237, 238, 239, 240, 241, 242, 243, 244, 245, 246, 247], 35 => [395, 396, 397, 398, 399, 400, 401, 402, 403, 404], 55 => [535, 536, 537, 538, 539, 540], 30 => [345, 346, 347, 348, 349, 350, 351, 352, 353, 354], 19 => [226, 227, 228, 229, 230, 231, 232, 233, 234, 235, 236], 32 => [365, 366, 367, 368, 369, 370, 371, 372, 373, 374], 49 => [499, 500, 501, 502, 503, 504]…), Dict(56 => [28.0, 99.0, 0.05, 0.0, 1848.2900912972116, 553.0075328753522, 141.78394818208864, 47.74279105599912, 400.0, 40.0, 40.0, 1.0], 35 => [28.0, 99.0, 0.05, 0.0, 1848.2900912972116, 553.0075328753522, 141.78394818208864, 47.74279105599912, 400.0, 40.0, 40.0, 1.0], 425 => [28.0, 99.0, 0.05, 0.0, 1848.2900912972116, 553.0075328753522, 141.78394818208864, 47.74279105599912, 400.0, 40.0, 40.0, 1.0], 429 => [28.0, 99.0, 0.05, 0.0, 1848.2900912972116, 553.0075328753522, 141.78394818208864, 47.74279105599912, 400.0, 40.0, 40.0, 1.0], 60 => [28.0, 99.0, 0.05, 372.0, 1829.1395312972115, 663.7618059422512, 141.78394818208864, 47.74279105599912, 400.0, 40.0, 40.0, 9.0], 220 => [28.0, 99.0, 0.05, 0.0, 1848.2900912972116, 553.0075328753522, 141.78394818208864, 47.74279105599912, 400.0, 40.0, 40.0, 1.0], 308 => [28.0, 99.0, 0.05, 0.0, 1848.2900912972116, 553.0075328753522, 141.78394818208864, 47.74279105599912, 400.0, 40.0, 40.0, 1.0], 67 => [28.0, 99.0, 0.05, 372.0, 1829.1395312972115, 663.7618059422512, 141.78394818208864, 47.74279105599912, 400.0, 40.0, 40.0, 9.0], 215 => [28.0, 99.0, 0.05, 0.0, 1848.2900912972116, 553.0075328753522, 141.78394818208864, 47.74279105599912, 400.0, 40.0, 40.0, 1.0], 73 => [28.0, 99.0, 0.05, 0.0, 1848.2900912972116, 553.0075328753522, 141.78394818208864, 47.74279105599912, 400.0, 40.0, 40.0, 1.0]…))"
      ]
     },
     "metadata": {},
     "output_type": "display_data"
    }
   ],
   "source": [
    "elements_designs, elements_to_sections, sections_to_designs  = find_optimum(output_results, demands)\n"
   ]
  },
  {
   "cell_type": "code",
   "execution_count": 55,
   "metadata": {},
   "outputs": [],
   "source": [
    "sections_to_designs\n",
    "open(\"Results/0102_section_to_designs.json\",\"w\") do f\n",
    "    JSON.print(f, sections_to_designs)\n",
    "end"
   ]
  },
  {
   "cell_type": "markdown",
   "metadata": {},
   "source": [
    "Save the design result"
   ]
  },
  {
   "cell_type": "code",
   "execution_count": 29,
   "metadata": {},
   "outputs": [],
   "source": [
    "open(\"Results/designs_results_22_01.json\",\"w\") do f\n",
    "    JSON.print(f, elements_designs)\n",
    "end"
   ]
  },
  {
   "cell_type": "markdown",
   "metadata": {},
   "source": [
    "## 3. Visualizing the results"
   ]
  },
  {
   "cell_type": "markdown",
   "metadata": {},
   "source": [
    "Load required packages"
   ]
  },
  {
   "cell_type": "code",
   "execution_count": 30,
   "metadata": {},
   "outputs": [],
   "source": [
    "using Makie, GLMakie, CairoMakie\n",
    "using JSON\n",
    "using DataFrames, CSV"
   ]
  },
  {
   "cell_type": "markdown",
   "metadata": {},
   "source": [
    "Load back the design results"
   ]
  },
  {
   "cell_type": "code",
   "execution_count": 31,
   "metadata": {},
   "outputs": [
    {
     "name": "stdout",
     "output_type": "stream",
     "text": [
      "There are 57 elements.\n"
     ]
    }
   ],
   "source": [
    "designs = JSON.parsefile(joinpath(@__DIR__,\"Results/designs_results_22_01.json\"), dicttype = Dict{String,Vector{Vector{Float64}}});\n",
    "\n",
    "ne = length(designs)\n",
    "println(\"There are $ne elements.\")\n"
   ]
  },
  {
   "cell_type": "code",
   "execution_count": 32,
   "metadata": {},
   "outputs": [
    {
     "data": {
      "text/plain": [
       "14-element Vector{Vector{Float64}}:\n",
       " [28.0, 99.0, 0.05, 0.0, 1848.2900912972116, 553.0075328753522, 141.78394818208864, 47.74279105599912, 400.0, 40.0, 40.0, 1.0]\n",
       " [28.0, 99.0, 0.05, 0.0, 1848.2900912972116, 553.0075328753522, 141.78394818208864, 47.74279105599912, 400.0, 40.0, 40.0, 1.0]\n",
       " [28.0, 99.0, 0.05, 0.0, 1848.2900912972116, 553.0075328753522, 141.78394818208864, 47.74279105599912, 400.0, 40.0, 40.0, 1.0]\n",
       " [28.0, 99.0, 0.05, 0.0, 1848.2900912972116, 553.0075328753522, 141.78394818208864, 47.74279105599912, 400.0, 40.0, 40.0, 1.0]\n",
       " [28.0, 99.0, 0.05, 0.0, 1848.2900912972116, 553.0075328753522, 141.78394818208864, 47.74279105599912, 400.0, 40.0, 40.0, 1.0]\n",
       " [28.0, 99.0, 0.05, 0.0, 1848.2900912972116, 553.0075328753522, 141.78394818208864, 47.74279105599912, 400.0, 40.0, 40.0, 1.0]\n",
       " [28.0, 99.0, 0.05, 0.0, 1848.2900912972116, 553.0075328753522, 141.78394818208864, 47.74279105599912, 400.0, 40.0, 40.0, 1.0]\n",
       " [28.0, 99.0, 0.05, 0.0, 1848.2900912972116, 553.0075328753522, 141.78394818208864, 47.74279105599912, 400.0, 40.0, 40.0, 1.0]\n",
       " [28.0, 99.0, 0.05, 0.0, 1848.2900912972116, 553.0075328753522, 141.78394818208864, 47.74279105599912, 400.0, 40.0, 40.0, 1.0]\n",
       " [28.0, 99.0, 0.05, 0.0, 1848.2900912972116, 553.0075328753522, 141.78394818208864, 47.74279105599912, 400.0, 40.0, 40.0, 1.0]\n",
       " [28.0, 99.0, 0.05, 0.0, 1848.2900912972116, 553.0075328753522, 141.78394818208864, 47.74279105599912, 400.0, 40.0, 40.0, 1.0]\n",
       " [28.0, 99.0, 0.05, 0.0, 1848.2900912972116, 553.0075328753522, 141.78394818208864, 47.74279105599912, 400.0, 40.0, 40.0, 1.0]\n",
       " [28.0, 99.0, 0.05, 0.0, 1848.2900912972116, 553.0075328753522, 141.78394818208864, 47.74279105599912, 400.0, 40.0, 40.0, 1.0]\n",
       " [28.0, 99.0, 0.05, 0.0, 1848.2900912972116, 553.0075328753522, 141.78394818208864, 47.74279105599912, 400.0, 40.0, 40.0, 1.0]"
      ]
     },
     "metadata": {},
     "output_type": "display_data"
    }
   ],
   "source": [
    "designs[\"1\"]"
   ]
  },
  {
   "cell_type": "code",
   "execution_count": 33,
   "metadata": {},
   "outputs": [
    {
     "data": {
      "text/plain": [
       "14-element Vector{Vector{Float64}}:\n",
       " [28.0, 99.0, 0.05, 372.0, 1829.1395312972115, 663.7618059422512, 141.78394818208864, 47.74279105599912, 400.0, 40.0, 40.0, 9.0]\n",
       " [28.0, 99.0, 0.05, 372.0, 1829.1395312972115, 663.7618059422512, 141.78394818208864, 47.74279105599912, 400.0, 40.0, 40.0, 9.0]\n",
       " [28.0, 99.0, 0.05, 372.0, 1829.1395312972115, 663.7618059422512, 141.78394818208864, 47.74279105599912, 400.0, 40.0, 40.0, 9.0]\n",
       " [28.0, 99.0, 0.05, 372.0, 1829.1395312972115, 663.7618059422512, 141.78394818208864, 47.74279105599912, 400.0, 40.0, 40.0, 9.0]\n",
       " [28.0, 99.0, 0.05, 372.0, 1829.1395312972115, 663.7618059422512, 141.78394818208864, 47.74279105599912, 400.0, 40.0, 40.0, 9.0]\n",
       " [28.0, 99.0, 0.05, 372.0, 1829.1395312972115, 663.7618059422512, 141.78394818208864, 47.74279105599912, 400.0, 40.0, 40.0, 9.0]\n",
       " [28.0, 99.0, 0.05, 372.0, 1829.1395312972115, 663.7618059422512, 141.78394818208864, 47.74279105599912, 400.0, 40.0, 40.0, 9.0]\n",
       " [28.0, 99.0, 0.05, 372.0, 1829.1395312972115, 663.7618059422512, 141.78394818208864, 47.74279105599912, 400.0, 40.0, 40.0, 9.0]\n",
       " [28.0, 99.0, 0.05, 372.0, 1829.1395312972115, 663.7618059422512, 141.78394818208864, 47.74279105599912, 400.0, 40.0, 40.0, 9.0]\n",
       " [28.0, 99.0, 0.05, 372.0, 1829.1395312972115, 663.7618059422512, 141.78394818208864, 47.74279105599912, 400.0, 40.0, 40.0, 9.0]\n",
       " [28.0, 99.0, 0.05, 372.0, 1829.1395312972115, 663.7618059422512, 141.78394818208864, 47.74279105599912, 400.0, 40.0, 40.0, 9.0]\n",
       " [28.0, 99.0, 0.05, 372.0, 1829.1395312972115, 663.7618059422512, 141.78394818208864, 47.74279105599912, 400.0, 40.0, 40.0, 9.0]\n",
       " [28.0, 99.0, 0.05, 372.0, 1829.1395312972115, 663.7618059422512, 141.78394818208864, 47.74279105599912, 400.0, 40.0, 40.0, 9.0]\n",
       " [28.0, 99.0, 0.05, 372.0, 1829.1395312972115, 663.7618059422512, 141.78394818208864, 47.74279105599912, 400.0, 40.0, 40.0, 9.0]"
      ]
     },
     "metadata": {},
     "output_type": "display_data"
    }
   ],
   "source": [
    "designs[\"5\"]"
   ]
  },
  {
   "cell_type": "code",
   "execution_count": 34,
   "metadata": {},
   "outputs": [
    {
     "data": {
      "text/plain": [
       "plot_element (generic function with 1 method)"
      ]
     },
     "metadata": {},
     "output_type": "display_data"
    }
   ],
   "source": [
    "function plot_element(element_number::Int64, designs::Dict;L::Float64 = 250.0)\n",
    "\n",
    "\n",
    "sections = elements_to_sections[element_number]\n",
    "element_number = string(element_number)\n",
    "\n",
    "L = 400\n",
    "tendon_profile = L.*[i[3] for i in designs[element_number]]\n",
    "axial_capacity  = [i[5] for i in designs[element_number]]\n",
    "moment_capacity = [i[6] for i in designs[element_number]]\n",
    "shear_capacity = [i[7] for i in designs[element_number]]\n",
    "\n",
    "\n",
    "axial_demand  = [ demands[i,\"pu\"] for i in sections]\n",
    "moment_demand = [ demands[i,\"mu\"] for i in sections]\n",
    "shear_demand  = [ demands[i,\"vu\"] for i in sections]\n",
    "\n",
    "\n",
    "#plot center around x = 0 \n",
    "@show n = length(tendon_profile)\n",
    "xmax = div(n,2)*500\n",
    "@show res = mod(n+1,2)*250\n",
    "@show x_range = -xmax+res:500:xmax-res\n",
    "\n",
    "\n",
    "\n",
    "f1 = Figure(size = (1200,600))\n",
    "g = f1[1,1] = GridLayout()\n",
    "\n",
    "axs_design = Axis(g[1,1],title = \"Element $element_number\", titlesize = 20,\n",
    "aspect = DataAspect(),\n",
    "limits = (-xmax-100, xmax+100, -1.3*L, 0.6*L),\n",
    "yticks = L:-100:-L,\n",
    "# yminorticks = IntervalsBetween(2),\n",
    "# yminorgridvisible = true,\n",
    "ylabel = \"y\"\n",
    ")\n",
    "\n",
    "poly!(Rect( -xmax+res, -L, (n-1)*500, L*1.5), color = (:grey,0.2))\n",
    "tendon = lines!(axs_design, x_range, -tendon_profile)\n",
    "\n",
    "axs_axial  = Axis(g[2,1],aspect = 10,\n",
    "limits = (-xmax, xmax, nothing, nothing),ylabel = \"Axial [kN]\", \n",
    ")\n",
    "\n",
    "axs_moment = Axis(g[3,1],aspect = 10,\n",
    "limits = (-xmax, xmax, nothing, nothing),ylabel = \"Moment [kNm]\",\n",
    ")\n",
    "axs_shear  = Axis(g[4,1],aspect = 10,\n",
    "limits = (-xmax, xmax, nothing, nothing),ylabel = \"Shear [kN]\", \n",
    ")\n",
    "hidexdecorations!(axs_design, grid = false)\n",
    "hidexdecorations!(axs_axial, grid = false)\n",
    "hidexdecorations!(axs_moment, grid = false)\n",
    "\n",
    "lines!(axs_axial ,x_range, axial_capacity , color = :red)\n",
    "lines!(axs_moment,x_range, moment_capacity, color = :blue)\n",
    "lines!(axs_shear ,x_range, shear_capacity , color = :green)\n",
    "\n",
    "lines!(axs_axial ,x_range, axial_demand ,linestyle = :dash, color = :red)\n",
    "lines!(axs_moment,x_range, moment_demand,linestyle = :dash, color = :blue)\n",
    "lines!(axs_shear ,x_range, shear_demand ,linestyle = :dash, color = :green)\n",
    "\n",
    "\n",
    "# for (i, label) in enumerate([\"Axial [kN]\", \"Moment [kNm]\", \"Shear [kN]\"])\n",
    "#     Box(g[i, 2], color = :gray90)\n",
    "#     Label(g[i,2], label, rotation = pi/2, tellheight = false)\n",
    "# end\n",
    "\n",
    "rowgap!(g, 10)\n",
    "\n",
    "@show yspace = maximum(tight_yticklabel_spacing!, [axs_axial, axs_shear, axs_moment])+10\n",
    "\n",
    "axs_axial.yticklabelspace = yspace\n",
    "axs_moment.yticklabelspace = yspace\n",
    "axs_shear.yticklabelspace = yspace\n",
    "\n",
    "f1\n",
    "\n",
    "return f1\n",
    "end\n"
   ]
  },
  {
   "cell_type": "code",
   "execution_count": 35,
   "metadata": {},
   "outputs": [
    {
     "data": {
      "text/plain": [
       "11-element Vector{Vector{Float64}}:\n",
       " [28.0, 99.0, 0.05, 0.0, 1848.2900912972116, 553.0075328753522, 141.78394818208864, 47.74279105599912, 400.0, 40.0, 40.0, 1.0]\n",
       " [28.0, 99.0, 0.05, 0.0, 1848.2900912972116, 553.0075328753522, 141.78394818208864, 47.74279105599912, 400.0, 40.0, 40.0, 1.0]\n",
       " [28.0, 99.0, 0.05, 0.0, 1848.2900912972116, 553.0075328753522, 141.78394818208864, 47.74279105599912, 400.0, 40.0, 40.0, 1.0]\n",
       " [28.0, 99.0, 0.05, 0.0, 1848.2900912972116, 553.0075328753522, 141.78394818208864, 47.74279105599912, 400.0, 40.0, 40.0, 1.0]\n",
       " [28.0, 99.0, 0.05, 0.0, 1848.2900912972116, 553.0075328753522, 141.78394818208864, 47.74279105599912, 400.0, 40.0, 40.0, 1.0]\n",
       " [28.0, 99.0, 0.05, 0.0, 1848.2900912972116, 553.0075328753522, 141.78394818208864, 47.74279105599912, 400.0, 40.0, 40.0, 1.0]\n",
       " [28.0, 99.0, 0.05, 0.0, 1848.2900912972116, 553.0075328753522, 141.78394818208864, 47.74279105599912, 400.0, 40.0, 40.0, 1.0]\n",
       " [28.0, 99.0, 0.05, 0.0, 1848.2900912972116, 553.0075328753522, 141.78394818208864, 47.74279105599912, 400.0, 40.0, 40.0, 1.0]\n",
       " [28.0, 99.0, 0.05, 0.0, 1848.2900912972116, 553.0075328753522, 141.78394818208864, 47.74279105599912, 400.0, 40.0, 40.0, 1.0]\n",
       " [28.0, 99.0, 0.05, 0.0, 1848.2900912972116, 553.0075328753522, 141.78394818208864, 47.74279105599912, 400.0, 40.0, 40.0, 1.0]\n",
       " [28.0, 99.0, 0.05, 0.0, 1848.2900912972116, 553.0075328753522, 141.78394818208864, 47.74279105599912, 400.0, 40.0, 40.0, 1.0]"
      ]
     },
     "metadata": {},
     "output_type": "display_data"
    }
   ],
   "source": [
    "designs[\"11\"]"
   ]
  },
  {
   "cell_type": "code",
   "execution_count": 36,
   "metadata": {},
   "outputs": [
    {
     "name": "stdout",
     "output_type": "stream",
     "text": [
      "n = length(tendon_profile) = 11\n",
      "res = mod(n + 1, 2) * 250 = 0\n",
      "x_range = -xmax + res:500:xmax - res = -2500:500:2500\n"
     ]
    },
    {
     "name": "stdout",
     "output_type": "stream",
     "text": [
      "yspace = maximum(tight_yticklabel_spacing!, [axs_axial, axs_shear, axs_moment]) + 10 = 25.56800079345703\n"
     ]
    },
    {
     "data": {
      "image/png": "[encoded data removed]",
      "text/html": [
       "<img width=1200 height=600 style='object-fit: contain;' src=\"data:image/png;base64, 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\"/>"
      ]
     },
     "metadata": {},
     "output_type": "display_data"
    },
    {
     "name": "stderr",
     "output_type": "stream",
     "text": [
      "\n",
      "** (process:9600): WARNING **: 14:35:55.439: IDWriteFontFamily::GetFont failed with error code 88985003\n",
      "\n"
     ]
    }
   ],
   "source": [
    "plot_element(11, designs)"
   ]
  },
  {
   "cell_type": "code",
   "execution_count": 37,
   "metadata": {},
   "outputs": [
    {
     "name": "stdout",
     "output_type": "stream",
     "text": [
      "n = length(tendon_profile) = 14\n",
      "res = mod(n + 1, 2) * 250 = 250\n",
      "x_range = -xmax + res:500:xmax - res = -3250:500:3250\n"
     ]
    },
    {
     "name": "stdout",
     "output_type": "stream",
     "text": [
      "yspace = maximum(tight_yticklabel_spacing!, [axs_axial, axs_shear, axs_moment]) + 10 = 25.56800079345703\n"
     ]
    },
    {
     "name": "stdout",
     "output_type": "stream",
     "text": [
      "n = length(tendon_profile) = 14\n",
      "res = mod(n + 1, 2) * 250 = 250\n",
      "x_range = -xmax + res:500:xmax - res = -3250:500:3250"
     ]
    },
    {
     "name": "stdout",
     "output_type": "stream",
     "text": [
      "\n",
      "yspace = maximum(tight_yticklabel_spacing!, [axs_axial, axs_shear, axs_moment]) + 10 = 25.56800079345703"
     ]
    },
    {
     "name": "stdout",
     "output_type": "stream",
     "text": [
      "\n",
      "n = length(tendon_profile) = 14\n",
      "res = mod(n + 1, 2) * 250 = 250\n",
      "x_range = -xmax + res:500:xmax - res = -3250:500:3250\n"
     ]
    },
    {
     "name": "stdout",
     "output_type": "stream",
     "text": [
      "yspace = maximum(tight_yticklabel_spacing!, [axs_axial, axs_shear, axs_moment]) + 10 = 25.56800079345703\n"
     ]
    },
    {
     "name": "stdout",
     "output_type": "stream",
     "text": [
      "n = length(tendon_profile) = 14\n",
      "res = mod(n + 1, 2) * 250 = 250\n",
      "x_range = -xmax + res:500:xmax - res = -3250:500:3250\n"
     ]
    },
    {
     "name": "stdout",
     "output_type": "stream",
     "text": [
      "yspace = maximum(tight_yticklabel_spacing!, [axs_axial, axs_shear, axs_moment]) + 10 = 25.56800079345703\n"
     ]
    },
    {
     "name": "stdout",
     "output_type": "stream",
     "text": [
      "n = length(tendon_profile) = 14\n",
      "res = mod(n + 1, 2) * 250 = 250\n",
      "x_range = -xmax + res:500:xmax - res = -3250:500:3250\n"
     ]
    },
    {
     "name": "stdout",
     "output_type": "stream",
     "text": [
      "yspace = maximum(tight_yticklabel_spacing!, [axs_axial, axs_shear, axs_moment]) + 10 = 25.56800079345703\n"
     ]
    },
    {
     "name": "stdout",
     "output_type": "stream",
     "text": [
      "n = length(tendon_profile) = 14\n",
      "res = mod(n + 1, 2) * 250 = 250\n",
      "x_range = -xmax + res:500:xmax - res = -3250:500:3250\n",
      "yspace = maximum(tight_yticklabel_spacing!, [axs_axial, axs_shear, axs_moment]) + 10 = 25.56800079345703"
     ]
    },
    {
     "name": "stdout",
     "output_type": "stream",
     "text": [
      "\n",
      "n = length(tendon_profile) = 14\n",
      "res = mod(n + 1, 2) * 250 = 250\n",
      "x_range = -xmax + res:500:xmax - res = -3250:500:3250\n"
     ]
    },
    {
     "name": "stdout",
     "output_type": "stream",
     "text": [
      "yspace = maximum(tight_yticklabel_spacing!, [axs_axial, axs_shear, axs_moment]) + 10 = 25.56800079345703"
     ]
    },
    {
     "name": "stdout",
     "output_type": "stream",
     "text": [
      "\n",
      "n = length(tendon_profile) = 14\n",
      "res = mod(n + 1, 2) * 250 = 250\n",
      "x_range = -xmax + res:500:xmax - res = -3250:500:3250\n"
     ]
    },
    {
     "name": "stdout",
     "output_type": "stream",
     "text": [
      "yspace = maximum(tight_yticklabel_spacing!, [axs_axial, axs_shear, axs_moment]) + 10 = 25.56800079345703\n"
     ]
    },
    {
     "name": "stdout",
     "output_type": "stream",
     "text": [
      "n = length(tendon_profile) = 14\n",
      "res = mod(n + 1, 2) * 250 = 250\n",
      "x_range = -xmax + res:500:xmax - res = -3250:500:3250\n"
     ]
    },
    {
     "name": "stdout",
     "output_type": "stream",
     "text": [
      "yspace = maximum(tight_yticklabel_spacing!, [axs_axial, axs_shear, axs_moment]) + 10 = 25.56800079345703"
     ]
    },
    {
     "name": "stdout",
     "output_type": "stream",
     "text": [
      "\n",
      "n = length(tendon_profile) = 11\n",
      "res = mod(n + 1, 2) * 250 = 0\n",
      "x_range = -xmax + res:500:xmax - res = -2500:500:2500\n"
     ]
    },
    {
     "name": "stdout",
     "output_type": "stream",
     "text": [
      "yspace = maximum(tight_yticklabel_spacing!, [axs_axial, axs_shear, axs_moment]) + 10 = 25.56800079345703"
     ]
    },
    {
     "name": "stdout",
     "output_type": "stream",
     "text": [
      "\n",
      "n = length(tendon_profile) = 11\n",
      "res = mod(n + 1, 2) * 250 = 0\n",
      "x_range = -xmax + res:500:xmax - res = -2500:500:2500\n",
      "yspace = maximum(tight_yticklabel_spacing!, [axs_axial, axs_shear, axs_moment]) + 10 = 25.56800079345703\n"
     ]
    },
    {
     "name": "stdout",
     "output_type": "stream",
     "text": [
      "n = length(tendon_profile) = 11\n",
      "res = mod(n + 1, 2) * 250 = 0\n",
      "x_range = -xmax + res:500:xmax - res = -2500:500:2500\n",
      "yspace = maximum(tight_yticklabel_spacing!, [axs_axial, axs_shear, axs_moment]) + 10 = 25.56800079345703\n"
     ]
    },
    {
     "name": "stdout",
     "output_type": "stream",
     "text": [
      "n = length(tendon_profile) = 11\n",
      "res = mod(n + 1, 2) * 250 = 0\n",
      "x_range = -xmax + res:500:xmax - res = -2500:500:2500\n"
     ]
    },
    {
     "name": "stdout",
     "output_type": "stream",
     "text": [
      "yspace = maximum(tight_yticklabel_spacing!, [axs_axial, axs_shear, axs_moment]) + 10 = 25.56800079345703\n"
     ]
    },
    {
     "name": "stdout",
     "output_type": "stream",
     "text": [
      "n = length(tendon_profile) = 11\n",
      "res = mod(n + 1, 2) * 250 = 0\n",
      "x_range = -xmax + res:500:xmax - res = -2500:500:2500\n"
     ]
    },
    {
     "name": "stdout",
     "output_type": "stream",
     "text": [
      "yspace = maximum(tight_yticklabel_spacing!, [axs_axial, axs_shear, axs_moment]) + 10 = 25.56800079345703\n"
     ]
    },
    {
     "name": "stdout",
     "output_type": "stream",
     "text": [
      "n = length(tendon_profile) = 11\n",
      "res = mod(n + 1, 2) * 250 = 0\n",
      "x_range = -xmax + res:500:xmax - res = -2500:500:2500\n"
     ]
    },
    {
     "name": "stdout",
     "output_type": "stream",
     "text": [
      "yspace = maximum(tight_yticklabel_spacing!, [axs_axial, axs_shear, axs_moment]) + 10 = 25.56800079345703\n"
     ]
    },
    {
     "name": "stdout",
     "output_type": "stream",
     "text": [
      "n = length(tendon_profile) = 11\n",
      "res = mod(n + 1, 2) * 250 = 0\n",
      "x_range = -xmax + res:500:xmax - res = -2500:500:2500\n"
     ]
    },
    {
     "name": "stdout",
     "output_type": "stream",
     "text": [
      "yspace = maximum(tight_yticklabel_spacing!, [axs_axial, axs_shear, axs_moment]) + 10 = 25.56800079345703\n",
      "n = length(tendon_profile) = "
     ]
    },
    {
     "name": "stdout",
     "output_type": "stream",
     "text": [
      "11\n",
      "res = mod(n + 1, 2) * 250 = 0\n",
      "x_range = -xmax + res:500:xmax - res = -2500:500:2500"
     ]
    },
    {
     "name": "stdout",
     "output_type": "stream",
     "text": [
      "\n",
      "yspace = maximum(tight_yticklabel_spacing!, [axs_axial, axs_shear, axs_moment]) + 10 = 25.56800079345703\n"
     ]
    },
    {
     "name": "stdout",
     "output_type": "stream",
     "text": [
      "n = length(tendon_profile) = 11\n",
      "res = mod(n + 1, 2) * 250 = 0\n",
      "x_range = -xmax + res:500:xmax - res = -2500:500:2500\n"
     ]
    },
    {
     "name": "stdout",
     "output_type": "stream",
     "text": [
      "yspace = maximum(tight_yticklabel_spacing!, [axs_axial, axs_shear, axs_moment]) + 10 = 25.56800079345703"
     ]
    },
    {
     "name": "stdout",
     "output_type": "stream",
     "text": [
      "\n",
      "n = length(tendon_profile) = 11\n",
      "res = mod(n + 1, 2) * 250 = 0\n",
      "x_range = -xmax + res:500:xmax - res = -2500:500:2500\n"
     ]
    },
    {
     "name": "stdout",
     "output_type": "stream",
     "text": [
      "yspace = maximum(tight_yticklabel_spacing!, [axs_axial, axs_shear, axs_moment]) + 10 = 25.56800079345703\n"
     ]
    },
    {
     "name": "stdout",
     "output_type": "stream",
     "text": [
      "n = length(tendon_profile) = 11\n",
      "res = mod(n + 1, 2) * 250 = 0\n",
      "x_range = -xmax + res:500:xmax - res = -2500:500:2500"
     ]
    },
    {
     "name": "stdout",
     "output_type": "stream",
     "text": [
      "\n",
      "yspace = maximum(tight_yticklabel_spacing!, [axs_axial, axs_shear, axs_moment]) + 10 = 25.56800079345703\n"
     ]
    },
    {
     "name": "stdout",
     "output_type": "stream",
     "text": [
      "n = length(tendon_profile) = 11\n",
      "res = mod(n + 1, 2) * 250 = 0\n",
      "x_range = -xmax + res:500:xmax - res = -2500:500:2500\n"
     ]
    },
    {
     "name": "stdout",
     "output_type": "stream",
     "text": [
      "yspace = maximum(tight_yticklabel_spacing!, [axs_axial, axs_shear, axs_moment]) + 10 = 25.56800079345703"
     ]
    },
    {
     "name": "stdout",
     "output_type": "stream",
     "text": [
      "\n",
      "n = length(tendon_profile) = 11\n",
      "res = mod(n + 1, 2) * 250 = 0\n",
      "x_range = -xmax + res:500:xmax - res = -2500:500:2500\n"
     ]
    },
    {
     "name": "stdout",
     "output_type": "stream",
     "text": [
      "yspace = maximum(tight_yticklabel_spacing!, [axs_axial, axs_shear, axs_moment]) + 10 = 25.56800079345703\n"
     ]
    },
    {
     "name": "stdout",
     "output_type": "stream",
     "text": [
      "n = length(tendon_profile) = 11\n",
      "res = mod(n + 1, 2) * 250 = 0\n",
      "x_range = -xmax + res:500:xmax - res = -2500:500:2500"
     ]
    },
    {
     "name": "stdout",
     "output_type": "stream",
     "text": [
      "\n",
      "yspace = maximum(tight_yticklabel_spacing!, [axs_axial, axs_shear, axs_moment]) + 10 = 25.56800079345703"
     ]
    },
    {
     "name": "stdout",
     "output_type": "stream",
     "text": [
      "\n",
      "n = length(tendon_profile) = 11\n",
      "res = mod(n + 1, 2) * 250 = 0\n",
      "x_range = -xmax + res:500:xmax - res = -2500:500:2500\n"
     ]
    },
    {
     "name": "stdout",
     "output_type": "stream",
     "text": [
      "yspace = maximum(tight_yticklabel_spacing!, [axs_axial, axs_shear, axs_moment]) + 10 = 25.56800079345703\n"
     ]
    },
    {
     "name": "stdout",
     "output_type": "stream",
     "text": [
      "n = length(tendon_profile) = 11\n",
      "res = mod(n + 1, 2) * 250 = 0\n",
      "x_range = -xmax + res:500:xmax - res = -2500:500:2500\n"
     ]
    },
    {
     "name": "stdout",
     "output_type": "stream",
     "text": [
      "yspace = maximum(tight_yticklabel_spacing!, [axs_axial, axs_shear, axs_moment]) + 10 = 25.56800079345703\n"
     ]
    },
    {
     "name": "stdout",
     "output_type": "stream",
     "text": [
      "n = length(tendon_profile) = 11\n",
      "res = mod(n + 1, 2) * 250 = 0\n",
      "x_range = -xmax + res:500:xmax - res = -2500:500:2500\n"
     ]
    },
    {
     "name": "stdout",
     "output_type": "stream",
     "text": [
      "yspace = maximum(tight_yticklabel_spacing!, [axs_axial, axs_shear, axs_moment]) + 10 = 25.56800079345703\n"
     ]
    },
    {
     "name": "stdout",
     "output_type": "stream",
     "text": [
      "n = length(tendon_profile) = 11\n",
      "res = mod(n + 1, 2) * 250 = 0\n",
      "x_range = -xmax + res:500:xmax - res = -2500:500:2500\n"
     ]
    },
    {
     "name": "stdout",
     "output_type": "stream",
     "text": [
      "yspace = maximum(tight_yticklabel_spacing!, [axs_axial, axs_shear, axs_moment]) + 10 = 25.56800079345703"
     ]
    },
    {
     "name": "stdout",
     "output_type": "stream",
     "text": [
      "\n",
      "n = length(tendon_profile) = 10\n",
      "res = mod(n + 1, 2) * 250 = 250\n",
      "x_range = -xmax + res:500:xmax - res = -2250:500:2250\n"
     ]
    },
    {
     "name": "stdout",
     "output_type": "stream",
     "text": [
      "yspace = maximum(tight_yticklabel_spacing!, [axs_axial, axs_shear, axs_moment]) + 10 = 25.56800079345703\n"
     ]
    },
    {
     "name": "stdout",
     "output_type": "stream",
     "text": [
      "n = length(tendon_profile) = 10\n",
      "res = mod(n + 1, 2) * 250 = 250\n",
      "x_range = -xmax + res:500:xmax - res = -2250:500:2250"
     ]
    },
    {
     "name": "stdout",
     "output_type": "stream",
     "text": [
      "\n",
      "yspace = maximum(tight_yticklabel_spacing!, [axs_axial, axs_shear, axs_moment]) + 10 = 25.56800079345703\n"
     ]
    },
    {
     "name": "stdout",
     "output_type": "stream",
     "text": [
      "n = length(tendon_profile) = 10\n",
      "res = mod(n + 1, 2) * 250 = 250\n",
      "x_range = -xmax + res:500:xmax - res = -2250:500:2250"
     ]
    },
    {
     "name": "stdout",
     "output_type": "stream",
     "text": [
      "\n",
      "yspace = maximum(tight_yticklabel_spacing!, [axs_axial, axs_shear, axs_moment]) + 10 = 25.56800079345703\n"
     ]
    }
   ],
   "source": [
    "for i in 1:new_max_e_idx\n",
    "    f = plot_element(i, designs)\n",
    "    save(\"Results3/$i.png\",f)\n",
    "end"
   ]
  },
  {
   "cell_type": "code",
   "execution_count": 38,
   "metadata": {},
   "outputs": [],
   "source": []
  }
 ],
 "metadata": {
  "kernelspec": {
   "display_name": "Julia 1.9.2",
   "language": "julia",
   "name": "julia-1.9"
  },
  "language_info": {
   "file_extension": ".jl",
   "mimetype": "application/julia",
   "name": "julia",
   "version": "1.9.2"
  }
 },
 "nbformat": 4,
 "nbformat_minor": 2
}
